{
  "nbformat": 4,
  "nbformat_minor": 0,
  "metadata": {
    "colab": {
      "name": "Python101.2.ipynb",
      "version": "0.3.2",
      "provenance": [],
      "collapsed_sections": [],
      "toc_visible": true
    },
    "kernelspec": {
      "name": "python3",
      "display_name": "Python 3"
    }
  },
  "cells": [
    {
      "metadata": {
        "id": "SJlijo_JWxVv",
        "colab_type": "text"
      },
      "cell_type": "markdown",
      "source": [
        "# Python 101.2"
      ]
    },
    {
      "metadata": {
        "id": "OT8TDj2Oeq-N",
        "colab_type": "text"
      },
      "cell_type": "markdown",
      "source": [
        "## Iniciando em Python\n",
        "\n",
        "Neste notebook serão tratados mais assuntos iniciais da linguagem, como listas, tuplas e outras estruturas de dados."
      ]
    },
    {
      "metadata": {
        "id": "oZVo-FPDvU1P",
        "colab_type": "text"
      },
      "cell_type": "markdown",
      "source": [
        "## Estruturas de dados \n",
        "\n",
        "Em python temos algumas estruturas de dados, desde listas (arrays) até dicionários (hashtable).\n",
        "\n",
        "Importante notar em python, como veremos abaixo, que as Strings possuem algumas características das listas."
      ]
    },
    {
      "metadata": {
        "id": "jKA331-_wK-L",
        "colab_type": "text"
      },
      "cell_type": "markdown",
      "source": [
        "### Listas\n",
        "\n",
        "O tipo mais básico de estrutura de dados em python.\n",
        "\n",
        "Pela dinamicidade da linguagem, as listas podem aceitar todos os tipos de dados disponíveis em python, de números, String e outros objetos."
      ]
    },
    {
      "metadata": {
        "id": "n8Bu1QOv0Yb5",
        "colab_type": "code",
        "colab": {
          "base_uri": "https://localhost:8080/",
          "height": 52
        },
        "outputId": "c41a7285-345c-41aa-dd35-d8857348222a"
      },
      "cell_type": "code",
      "source": [
        "# Lista vazia\n",
        "x = []\n",
        "# Lista com 3 elementos\n",
        "y = [1, \"a\", 2.1]\n",
        "\n",
        "print(\"x is: \", type(x))\n",
        "print(\"y is: \", type(y))"
      ],
      "execution_count": 32,
      "outputs": [
        {
          "output_type": "stream",
          "text": [
            "x is:  <class 'list'>\n",
            "y is:  <class 'list'>\n"
          ],
          "name": "stdout"
        }
      ]
    },
    {
      "metadata": {
        "id": "VUduoKZBwRGn",
        "colab_type": "code",
        "colab": {
          "base_uri": "https://localhost:8080/",
          "height": 104
        },
        "outputId": "388dd2b8-6fe1-469c-b23e-3aea56e1a5d7"
      },
      "cell_type": "code",
      "source": [
        "# Podemos acessar os elementos da lista usando os laços de repetição\n",
        "for i, m in enumerate(y):\n",
        "    print(f\"item {i}\", m)\n",
        "\n",
        "# Acessar 1 item\n",
        "print(\"Soma de 2 items: \", y[0] + y[2])\n",
        "\n",
        "# Usar a função len para recuperar o tamanho da lista\n",
        "print(\"Tamanho da lista: \", len(y))"
      ],
      "execution_count": 22,
      "outputs": [
        {
          "output_type": "stream",
          "text": [
            "item 0 1\n",
            "item 1 a\n",
            "item 2 2.1\n",
            "Soma de 2 items:  3.1\n",
            "Tamanho da lista:  3\n"
          ],
          "name": "stdout"
        }
      ]
    },
    {
      "metadata": {
        "id": "Jko9qt-yyjfw",
        "colab_type": "code",
        "colab": {
          "base_uri": "https://localhost:8080/",
          "height": 34
        },
        "outputId": "23ca69d6-1a7a-40b3-bb93-20648d507184"
      },
      "cell_type": "code",
      "source": [
        "# Lista pode conter outras listas\n",
        "y = [[1, 2, 3], [4, 5, 6], \"a\"]\n",
        "print(\"Listas com listas: \", y)"
      ],
      "execution_count": 14,
      "outputs": [
        {
          "output_type": "stream",
          "text": [
            "Listas com listas:  [[1, 2, 3], [4, 5, 6], 'a']\n"
          ],
          "name": "stdout"
        }
      ]
    },
    {
      "metadata": {
        "id": "gParFLTzyppB",
        "colab_type": "code",
        "colab": {
          "base_uri": "https://localhost:8080/",
          "height": 34
        },
        "outputId": "cc14768c-70c1-4b38-d708-de58ec95d768"
      },
      "cell_type": "code",
      "source": [
        "# Concatenar duas listas\n",
        "y = [1, 2, 3] + [4, 5, 6]\n",
        "print(\"Concatenar 2 listas usando +\", y)"
      ],
      "execution_count": 15,
      "outputs": [
        {
          "output_type": "stream",
          "text": [
            "Concatenar 2 listas usando + [1, 2, 3, 4, 5, 6]\n"
          ],
          "name": "stdout"
        }
      ]
    },
    {
      "metadata": {
        "id": "IorkfH2OyrCy",
        "colab_type": "code",
        "colab": {
          "base_uri": "https://localhost:8080/",
          "height": 52
        },
        "outputId": "8511aca9-04bb-438d-9d1b-04ceaf0b6fbc"
      },
      "cell_type": "code",
      "source": [
        "# Ordenação de elementos\n",
        "y = [7, 4, 9, 5, 1, 8, 3, 10, 2, 6]\n",
        "y.sort()\n",
        "print(\"Ordenada: \", y)\n",
        "print(\"Tamanho da lista: \", len(y))"
      ],
      "execution_count": 23,
      "outputs": [
        {
          "output_type": "stream",
          "text": [
            "Ordenada:  [1, 2, 3, 4, 5, 6, 7, 8, 9, 10]\n",
            "Tamanho da lista:  10\n"
          ],
          "name": "stdout"
        }
      ]
    },
    {
      "metadata": {
        "id": "jK0wWUxGzlG-",
        "colab_type": "code",
        "colab": {
          "base_uri": "https://localhost:8080/",
          "height": 69
        },
        "outputId": "23778581-dcbb-48fd-b4a9-0e7519352e7e"
      },
      "cell_type": "code",
      "source": [
        "# Editar itens na lista e adicionar novos\n",
        "y = [\"a\", \"b\", \"c\"]\n",
        "\n",
        "# Alteração\n",
        "y[0] = \"e\"\n",
        "print(\"Lista alterada: \", y)\n",
        "\n",
        "y.append(\"a\")\n",
        "print(\"Lista item adicionado em último: \", y)\n",
        "\n",
        "y.pop()\n",
        "print(\"Lista removido último item: \", y)"
      ],
      "execution_count": 29,
      "outputs": [
        {
          "output_type": "stream",
          "text": [
            "Lista alterada:  ['e', 'b', 'c']\n",
            "Lista item adicionado em último:  ['e', 'b', 'c', 'a']\n",
            "Lista removido último item:  ['e', 'b', 'c']\n"
          ],
          "name": "stdout"
        }
      ]
    },
    {
      "metadata": {
        "id": "90s6VDMk37He",
        "colab_type": "code",
        "colab": {
          "base_uri": "https://localhost:8080/",
          "height": 34
        },
        "outputId": "c5913af3-0b8c-4bbc-ff0c-f9215287b14a"
      },
      "cell_type": "code",
      "source": [
        "# Busca um elemento dentro de uma lista usando in\n",
        "y = [7, 4, 9, 5, 1, 8, 3, 10, 2, 6]\n",
        "print(\"Busca 7 na lista: \", 7 in y)"
      ],
      "execution_count": 66,
      "outputs": [
        {
          "output_type": "stream",
          "text": [
            "Busca 7 na lista:  True\n"
          ],
          "name": "stdout"
        }
      ]
    },
    {
      "metadata": {
        "id": "cNH-Il9ezUj1",
        "colab_type": "text"
      },
      "cell_type": "markdown",
      "source": [
        "### Tuplas\n",
        "\n",
        "Tuplas possuem algumas características apresentadas acima para as listas, exceto que são imutáveis, ou seja, não podemos modificar seus itens após a definição dos mesmo."
      ]
    },
    {
      "metadata": {
        "id": "lBRPSsPz0RmG",
        "colab_type": "code",
        "colab": {
          "base_uri": "https://localhost:8080/",
          "height": 34
        },
        "outputId": "0ca64cc3-996f-427e-b705-f206429f8a70"
      },
      "cell_type": "code",
      "source": [
        "y = (1, 2, 3)\n",
        "print(\"y is: \", type(y))"
      ],
      "execution_count": 33,
      "outputs": [
        {
          "output_type": "stream",
          "text": [
            "y is:  <class 'tuple'>\n"
          ],
          "name": "stdout"
        }
      ]
    },
    {
      "metadata": {
        "id": "uH_RHtUv0l7J",
        "colab_type": "code",
        "colab": {
          "base_uri": "https://localhost:8080/",
          "height": 34
        },
        "outputId": "2560e061-e87c-4466-d301-2aac361bc9dc"
      },
      "cell_type": "code",
      "source": [
        "# Adicionar items permitido, assim como remover\n",
        "y += (9, 6)\n",
        "print(\"Adicionar itens é permitido\", y)"
      ],
      "execution_count": 43,
      "outputs": [
        {
          "output_type": "stream",
          "text": [
            "Adicionar itens é permitido (1, 2, 3, 9, 6, 9, 6, 9, 6, 9, 6, 9, 6, 9, 6)\n"
          ],
          "name": "stdout"
        }
      ]
    },
    {
      "metadata": {
        "id": "1awvfW120uTK",
        "colab_type": "code",
        "colab": {
          "base_uri": "https://localhost:8080/",
          "height": 167
        },
        "outputId": "825276df-98b9-4c23-a7c0-efbe2f7da121"
      },
      "cell_type": "code",
      "source": [
        "# Modificar items é proíbido\n",
        "y[3] = 10"
      ],
      "execution_count": 40,
      "outputs": [
        {
          "output_type": "error",
          "ename": "TypeError",
          "evalue": "ignored",
          "traceback": [
            "\u001b[0;31m---------------------------------------------------------------------------\u001b[0m",
            "\u001b[0;31mTypeError\u001b[0m                                 Traceback (most recent call last)",
            "\u001b[0;32m<ipython-input-40-c13783b7f732>\u001b[0m in \u001b[0;36m<module>\u001b[0;34m()\u001b[0m\n\u001b[0;32m----> 1\u001b[0;31m \u001b[0my\u001b[0m\u001b[0;34m[\u001b[0m\u001b[0;36m3\u001b[0m\u001b[0;34m]\u001b[0m \u001b[0;34m=\u001b[0m \u001b[0;36m10\u001b[0m\u001b[0;34m\u001b[0m\u001b[0;34m\u001b[0m\u001b[0m\n\u001b[0m",
            "\u001b[0;31mTypeError\u001b[0m: 'tuple' object does not support item assignment"
          ]
        }
      ]
    },
    {
      "metadata": {
        "id": "38bEnvBmv5AM",
        "colab_type": "text"
      },
      "cell_type": "markdown",
      "source": [
        "### Strings\n",
        "\n",
        "Strings em python, podem ser consideradas tuplas... pois seus itens não podem ser alterados da mesma maneira."
      ]
    },
    {
      "metadata": {
        "id": "VQ4UhI_sv9th",
        "colab_type": "code",
        "colab": {
          "base_uri": "https://localhost:8080/",
          "height": 104
        },
        "outputId": "8ea99662-a09f-4047-fe1d-6858305d7191"
      },
      "cell_type": "code",
      "source": [
        "x = \"Hello\"\n",
        "for m in x:\n",
        "    print(m)"
      ],
      "execution_count": 52,
      "outputs": [
        {
          "output_type": "stream",
          "text": [
            "H\n",
            "e\n",
            "l\n",
            "l\n",
            "o\n"
          ],
          "name": "stdout"
        }
      ]
    },
    {
      "metadata": {
        "id": "RbUNuFGS1uoM",
        "colab_type": "code",
        "colab": {
          "base_uri": "https://localhost:8080/",
          "height": 52
        },
        "outputId": "364d8b2e-9b57-464f-b6aa-888787360b0a"
      },
      "cell_type": "code",
      "source": [
        "print(\"Primeiro item da String: \", x[0])\n",
        "\n",
        "print(\"Tamanho da String: \", len(x))"
      ],
      "execution_count": 53,
      "outputs": [
        {
          "output_type": "stream",
          "text": [
            "Primeiro item da String:  H\n",
            "Tamanho da String:  5\n"
          ],
          "name": "stdout"
        }
      ]
    },
    {
      "metadata": {
        "id": "ROYA9RW12AMj",
        "colab_type": "code",
        "colab": {
          "base_uri": "https://localhost:8080/",
          "height": 167
        },
        "outputId": "4711231b-8773-4dac-bfe9-ed138f4a689f"
      },
      "cell_type": "code",
      "source": [
        "# Item assignment\n",
        "x[0] = \"A\""
      ],
      "execution_count": 54,
      "outputs": [
        {
          "output_type": "error",
          "ename": "TypeError",
          "evalue": "ignored",
          "traceback": [
            "\u001b[0;31m---------------------------------------------------------------------------\u001b[0m",
            "\u001b[0;31mTypeError\u001b[0m                                 Traceback (most recent call last)",
            "\u001b[0;32m<ipython-input-54-b9dbddb1d3c7>\u001b[0m in \u001b[0;36m<module>\u001b[0;34m()\u001b[0m\n\u001b[0;32m----> 1\u001b[0;31m \u001b[0mx\u001b[0m\u001b[0;34m[\u001b[0m\u001b[0;36m0\u001b[0m\u001b[0;34m]\u001b[0m \u001b[0;34m=\u001b[0m \u001b[0;34m\"A\"\u001b[0m\u001b[0;34m\u001b[0m\u001b[0;34m\u001b[0m\u001b[0m\n\u001b[0m",
            "\u001b[0;31mTypeError\u001b[0m: 'str' object does not support item assignment"
          ]
        }
      ]
    },
    {
      "metadata": {
        "id": "CPlHzVIO2ZUo",
        "colab_type": "text"
      },
      "cell_type": "markdown",
      "source": [
        "### Dicionários\n",
        "\n",
        "São estruturas de dados bem definidas, no formato key: value, nos mesmo moldes como o formato json. Tanto que em python a conversão de dicionário para json e vice-versa é bem simples e rápida usando o módulo json conforme será visto posteriormente."
      ]
    },
    {
      "metadata": {
        "id": "f29t1lcZ2s1s",
        "colab_type": "code",
        "colab": {
          "base_uri": "https://localhost:8080/",
          "height": 69
        },
        "outputId": "198ecc00-9cdb-4331-fd9a-845d67f30668"
      },
      "cell_type": "code",
      "source": [
        "x = {}\n",
        "y = {\"id\": 1}\n",
        "# O campo key pode vir a ser uma estrutura mais complexa, como uma tupla\n",
        "w = {(\"a\", 1): 3}\n",
        "\n",
        "print(\"x is: \", type(x))\n",
        "print(\"y is: \", type(y))\n",
        "print(\"w is: \", type(w))"
      ],
      "execution_count": 57,
      "outputs": [
        {
          "output_type": "stream",
          "text": [
            "x is:  <class 'dict'>\n",
            "y is:  <class 'dict'>\n",
            "w is:  <class 'dict'>\n"
          ],
          "name": "stdout"
        }
      ]
    },
    {
      "metadata": {
        "id": "s1jgEeDw3D0h",
        "colab_type": "code",
        "colab": {
          "base_uri": "https://localhost:8080/",
          "height": 69
        },
        "outputId": "59c83360-f972-48e2-c844-90bcf8b31f35"
      },
      "cell_type": "code",
      "source": [
        "x = {}\n",
        "\n",
        "# Adicionar itens\n",
        "x[\"a\"] = 10\n",
        "print(\"Item adicionado: \", x)\n",
        "\n",
        "# Adicionar DICS\n",
        "z = {**x, **{\"b\": 5}}\n",
        "print(\"Adição de dict: \", z)\n",
        "# OR\n",
        "w = x.copy()\n",
        "w.update({\"b\": 5})\n",
        "print(\"Adição de dict: \", w)"
      ],
      "execution_count": 64,
      "outputs": [
        {
          "output_type": "stream",
          "text": [
            "Item adicionado:  {'a': 10}\n",
            "Adição de dict:  {'a': 10, 'b': 5}\n",
            "Adição de dict:  {'a': 10, 'b': 5}\n"
          ],
          "name": "stdout"
        }
      ]
    },
    {
      "metadata": {
        "id": "fhRpx5S44HUM",
        "colab_type": "code",
        "colab": {
          "base_uri": "https://localhost:8080/",
          "height": 139
        },
        "outputId": "99558ce7-31db-4668-d7fc-e0a631602920"
      },
      "cell_type": "code",
      "source": [
        "# Acessar os itens de um dicionário\n",
        "x = {\n",
        "    \"a\": 1,\n",
        "    \"b\": [1, 2, 3],\n",
        "    \"c\": {\"k\": 1}\n",
        "}\n",
        "\n",
        "print(\"Chaves do dicionário: \", x.keys())\n",
        "print(\"Valores do dicionário: \", x.values())\n",
        "\n",
        "# Loop dentro do Dicionário\n",
        "print(\"-\" * 20)\n",
        "print(\"Loop: \")\n",
        "for k, v in x.items():\n",
        "    print(f\"key: {k}\", f\"value: {v}\")"
      ],
      "execution_count": 74,
      "outputs": [
        {
          "output_type": "stream",
          "text": [
            "Chaves do dicionário:  dict_keys(['a', 'b', 'c'])\n",
            "Valores do dicionário:  dict_values([1, [1, 2, 3], {'k': 1}])\n",
            "--------------------\n",
            "Loop: \n",
            "key: a value: 1\n",
            "key: b value: [1, 2, 3]\n",
            "key: c value: {'k': 1}\n"
          ],
          "name": "stdout"
        }
      ]
    },
    {
      "metadata": {
        "id": "DbMPl2tl474B",
        "colab_type": "code",
        "colab": {
          "base_uri": "https://localhost:8080/",
          "height": 52
        },
        "outputId": "e5fc85e5-13c6-4006-a11f-8dc97a967277"
      },
      "cell_type": "code",
      "source": [
        "# Buscar por uma chave dentro do dicionário\n",
        "x = {\n",
        "    \"a\": 1,\n",
        "    (\"b\", 1): [1, 2, 3],\n",
        "    \"c\": {\"k\": 1}\n",
        "}\n",
        "\n",
        "print(\"Busca chave: \\\"a\\\" in x = \", \"a\" in x)\n",
        "print(\"Busca chave: (\\\"b\\\", 1) in x = \", (\"b\", 1) in x)"
      ],
      "execution_count": 82,
      "outputs": [
        {
          "output_type": "stream",
          "text": [
            "Busca chave: \"a\" in x =  True\n",
            "Busca chave: (\"b\", 1) in x =  True\n"
          ],
          "name": "stdout"
        }
      ]
    },
    {
      "metadata": {
        "id": "5u22gs3o54s0",
        "colab_type": "text"
      },
      "cell_type": "markdown",
      "source": [
        "### Sets\n",
        "\n",
        "Os sets são outro tipo de estrutura de dados, devemos pensar nos sets exatamente como as estrutruras matemáticas que estudamos durante o ensino médio. Sets são a representação dos **Conjuntos** matemáticos na linguagem python.\n",
        "\n",
        "A grande diferença dos sets, é que eles não poderão ter valores repetidos dentro deles."
      ]
    },
    {
      "metadata": {
        "id": "NtzIjD526LPC",
        "colab_type": "code",
        "colab": {
          "base_uri": "https://localhost:8080/",
          "height": 69
        },
        "outputId": "3d6b0117-e9c2-489d-db01-f642af440139"
      },
      "cell_type": "code",
      "source": [
        "x = set()\n",
        "y = set([1, 2, 3, 4])\n",
        "w = set([1, 2, 4, \"a\"])\n",
        "print(\"x is: \", type(x))\n",
        "print(\"y is: \", type(y))\n",
        "print(\"w is: \", type(w))"
      ],
      "execution_count": 85,
      "outputs": [
        {
          "output_type": "stream",
          "text": [
            "x is:  <class 'set'>\n",
            "y is:  <class 'set'>\n",
            "w is:  <class 'set'>\n"
          ],
          "name": "stdout"
        }
      ]
    },
    {
      "metadata": {
        "id": "M_UT-EuIuuo9",
        "colab_type": "text"
      },
      "cell_type": "markdown",
      "source": [
        "## File I/O\n",
        "\n",
        "Em python é muito simples trabalhar com arquivos "
      ]
    },
    {
      "metadata": {
        "id": "-CVl5gXxODGB",
        "colab_type": "code",
        "colab": {}
      },
      "cell_type": "code",
      "source": [
        ""
      ],
      "execution_count": 0,
      "outputs": []
    }
  ]
}