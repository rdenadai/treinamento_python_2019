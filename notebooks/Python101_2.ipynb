{
  "nbformat": 4,
  "nbformat_minor": 0,
  "metadata": {
    "colab": {
      "name": "Python101.2.ipynb",
      "version": "0.3.2",
      "provenance": [],
      "collapsed_sections": [],
      "toc_visible": true
    },
    "kernelspec": {
      "name": "python3",
      "display_name": "Python 3"
    }
  },
  "cells": [
    {
      "metadata": {
        "id": "SJlijo_JWxVv",
        "colab_type": "text"
      },
      "cell_type": "markdown",
      "source": [
        "# Python 101.2"
      ]
    },
    {
      "metadata": {
        "id": "OT8TDj2Oeq-N",
        "colab_type": "text"
      },
      "cell_type": "markdown",
      "source": [
        "## Iniciando em Python\n",
        "\n",
        "Neste notebook serão tratados mais assuntos iniciais da linguagem, como listas, tuplas e outras estruturas de dados."
      ]
    },
    {
      "metadata": {
        "id": "oZVo-FPDvU1P",
        "colab_type": "text"
      },
      "cell_type": "markdown",
      "source": [
        "## Estruturas de dados \n",
        "\n",
        "Em python temos algumas estruturas de dados, desde listas (arrays) até dicionários (hashtable).\n",
        "\n",
        "Importante notar em python, como veremos abaixo, que as Strings possuem algumas características das listas."
      ]
    },
    {
      "metadata": {
        "id": "jKA331-_wK-L",
        "colab_type": "text"
      },
      "cell_type": "markdown",
      "source": [
        "### Listas\n",
        "\n",
        "O tipo mais básico de estrutura de dados em python.\n",
        "\n",
        "Pela dinamicidade da linguagem, as listas podem aceitar todos os tipos de dados disponíveis em python, de números, String e outros objetos."
      ]
    },
    {
      "metadata": {
        "id": "n8Bu1QOv0Yb5",
        "colab_type": "code",
        "outputId": "937f76cb-f1ad-403d-8f39-6384b663a345",
        "colab": {
          "base_uri": "https://localhost:8080/",
          "height": 53
        }
      },
      "cell_type": "code",
      "source": [
        "# Lista vazia\n",
        "x = []\n",
        "# Lista com 3 elementos\n",
        "y = [1, \"a\", 2.1]\n",
        "\n",
        "print(\"x is: \", type(x))\n",
        "print(\"y is: \", type(y))"
      ],
      "execution_count": 1,
      "outputs": [
        {
          "output_type": "stream",
          "text": [
            "x is:  <class 'list'>\n",
            "y is:  <class 'list'>\n"
          ],
          "name": "stdout"
        }
      ]
    },
    {
      "metadata": {
        "id": "VUduoKZBwRGn",
        "colab_type": "code",
        "outputId": "d7d9ce77-8364-4d9c-d67e-06df70decd99",
        "colab": {
          "base_uri": "https://localhost:8080/",
          "height": 106
        }
      },
      "cell_type": "code",
      "source": [
        "# Podemos acessar os elementos da lista usando os laços de repetição\n",
        "for i, m in enumerate(y):\n",
        "    print(f\"item {i}\", m)\n",
        "\n",
        "# Acessar 1 item\n",
        "print(\"Soma de 2 items: \", y[0] + y[2])\n",
        "\n",
        "# Usar a função len para recuperar o tamanho da lista\n",
        "print(\"Tamanho da lista: \", len(y))"
      ],
      "execution_count": 2,
      "outputs": [
        {
          "output_type": "stream",
          "text": [
            "item 0 1\n",
            "item 1 a\n",
            "item 2 2.1\n",
            "Soma de 2 items:  3.1\n",
            "Tamanho da lista:  3\n"
          ],
          "name": "stdout"
        }
      ]
    },
    {
      "metadata": {
        "id": "Jko9qt-yyjfw",
        "colab_type": "code",
        "outputId": "c17b3e58-03a3-4d29-d8ae-60b886b62664",
        "colab": {
          "base_uri": "https://localhost:8080/",
          "height": 35
        }
      },
      "cell_type": "code",
      "source": [
        "# Lista pode conter outras listas\n",
        "y = [[1, 2, 3], [4, 5, 6], \"a\"]\n",
        "print(\"Listas com listas: \", y)"
      ],
      "execution_count": 3,
      "outputs": [
        {
          "output_type": "stream",
          "text": [
            "Listas com listas:  [[1, 2, 3], [4, 5, 6], 'a']\n"
          ],
          "name": "stdout"
        }
      ]
    },
    {
      "metadata": {
        "id": "gParFLTzyppB",
        "colab_type": "code",
        "outputId": "e01f694b-bd7d-45f1-e6bb-d9a3b23bb0cc",
        "colab": {
          "base_uri": "https://localhost:8080/",
          "height": 35
        }
      },
      "cell_type": "code",
      "source": [
        "# Concatenar duas listas\n",
        "y = [1, 2, 3] + [4, 5, 6]\n",
        "print(\"Concatenar 2 listas usando +\", y)"
      ],
      "execution_count": 4,
      "outputs": [
        {
          "output_type": "stream",
          "text": [
            "Concatenar 2 listas usando + [1, 2, 3, 4, 5, 6]\n"
          ],
          "name": "stdout"
        }
      ]
    },
    {
      "metadata": {
        "id": "IorkfH2OyrCy",
        "colab_type": "code",
        "outputId": "2a5757ca-c3ae-49c3-b8a2-f27497413aab",
        "colab": {
          "base_uri": "https://localhost:8080/",
          "height": 53
        }
      },
      "cell_type": "code",
      "source": [
        "# Ordenação de elementos\n",
        "y = [7, 4, 9, 5, 1, 8, 3, 10, 2, 6]\n",
        "y.sort()\n",
        "print(\"Ordenada: \", y)\n",
        "print(\"Tamanho da lista: \", len(y))"
      ],
      "execution_count": 5,
      "outputs": [
        {
          "output_type": "stream",
          "text": [
            "Ordenada:  [1, 2, 3, 4, 5, 6, 7, 8, 9, 10]\n",
            "Tamanho da lista:  10\n"
          ],
          "name": "stdout"
        }
      ]
    },
    {
      "metadata": {
        "id": "jK0wWUxGzlG-",
        "colab_type": "code",
        "outputId": "f7e34d4c-44e5-4e58-9bd9-b90b3420a98d",
        "colab": {
          "base_uri": "https://localhost:8080/",
          "height": 71
        }
      },
      "cell_type": "code",
      "source": [
        "# Editar itens na lista e adicionar novos\n",
        "y = [\"a\", \"b\", \"c\"]\n",
        "\n",
        "# Alteração\n",
        "y[0] = \"e\"\n",
        "print(\"Lista alterada: \", y)\n",
        "\n",
        "y.append(\"a\")\n",
        "print(\"Lista item adicionado em último: \", y)\n",
        "\n",
        "y.pop()\n",
        "print(\"Lista removido último item: \", y)"
      ],
      "execution_count": 6,
      "outputs": [
        {
          "output_type": "stream",
          "text": [
            "Lista alterada:  ['e', 'b', 'c']\n",
            "Lista item adicionado em último:  ['e', 'b', 'c', 'a']\n",
            "Lista removido último item:  ['e', 'b', 'c']\n"
          ],
          "name": "stdout"
        }
      ]
    },
    {
      "metadata": {
        "id": "90s6VDMk37He",
        "colab_type": "code",
        "outputId": "c3ce6f60-fcfa-4f69-cb20-ee07511d8976",
        "colab": {
          "base_uri": "https://localhost:8080/",
          "height": 35
        }
      },
      "cell_type": "code",
      "source": [
        "# Busca um elemento dentro de uma lista usando in\n",
        "y = [7, 4, 9, 5, 1, 8, 3, 10, 2, 6]\n",
        "print(\"Busca 7 na lista: \", 7 in y)"
      ],
      "execution_count": 7,
      "outputs": [
        {
          "output_type": "stream",
          "text": [
            "Busca 7 na lista:  True\n"
          ],
          "name": "stdout"
        }
      ]
    },
    {
      "metadata": {
        "id": "6aSQdfbBRvZK",
        "colab_type": "text"
      },
      "cell_type": "markdown",
      "source": [
        "#### Slicing\n",
        "\n",
        "Em python para conseguirmos pegar alguns itens de uma estrutura de dados, podemos usar o chamado slice, que em python é feito da seguinte maneira."
      ]
    },
    {
      "metadata": {
        "id": "9hf4OLOtRxwF",
        "colab_type": "code",
        "outputId": "a38a4bf6-3b0d-421f-ca54-28c75d52a547",
        "colab": {
          "base_uri": "https://localhost:8080/",
          "height": 106
        }
      },
      "cell_type": "code",
      "source": [
        "x = [1, 2, 3, 4, 5, 6, 7, 8, 9, 10]\n",
        "# Pegando apenas o primeiro item\n",
        "print('Primeiro item: ', x[0])\n",
        "print('Primeiros 3 itens: ', x[:3])\n",
        "print('Últimos 3 itens: ', x[7:])\n",
        "print('Itens 4, 5 e 6: ', x[3:6])\n",
        "print('Apenas items pares: ', x[1::2])"
      ],
      "execution_count": 34,
      "outputs": [
        {
          "output_type": "stream",
          "text": [
            "Primeiro item:  1\n",
            "Primeiros 3 itens:  [1, 2, 3]\n",
            "Últimos 3 itens:  [8, 9, 10]\n",
            "Itens 4, 5 e 6:  [4, 5, 6]\n",
            "Apenas items pares:  [2, 4, 6, 8, 10]\n"
          ],
          "name": "stdout"
        }
      ]
    },
    {
      "metadata": {
        "id": "cNH-Il9ezUj1",
        "colab_type": "text"
      },
      "cell_type": "markdown",
      "source": [
        "### Tuplas\n",
        "\n",
        "Tuplas possuem algumas características apresentadas acima para as listas, exceto que são imutáveis, ou seja, não podemos modificar seus itens após a definição dos mesmo."
      ]
    },
    {
      "metadata": {
        "id": "lBRPSsPz0RmG",
        "colab_type": "code",
        "outputId": "19099782-c9b9-42ea-9b8d-d7a85f23a0f4",
        "colab": {
          "base_uri": "https://localhost:8080/",
          "height": 35
        }
      },
      "cell_type": "code",
      "source": [
        "y = (1, 2, 3)\n",
        "print(\"y is: \", type(y))"
      ],
      "execution_count": 9,
      "outputs": [
        {
          "output_type": "stream",
          "text": [
            "y is:  <class 'tuple'>\n"
          ],
          "name": "stdout"
        }
      ]
    },
    {
      "metadata": {
        "id": "uH_RHtUv0l7J",
        "colab_type": "code",
        "outputId": "26fa7e49-594b-40dd-aaee-1056e7292c27",
        "colab": {
          "base_uri": "https://localhost:8080/",
          "height": 35
        }
      },
      "cell_type": "code",
      "source": [
        "# Adicionar items permitido, assim como remover\n",
        "y += (9, 6)\n",
        "print(\"Adicionar itens é permitido\", y)"
      ],
      "execution_count": 12,
      "outputs": [
        {
          "output_type": "stream",
          "text": [
            "Adicionar itens é permitido (1, 2, 3, 9, 6, 9, 6)\n"
          ],
          "name": "stdout"
        }
      ]
    },
    {
      "metadata": {
        "id": "1awvfW120uTK",
        "colab_type": "code",
        "outputId": "be1af1f3-f8b2-4217-fabe-a701cec85585",
        "colab": {
          "base_uri": "https://localhost:8080/",
          "height": 171
        }
      },
      "cell_type": "code",
      "source": [
        "# Modificar items é proíbido\n",
        "y[3] = 10"
      ],
      "execution_count": 13,
      "outputs": [
        {
          "output_type": "error",
          "ename": "TypeError",
          "evalue": "ignored",
          "traceback": [
            "\u001b[0;31m---------------------------------------------------------------------------\u001b[0m",
            "\u001b[0;31mTypeError\u001b[0m                                 Traceback (most recent call last)",
            "\u001b[0;32m<ipython-input-13-c13783b7f732>\u001b[0m in \u001b[0;36m<module>\u001b[0;34m()\u001b[0m\n\u001b[0;32m----> 1\u001b[0;31m \u001b[0my\u001b[0m\u001b[0;34m[\u001b[0m\u001b[0;36m3\u001b[0m\u001b[0;34m]\u001b[0m \u001b[0;34m=\u001b[0m \u001b[0;36m10\u001b[0m\u001b[0;34m\u001b[0m\u001b[0;34m\u001b[0m\u001b[0m\n\u001b[0m",
            "\u001b[0;31mTypeError\u001b[0m: 'tuple' object does not support item assignment"
          ]
        }
      ]
    },
    {
      "metadata": {
        "id": "38bEnvBmv5AM",
        "colab_type": "text"
      },
      "cell_type": "markdown",
      "source": [
        "### Strings\n",
        "\n",
        "Strings em python, podem ser consideradas tuplas... pois seus itens não podem ser alterados da mesma maneira."
      ]
    },
    {
      "metadata": {
        "id": "VQ4UhI_sv9th",
        "colab_type": "code",
        "outputId": "fcec7562-2500-40e8-dba6-5b3946875d5d",
        "colab": {
          "base_uri": "https://localhost:8080/",
          "height": 106
        }
      },
      "cell_type": "code",
      "source": [
        "x = \"Hello\"\n",
        "for m in x:\n",
        "    print(m)"
      ],
      "execution_count": 14,
      "outputs": [
        {
          "output_type": "stream",
          "text": [
            "H\n",
            "e\n",
            "l\n",
            "l\n",
            "o\n"
          ],
          "name": "stdout"
        }
      ]
    },
    {
      "metadata": {
        "id": "RbUNuFGS1uoM",
        "colab_type": "code",
        "outputId": "fa8a7035-def2-464c-8136-b7861a985c0a",
        "colab": {
          "base_uri": "https://localhost:8080/",
          "height": 53
        }
      },
      "cell_type": "code",
      "source": [
        "print(\"Primeiro item da String: \", x[0])\n",
        "\n",
        "print(\"Tamanho da String: \", len(x))"
      ],
      "execution_count": 15,
      "outputs": [
        {
          "output_type": "stream",
          "text": [
            "Primeiro item da String:  H\n",
            "Tamanho da String:  5\n"
          ],
          "name": "stdout"
        }
      ]
    },
    {
      "metadata": {
        "id": "ROYA9RW12AMj",
        "colab_type": "code",
        "outputId": "2b309e30-cb12-4894-fdc3-d6d5082da1bd",
        "colab": {
          "base_uri": "https://localhost:8080/",
          "height": 171
        }
      },
      "cell_type": "code",
      "source": [
        "# Item assignment\n",
        "x[0] = \"A\""
      ],
      "execution_count": 16,
      "outputs": [
        {
          "output_type": "error",
          "ename": "TypeError",
          "evalue": "ignored",
          "traceback": [
            "\u001b[0;31m---------------------------------------------------------------------------\u001b[0m",
            "\u001b[0;31mTypeError\u001b[0m                                 Traceback (most recent call last)",
            "\u001b[0;32m<ipython-input-16-b9dbddb1d3c7>\u001b[0m in \u001b[0;36m<module>\u001b[0;34m()\u001b[0m\n\u001b[0;32m----> 1\u001b[0;31m \u001b[0mx\u001b[0m\u001b[0;34m[\u001b[0m\u001b[0;36m0\u001b[0m\u001b[0;34m]\u001b[0m \u001b[0;34m=\u001b[0m \u001b[0;34m\"A\"\u001b[0m\u001b[0;34m\u001b[0m\u001b[0;34m\u001b[0m\u001b[0m\n\u001b[0m",
            "\u001b[0;31mTypeError\u001b[0m: 'str' object does not support item assignment"
          ]
        }
      ]
    },
    {
      "metadata": {
        "id": "CPlHzVIO2ZUo",
        "colab_type": "text"
      },
      "cell_type": "markdown",
      "source": [
        "### Dicionários\n",
        "\n",
        "São estruturas de dados bem definidas, no formato key: value, nos mesmo moldes como o formato json. Tanto que em python a conversão de dicionário para json e vice-versa é bem simples e rápida usando o módulo json conforme será visto posteriormente."
      ]
    },
    {
      "metadata": {
        "id": "f29t1lcZ2s1s",
        "colab_type": "code",
        "outputId": "308febaf-9907-4266-f7e4-036b4d0a72f3",
        "colab": {
          "base_uri": "https://localhost:8080/",
          "height": 71
        }
      },
      "cell_type": "code",
      "source": [
        "x = {}\n",
        "y = {\"id\": 1}\n",
        "# O campo key pode vir a ser uma estrutura mais complexa, como uma tupla\n",
        "w = {(\"a\", 1): 3}\n",
        "\n",
        "print(\"x is: \", type(x))\n",
        "print(\"y is: \", type(y))\n",
        "print(\"w is: \", type(w))"
      ],
      "execution_count": 17,
      "outputs": [
        {
          "output_type": "stream",
          "text": [
            "x is:  <class 'dict'>\n",
            "y is:  <class 'dict'>\n",
            "w is:  <class 'dict'>\n"
          ],
          "name": "stdout"
        }
      ]
    },
    {
      "metadata": {
        "id": "s1jgEeDw3D0h",
        "colab_type": "code",
        "outputId": "92652574-4e70-40a1-e8b3-d64a1048e50d",
        "colab": {
          "base_uri": "https://localhost:8080/",
          "height": 71
        }
      },
      "cell_type": "code",
      "source": [
        "x = {}\n",
        "\n",
        "# Adicionar itens\n",
        "x[\"a\"] = 10\n",
        "print(\"Item adicionado: \", x)\n",
        "\n",
        "# Adicionar DICS\n",
        "z = {**x, **{\"b\": 5}}\n",
        "print(\"Adição de dict: \", z)\n",
        "# OR\n",
        "w = x.copy()\n",
        "w.update({\"b\": 5})\n",
        "print(\"Adição de dict: \", w)"
      ],
      "execution_count": 18,
      "outputs": [
        {
          "output_type": "stream",
          "text": [
            "Item adicionado:  {'a': 10}\n",
            "Adição de dict:  {'a': 10, 'b': 5}\n",
            "Adição de dict:  {'a': 10, 'b': 5}\n"
          ],
          "name": "stdout"
        }
      ]
    },
    {
      "metadata": {
        "id": "fhRpx5S44HUM",
        "colab_type": "code",
        "outputId": "f0338268-b5c6-46c3-8eb3-de1fe6b4af8d",
        "colab": {
          "base_uri": "https://localhost:8080/",
          "height": 142
        }
      },
      "cell_type": "code",
      "source": [
        "# Acessar os itens de um dicionário\n",
        "x = {\n",
        "    \"a\": 1,\n",
        "    \"b\": [1, 2, 3],\n",
        "    \"c\": {\"k\": 1}\n",
        "}\n",
        "\n",
        "print(\"Chaves do dicionário: \", x.keys())\n",
        "print(\"Valores do dicionário: \", x.values())\n",
        "\n",
        "# Loop dentro do Dicionário\n",
        "print(\"-\" * 20)\n",
        "print(\"Loop: \")\n",
        "for k, v in x.items():\n",
        "    print(f\"key: {k}\", f\"value: {v}\")"
      ],
      "execution_count": 19,
      "outputs": [
        {
          "output_type": "stream",
          "text": [
            "Chaves do dicionário:  dict_keys(['a', 'b', 'c'])\n",
            "Valores do dicionário:  dict_values([1, [1, 2, 3], {'k': 1}])\n",
            "--------------------\n",
            "Loop: \n",
            "key: a value: 1\n",
            "key: b value: [1, 2, 3]\n",
            "key: c value: {'k': 1}\n"
          ],
          "name": "stdout"
        }
      ]
    },
    {
      "metadata": {
        "id": "DbMPl2tl474B",
        "colab_type": "code",
        "outputId": "3f349ebe-2b7a-4983-d1c3-830d522741d6",
        "colab": {
          "base_uri": "https://localhost:8080/",
          "height": 53
        }
      },
      "cell_type": "code",
      "source": [
        "# Buscar por uma chave dentro do dicionário\n",
        "x = {\n",
        "    \"a\": 1,\n",
        "    (\"b\", 1): [1, 2, 3],\n",
        "    \"c\": {\"k\": 1}\n",
        "}\n",
        "\n",
        "print(\"Busca chave: \\\"a\\\" in x = \", \"a\" in x)\n",
        "print(\"Busca chave: (\\\"b\\\", 1) in x = \", (\"b\", 1) in x)"
      ],
      "execution_count": 20,
      "outputs": [
        {
          "output_type": "stream",
          "text": [
            "Busca chave: \"a\" in x =  True\n",
            "Busca chave: (\"b\", 1) in x =  True\n"
          ],
          "name": "stdout"
        }
      ]
    },
    {
      "metadata": {
        "id": "5u22gs3o54s0",
        "colab_type": "text"
      },
      "cell_type": "markdown",
      "source": [
        "### Sets\n",
        "\n",
        "Os sets são outro tipo de estrutura de dados, devemos pensar nos sets exatamente como as estrutruras matemáticas que estudamos durante o ensino médio. Sets são a representação dos **Conjuntos** matemáticos na linguagem python.\n",
        "\n",
        "A grande diferença dos sets, é que eles não poderão ter valores repetidos dentro deles."
      ]
    },
    {
      "metadata": {
        "id": "NtzIjD526LPC",
        "colab_type": "code",
        "outputId": "62b3a987-5069-43c4-c741-f0ed237523dc",
        "colab": {
          "base_uri": "https://localhost:8080/",
          "height": 71
        }
      },
      "cell_type": "code",
      "source": [
        "x = set()\n",
        "y = set([1, 2, 3, 4])\n",
        "w = set([1, 2, 4, \"a\"])\n",
        "print(\"x is: \", type(x))\n",
        "print(\"y is: \", type(y))\n",
        "print(\"w is: \", type(w))"
      ],
      "execution_count": 21,
      "outputs": [
        {
          "output_type": "stream",
          "text": [
            "x is:  <class 'set'>\n",
            "y is:  <class 'set'>\n",
            "w is:  <class 'set'>\n"
          ],
          "name": "stdout"
        }
      ]
    },
    {
      "metadata": {
        "id": "S5DJDqoFAUSV",
        "colab_type": "text"
      },
      "cell_type": "markdown",
      "source": [
        "## Compreensão de Listas (List Comprehension)\n",
        "\n",
        "Em python existe uma outra maneira de criação das estruturas de dados apresentadas acima, são chamadas de Comprehension."
      ]
    },
    {
      "metadata": {
        "id": "EKf03n8wAxpm",
        "colab_type": "text"
      },
      "cell_type": "markdown",
      "source": [
        "### List Comprehension"
      ]
    },
    {
      "metadata": {
        "id": "AG8iY7w4A2jk",
        "colab_type": "code",
        "outputId": "4483fcf9-4ba3-4089-be1b-8556ecc89fe2",
        "colab": {
          "base_uri": "https://localhost:8080/",
          "height": 35
        }
      },
      "cell_type": "code",
      "source": [
        "# Modo normal\n",
        "k = [x for x in range(10)]\n",
        "print(k)"
      ],
      "execution_count": 22,
      "outputs": [
        {
          "output_type": "stream",
          "text": [
            "[0, 1, 2, 3, 4, 5, 6, 7, 8, 9]\n"
          ],
          "name": "stdout"
        }
      ]
    },
    {
      "metadata": {
        "id": "3spuWvwBBHi9",
        "colab_type": "code",
        "outputId": "0c89fadd-44ac-43ba-d54d-809dcf1641fe",
        "colab": {
          "base_uri": "https://localhost:8080/",
          "height": 35
        }
      },
      "cell_type": "code",
      "source": [
        "# Podemos adicionar ou não itens usando if / else\n",
        "k = [x for x in range(10) if x % 3 == 0]\n",
        "print(k)"
      ],
      "execution_count": 23,
      "outputs": [
        {
          "output_type": "stream",
          "text": [
            "[0, 3, 6, 9]\n"
          ],
          "name": "stdout"
        }
      ]
    },
    {
      "metadata": {
        "id": "Y5oduHT9BhwX",
        "colab_type": "code",
        "outputId": "1154f766-8c24-442d-d8bc-4326e59a8aaf",
        "colab": {
          "base_uri": "https://localhost:8080/",
          "height": 53
        }
      },
      "cell_type": "code",
      "source": [
        "k = [x**x if x % 3 == 0 else str(x) for x in range(10)]\n",
        "print(type(k))\n",
        "print(k)"
      ],
      "execution_count": 24,
      "outputs": [
        {
          "output_type": "stream",
          "text": [
            "<class 'list'>\n",
            "[1, '1', '2', 27, '4', '5', 46656, '7', '8', 387420489]\n"
          ],
          "name": "stdout"
        }
      ]
    },
    {
      "metadata": {
        "id": "F2KhJQy1BR2v",
        "colab_type": "text"
      },
      "cell_type": "markdown",
      "source": [
        "### Dictionary Comprehensions"
      ]
    },
    {
      "metadata": {
        "id": "Gnl1Q67oCvVH",
        "colab_type": "code",
        "outputId": "f1aff09a-a361-450f-ba94-a6202f07e6e3",
        "colab": {
          "base_uri": "https://localhost:8080/",
          "height": 53
        }
      },
      "cell_type": "code",
      "source": [
        "k = {str(i): x for i, x in enumerate(range(10))}\n",
        "print(type(k))\n",
        "print(k)"
      ],
      "execution_count": 25,
      "outputs": [
        {
          "output_type": "stream",
          "text": [
            "<class 'dict'>\n",
            "{'0': 0, '1': 1, '2': 2, '3': 3, '4': 4, '5': 5, '6': 6, '7': 7, '8': 8, '9': 9}\n"
          ],
          "name": "stdout"
        }
      ]
    },
    {
      "metadata": {
        "id": "HJkCAOq1QY0K",
        "colab_type": "text"
      },
      "cell_type": "markdown",
      "source": [
        "### Set Comprehensions"
      ]
    },
    {
      "metadata": {
        "id": "ZD6yJUcMCvgS",
        "colab_type": "code",
        "outputId": "8b25dd5f-d813-4616-adfa-d76dd8b84c80",
        "colab": {
          "base_uri": "https://localhost:8080/",
          "height": 53
        }
      },
      "cell_type": "code",
      "source": [
        "k = {x for x in range(10)}\n",
        "print(type(k))\n",
        "print(k)"
      ],
      "execution_count": 26,
      "outputs": [
        {
          "output_type": "stream",
          "text": [
            "<class 'set'>\n",
            "{0, 1, 2, 3, 4, 5, 6, 7, 8, 9}\n"
          ],
          "name": "stdout"
        }
      ]
    },
    {
      "metadata": {
        "id": "M_UT-EuIuuo9",
        "colab_type": "text"
      },
      "cell_type": "markdown",
      "source": [
        "## File I/O\n",
        "\n",
        "Em python é muito simples trabalhar com arquivos."
      ]
    },
    {
      "metadata": {
        "id": "0FY9TTqPRY3L",
        "colab_type": "code",
        "outputId": "c9c1c61f-9489-40d9-c518-fd34b637d432",
        "colab": {
          "base_uri": "https://localhost:8080/",
          "height": 251
        }
      },
      "cell_type": "code",
      "source": [
        "!wget https://raw.githubusercontent.com/rdenadai/sentiment-analysis-2018-president-election/master/dataset/emocoes/tristeza\n",
        "!ls"
      ],
      "execution_count": 27,
      "outputs": [
        {
          "output_type": "stream",
          "text": [
            "--2019-02-04 16:24:47--  https://raw.githubusercontent.com/rdenadai/sentiment-analysis-2018-president-election/master/dataset/emocoes/tristeza\n",
            "Resolving raw.githubusercontent.com (raw.githubusercontent.com)... 151.101.0.133, 151.101.64.133, 151.101.128.133, ...\n",
            "Connecting to raw.githubusercontent.com (raw.githubusercontent.com)|151.101.0.133|:443... connected.\n",
            "HTTP request sent, awaiting response... 200 OK\n",
            "Length: 2524 (2.5K) [text/plain]\n",
            "Saving to: ‘tristeza’\n",
            "\n",
            "\rtristeza              0%[                    ]       0  --.-KB/s               \rtristeza            100%[===================>]   2.46K  --.-KB/s    in 0s      \n",
            "\n",
            "2019-02-04 16:24:47 (56.7 MB/s) - ‘tristeza’ saved [2524/2524]\n",
            "\n",
            "sample_data  tristeza\n"
          ],
          "name": "stdout"
        }
      ]
    },
    {
      "metadata": {
        "id": "-CVl5gXxODGB",
        "colab_type": "code",
        "outputId": "bb94b96c-95ee-44c3-e02d-cbe1ab9d1313",
        "colab": {
          "base_uri": "https://localhost:8080/",
          "height": 35
        }
      },
      "cell_type": "code",
      "source": [
        "fh = open('tristeza', 'r')\n",
        "data = fh.read()\n",
        "print(data[:10])\n",
        "fh.close()"
      ],
      "execution_count": 28,
      "outputs": [
        {
          "output_type": "stream",
          "text": [
            "abandonado\n"
          ],
          "name": "stdout"
        }
      ]
    },
    {
      "metadata": {
        "id": "KjHpC8zQRWAc",
        "colab_type": "code",
        "colab": {}
      },
      "cell_type": "code",
      "source": [
        ""
      ],
      "execution_count": 0,
      "outputs": []
    }
  ]
}