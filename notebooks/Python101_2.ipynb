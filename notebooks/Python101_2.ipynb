{
  "nbformat": 4,
  "nbformat_minor": 0,
  "metadata": {
    "colab": {
      "name": "Python101.2.ipynb",
      "version": "0.3.2",
      "provenance": [],
      "collapsed_sections": [],
      "toc_visible": true
    },
    "kernelspec": {
      "name": "python3",
      "display_name": "Python 3"
    }
  },
  "cells": [
    {
      "metadata": {
        "id": "SJlijo_JWxVv",
        "colab_type": "text"
      },
      "cell_type": "markdown",
      "source": [
        "# Python 101.2"
      ]
    },
    {
      "metadata": {
        "id": "OT8TDj2Oeq-N",
        "colab_type": "text"
      },
      "cell_type": "markdown",
      "source": [
        "## Iniciando em Python\n",
        "\n",
        "Neste notebook serão tratados mais assuntos iniciais da linguagem, como listas, tuplas e outras estruturas de dados."
      ]
    },
    {
      "metadata": {
        "id": "-CVl5gXxODGB",
        "colab_type": "code",
        "colab": {}
      },
      "cell_type": "code",
      "source": [
        ""
      ],
      "execution_count": 0,
      "outputs": []
    }
  ]
}