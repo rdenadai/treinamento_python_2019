{
 "cells": [
  {
   "cell_type": "markdown",
   "metadata": {
    "colab_type": "text",
    "id": "XUIWjez6ItDl"
   },
   "source": [
    "# Python 101.3"
   ]
  },
  {
   "cell_type": "markdown",
   "metadata": {
    "colab_type": "text",
    "id": "Xwdf-428IwnH"
   },
   "source": [
    "## Iniciando em Python\n",
    "\n",
    "Neste notebooks trataremos da instalação do pyenv e seu uso com virtualenv para criar projetos onde a versão do python e suas bibliotecas possam ficar isolados.\n",
    "\n",
    "Importante salientar que todos os comando abaixo foram executados no Google Colaboratory o qual tem alguns problemas na instalação de ambientes virtuais como estes apresentados neste notebook.\n",
    "\n",
    "No final dele, temos todos os comando envolvidos no formato de documentação."
   ]
  },
  {
   "cell_type": "markdown",
   "metadata": {
    "colab_type": "text",
    "id": "5uO45i3hIZxl"
   },
   "source": [
    "## Package Management\n",
    "\n",
    "\n",
    "**virtualenv + pip**\n",
    "\n",
    "- Ambientes python isolados, permitindo a instalação de bibliotecas específicas (versões específicas) para aquele ambiente.\n",
    "\n",
    "[**pyenv**](https://github.com/pyenv/pyenv)\n",
    " - Maneira de se instalar múltiplas versões da linguagem python no computador e conseguir comutar entre elas sem afetar o funcionamento.\n",
    " - Possibilidade de criar sistemas (junto com virtualenv) em determinada versão da linguagem com bibliotecas específicas, sem a necessidade de muita configuração.\n"
   ]
  },
  {
   "cell_type": "markdown",
   "metadata": {
    "colab_type": "text",
    "id": "T_gbd_31JJlh"
   },
   "source": [
    "### Instalando pyenv"
   ]
  },
  {
   "cell_type": "code",
   "execution_count": 1,
   "metadata": {
    "colab": {
     "base_uri": "https://localhost:8080/",
     "height": 892.0
    },
    "colab_type": "code",
    "id": "QXsdnB2RIKnh",
    "outputId": "50ece284-ec2b-46c9-c816-a71059622f1b"
   },
   "outputs": [
    {
     "name": "stdout",
     "output_type": "stream",
     "text": [
      "  % Total    % Received % Xferd  Average Speed   Time    Time     Time  Current\n",
      "                                 Dload  Upload   Total   Spent    Left  Speed\n",
      "100   259  100   259    0     0     45      0  0:00:05  0:00:05 --:--:--    61\n",
      "Cloning into '/root/.pyenv'...\n",
      "remote: Enumerating objects: 628, done.\u001b[K\n",
      "remote: Counting objects: 100% (628/628), done.\u001b[K\n",
      "remote: Compressing objects: 100% (432/432), done.\u001b[K\n",
      "remote: Total 628 (delta 299), reused 285 (delta 105), pack-reused 0\u001b[K\n",
      "Receiving objects: 100% (628/628), 364.88 KiB | 14.59 MiB/s, done.\n",
      "Resolving deltas: 100% (299/299), done.\n",
      "Cloning into '/root/.pyenv/plugins/pyenv-doctor'...\n",
      "remote: Enumerating objects: 11, done.\u001b[K\n",
      "remote: Counting objects: 100% (11/11), done.\u001b[K\n",
      "remote: Compressing objects: 100% (9/9), done.\u001b[K\n",
      "remote: Total 11 (delta 1), reused 4 (delta 0), pack-reused 0\u001b[K\n",
      "Unpacking objects: 100% (11/11), done.\n",
      "Cloning into '/root/.pyenv/plugins/pyenv-installer'...\n",
      "remote: Enumerating objects: 16, done.\u001b[K\n",
      "remote: Counting objects: 100% (16/16), done.\u001b[K\n",
      "remote: Compressing objects: 100% (13/13), done.\u001b[K\n",
      "remote: Total 16 (delta 1), reused 7 (delta 0), pack-reused 0\u001b[K\n",
      "Unpacking objects: 100% (16/16), done.\n",
      "Cloning into '/root/.pyenv/plugins/pyenv-update'...\n",
      "remote: Enumerating objects: 10, done.\u001b[K\n",
      "remote: Counting objects: 100% (10/10), done.\u001b[K\n",
      "remote: Compressing objects: 100% (6/6), done.\u001b[K\n",
      "remote: Total 10 (delta 1), reused 6 (delta 0), pack-reused 0\u001b[K\n",
      "Unpacking objects: 100% (10/10), done.\n",
      "Cloning into '/root/.pyenv/plugins/pyenv-virtualenv'...\n",
      "remote: Enumerating objects: 57, done.\u001b[K\n",
      "remote: Counting objects: 100% (57/57), done.\u001b[K\n",
      "remote: Compressing objects: 100% (51/51), done.\u001b[K\n",
      "remote: Total 57 (delta 11), reused 21 (delta 0), pack-reused 0\u001b[K\n",
      "Unpacking objects: 100% (57/57), done.\n",
      "Cloning into '/root/.pyenv/plugins/pyenv-which-ext'...\n",
      "remote: Enumerating objects: 10, done.\u001b[K\n",
      "remote: Counting objects: 100% (10/10), done.\u001b[K\n",
      "remote: Compressing objects: 100% (6/6), done.\u001b[K\n",
      "remote: Total 10 (delta 1), reused 6 (delta 0), pack-reused 0\u001b[K\n",
      "Unpacking objects: 100% (10/10), done.\n",
      "\n",
      "\u001b[1mWARNING\u001b[m: seems you still have not added 'pyenv' to the load path.\n",
      "\n",
      "# Load pyenv automatically by adding\n",
      "# the following to ~/.bashrc:\n",
      "\n",
      "export PATH=\"/root/.pyenv/bin:$PATH\"\n",
      "eval \"$(pyenv init -)\"\n",
      "eval \"$(pyenv virtualenv-init -)\"\n"
     ]
    }
   ],
   "source": [
    "!curl https://pyenv.run | bash"
   ]
  },
  {
   "cell_type": "markdown",
   "metadata": {
    "colab_type": "text",
    "id": "NzOHQzIYKND8"
   },
   "source": [
    "Vamos apresentar apenas algumas das versões dos interpretadores python disponíveis para que possamos executar nossos scripts."
   ]
  },
  {
   "cell_type": "code",
   "execution_count": 16,
   "metadata": {
    "colab": {
     "base_uri": "https://localhost:8080/",
     "height": 410.0
    },
    "colab_type": "code",
    "id": "IPZY3CGFLY5V",
    "outputId": "3cde990a-e270-4762-98b6-391dbd4a3b75"
   },
   "outputs": [
    {
     "name": "stdout",
     "output_type": "stream",
     "text": [
      "Reading package lists... Done\n",
      "Building dependency tree       \n",
      "Reading state information... Done\n",
      "build-essential is already the newest version (12.4ubuntu1).\n",
      "libbz2-dev is already the newest version (1.0.6-8.1).\n",
      "libffi-dev is already the newest version (3.2.1-8).\n",
      "liblzma-dev is already the newest version (5.2.2-1.3).\n",
      "libreadline-dev is already the newest version (7.0-3).\n",
      "libsqlite3-dev is already the newest version (3.22.0-1).\n",
      "make is already the newest version (4.1-9.1ubuntu1).\n",
      "python-openssl is already the newest version (17.5.0-1ubuntu1).\n",
      "xz-utils is already the newest version (5.2.2-1.3).\n",
      "zlib1g-dev is already the newest version (1:1.2.11.dfsg-0ubuntu2).\n",
      "tk-dev is already the newest version (8.6.0+9).\n",
      "curl is already the newest version (7.58.0-2ubuntu3.6).\n",
      "git is already the newest version (1:2.17.1-1ubuntu0.4).\n",
      "libncurses5-dev is already the newest version (6.1-1ubuntu1.18.04).\n",
      "libncursesw5-dev is already the newest version (6.1-1ubuntu1.18.04).\n",
      "libssl-dev is already the newest version (1.1.0g-2ubuntu4.3).\n",
      "wget is already the newest version (1.19.4-1ubuntu2.1).\n",
      "llvm is already the newest version (1:6.0-41~exp5~ubuntu1).\n",
      "0 upgraded, 0 newly installed, 0 to remove and 8 not upgraded.\n"
     ]
    }
   ],
   "source": [
    "!sudo apt-get install -y make build-essential libssl-dev zlib1g-dev libbz2-dev \\\n",
    "libreadline-dev libsqlite3-dev wget curl llvm libncurses5-dev libncursesw5-dev \\\n",
    "xz-utils tk-dev libffi-dev liblzma-dev python-openssl git"
   ]
  },
  {
   "cell_type": "code",
   "execution_count": 12,
   "metadata": {
    "colab": {
     "base_uri": "https://localhost:8080/",
     "height": 178.0
    },
    "colab_type": "code",
    "id": "ZLv1sEQlJeA-",
    "outputId": "b67b2826-966d-4e56-c83c-422cbc7df783"
   },
   "outputs": [
    {
     "name": "stdout",
     "output_type": "stream",
     "text": [
      "  2.3.7\n",
      "  3.3.7\n",
      "  3.7.0\n",
      "  3.7-dev\n",
      "  3.7.1\n",
      "  3.7.2\n",
      "  miniconda-3.7.0\n",
      "  miniconda3-3.7.0\n",
      "  stackless-3.3.7\n"
     ]
    }
   ],
   "source": [
    "!/root/.pyenv/bin/pyenv install --list | grep 3.7"
   ]
  },
  {
   "cell_type": "code",
   "execution_count": 17,
   "metadata": {
    "colab": {
     "base_uri": "https://localhost:8080/",
     "height": 106.0
    },
    "colab_type": "code",
    "id": "tZ3-gTSiJ-J6",
    "outputId": "56469abc-9fb8-4623-a23f-9f88890dce29"
   },
   "outputs": [
    {
     "name": "stdout",
     "output_type": "stream",
     "text": [
      "Downloading Python-3.7.2.tar.xz...\n",
      "-> https://www.python.org/ftp/python/3.7.2/Python-3.7.2.tar.xz\n",
      "Installing Python-3.7.2...\n",
      "Installed Python-3.7.2 to /root/.pyenv/versions/3.7.2\n",
      "\n"
     ]
    }
   ],
   "source": [
    "!/root/.pyenv/bin/pyenv install 3.7.2"
   ]
  },
  {
   "cell_type": "code",
   "execution_count": 0,
   "metadata": {
    "colab": {},
    "colab_type": "code",
    "id": "YA8swvH3O6WN"
   },
   "outputs": [],
   "source": [
    "!/root/.pyenv/bin/pyenv local 3.7.2\n",
    "!/root/.pyenv/bin/pyenv global 3.7.2"
   ]
  },
  {
   "cell_type": "markdown",
   "metadata": {
    "colab_type": "text",
    "id": "7vFuB81HKuk0"
   },
   "source": [
    "### Instalando virtualenv"
   ]
  },
  {
   "cell_type": "code",
   "execution_count": 28,
   "metadata": {
    "colab": {
     "base_uri": "https://localhost:8080/",
     "height": 55.0
    },
    "colab_type": "code",
    "id": "VSDn4BegKYgh",
    "outputId": "6ee3078b-5fd9-43fc-ae90-b286500f9a3e"
   },
   "outputs": [
    {
     "name": "stdout",
     "output_type": "stream",
     "text": [
      "Requirement already satisfied: virtualenv in /root/.pyenv/versions/3.7.2/lib/python3.7/site-packages (16.4.1)\n"
     ]
    }
   ],
   "source": [
    "!/root/.pyenv/shims/pip3.7 install virtualenv"
   ]
  },
  {
   "cell_type": "code",
   "execution_count": 32,
   "metadata": {
    "colab": {
     "base_uri": "https://localhost:8080/",
     "height": 35.0
    },
    "colab_type": "code",
    "id": "uh37Ch4sQL0c",
    "outputId": "bf84dee9-625c-4c59-efe8-20362b2ec001"
   },
   "outputs": [
    {
     "name": "stdout",
     "output_type": "stream",
     "text": [
      "virtualenv==16.4.1\n"
     ]
    }
   ],
   "source": [
    "!/root/.pyenv/shims/pip3.7 freeze"
   ]
  },
  {
   "cell_type": "code",
   "execution_count": 31,
   "metadata": {
    "colab": {
     "base_uri": "https://localhost:8080/",
     "height": 124.0
    },
    "colab_type": "code",
    "id": "Lctn_ib6Odep",
    "outputId": "11be45d5-da65-4eb9-9b60-f34948393c6b"
   },
   "outputs": [
    {
     "name": "stdout",
     "output_type": "stream",
     "text": [
      "Running virtualenv with interpreter /root/.pyenv/shims/python3.7\n",
      "Using base prefix '/root/.pyenv/versions/3.7.2'\n",
      "New python executable in /content/venv/bin/python3.7\n",
      "Also creating executable in /content/venv/bin/python\n",
      "Installing setuptools, pip, wheel...\n",
      "done.\n"
     ]
    }
   ],
   "source": [
    "!~/.pyenv/shims/python3.7 ~/.pyenv/versions/3.7.2/lib/python3.7/site-packages/virtualenv.py venv --python=/root/.pyenv/shims/python3.7"
   ]
  },
  {
   "cell_type": "code",
   "execution_count": 34,
   "metadata": {
    "colab": {
     "base_uri": "https://localhost:8080/",
     "height": 35.0
    },
    "colab_type": "code",
    "id": "lPbgjU1_PEKe",
    "outputId": "309f3c0f-69c7-4678-984d-aff40b8dd0bb"
   },
   "outputs": [
    {
     "name": "stdout",
     "output_type": "stream",
     "text": [
      "bin  include  lib\n"
     ]
    }
   ],
   "source": [
    "!ls venv/"
   ]
  },
  {
   "cell_type": "code",
   "execution_count": 44,
   "metadata": {
    "colab": {
     "base_uri": "https://localhost:8080/",
     "height": 269.0
    },
    "colab_type": "code",
    "id": "GzSnH3VVQR6B",
    "outputId": "37506d0c-22d9-486e-d7fe-d6d8757c73af"
   },
   "outputs": [
    {
     "name": "stdout",
     "output_type": "stream",
     "text": [
      "Collecting numpy\n",
      "\u001b[?25l  Downloading https://files.pythonhosted.org/packages/61/57/07c49e1a6d2706fb7336b3fb11dd285c1e96535c80833d7524f002f57086/numpy-1.16.1-cp37-cp37m-manylinux1_x86_64.whl (17.3MB)\n",
      "\u001b[K    100% |████████████████████████████████| 17.3MB 2.1MB/s \n",
      "\u001b[?25hInstalling collected packages: numpy\n",
      "Successfully installed numpy-1.16.1\n",
      "certifi==2018.11.29\n",
      "chardet==3.0.4\n",
      "idna==2.8\n",
      "numpy==1.16.1\n",
      "requests==2.21.0\n",
      "urllib3==1.24.1\n",
      "virtualenv==16.4.1\n",
      "/bin/bash: deactivate: command not found\n"
     ]
    }
   ],
   "source": [
    "!source venv/bin/activate\n",
    "!/root/.pyenv/shims/pip3.7 install numpy\n",
    "!/root/.pyenv/shims/pip3.7 freeze\n",
    "!deactivate"
   ]
  },
  {
   "cell_type": "markdown",
   "metadata": {
    "colab_type": "text",
    "id": "wdLKM-7NSG3j"
   },
   "source": [
    "## Documentação Final\n",
    "\n",
    "Abaixo segue na ordem os comandos executados. Pela questão de originalmente os comandos serem executados no Google Colaboratory, a documentação abaixo não reflete 100% o funcionamento apresentado préviamente.\n",
    "\n",
    "\n",
    "\n",
    "```bash\n",
    "$> curl https://pyenv.run | bash\n",
    "\n",
    "$> sudo apt-get install -y make build-essential libssl-dev zlib1g-dev libbz2-dev libreadline-dev libsqlite3-dev wget curl llvm libncurses5-dev libncursesw5-dev xz-utils tk-dev libffi-dev liblzma-dev python-openssl git \n",
    "```\n",
    "\n",
    "Depois de instalar o pyenv adicionar as seguintes linhas no ~/.bashrc ou ~/.bash_profile.\n",
    "\n",
    "```bash\n",
    "export PATH=\"/root/.pyenv/bin:$PATH\"\n",
    "eval \"$(pyenv init -)\"\n",
    "eval \"$(pyenv virtualenv-init -)\"\n",
    "```\n",
    "\n",
    "Recarregamos o base e instalamos a versão do python que queremos:\n",
    "\n",
    "```bash\n",
    "$> source ~/.bashrc\n",
    "\n",
    "$> pyenv install 3.7.2\n",
    "```\n",
    "\n",
    "Setamos a nova versão para funcionar localmente no shell onde estamos e podemos instalar o virtualenv usando a ferramenta pip.\n",
    "\n",
    "\n",
    "```bash\n",
    "$> pyenv local 3.7.2\n",
    "\n",
    "$> pip install virtualenv\n",
    "```\n",
    "\n",
    "Feito isso, vamos ativar o ambiente virtual, instalar o que queremos e desativar o ambiente, votando para o ambiente root da máquina.\n",
    "\n",
    "```bash\n",
    "$> source venv/bin/activate\n",
    "\n",
    "$> pip install requests\n",
    "\n",
    "$> pipfreeze\n",
    "\n",
    "$> deactivate\n",
    "```"
   ]
  },
  {
   "cell_type": "code",
   "execution_count": 0,
   "metadata": {
    "colab": {},
    "colab_type": "code",
    "id": "8HaLCBGLQmBU"
   },
   "outputs": [],
   "source": []
  }
 ],
 "metadata": {
  "colab": {
   "name": "Python101.3.ipynbd0.ipynb",
   "provenance": [],
   "toc_visible": true,
   "version": "0.3.2"
  },
  "hide_input": false,
  "kernelspec": {
   "display_name": "Python 3",
   "language": "python",
   "name": "python3"
  },
  "language_info": {
   "codemirror_mode": {
    "name": "ipython",
    "version": 3
   },
   "file_extension": ".py",
   "mimetype": "text/x-python",
   "name": "python",
   "nbconvert_exporter": "python",
   "pygments_lexer": "ipython3",
   "version": "3.7.3"
  },
  "toc": {
   "colors": {
    "hover_highlight": "#DAA520",
    "navigate_num": "#000000",
    "navigate_text": "#333333",
    "running_highlight": "#FF0000",
    "selected_highlight": "#FFD700",
    "sidebar_border": "#EEEEEE",
    "wrapper_background": "#FFFFFF"
   },
   "moveMenuLeft": true,
   "nav_menu": {
    "height": "80px",
    "width": "250px"
   },
   "navigate_menu": true,
   "number_sections": true,
   "sideBar": true,
   "threshold": 4.0,
   "toc_cell": false,
   "toc_section_display": "block",
   "toc_window_display": false,
   "widenNotebook": false
  }
 },
 "nbformat": 4,
 "nbformat_minor": 1
}
