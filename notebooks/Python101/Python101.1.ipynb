{
 "cells": [
  {
   "cell_type": "markdown",
   "metadata": {
    "colab_type": "text",
    "id": "SJlijo_JWxVv"
   },
   "source": [
    "# Python 101.1"
   ]
  },
  {
   "cell_type": "markdown",
   "metadata": {
    "colab_type": "text",
    "id": "OT8TDj2Oeq-N"
   },
   "source": [
    "## Iniciando em Python\n",
    "\n",
    "Notebook apresenta as principais características da linguagem de programação python.\n",
    "\n",
    "Em um primeiro momento serão feitas discussões sobre as principais características da linguagem e seus easter eggs."
   ]
  },
  {
   "cell_type": "markdown",
   "metadata": {
    "colab_type": "text",
    "id": "qCj_6_zsXMVg"
   },
   "source": [
    "### Zen of Python\n",
    "----------------------"
   ]
  },
  {
   "cell_type": "code",
   "execution_count": 1,
   "metadata": {
    "ExecuteTime": {
     "end_time": "2019-03-11T11:32:35.116804Z",
     "start_time": "2019-03-11T11:32:35.095165Z"
    },
    "colab": {
     "base_uri": "https://localhost:8080/",
     "height": 392
    },
    "colab_type": "code",
    "id": "RP5JLLRFWvYf",
    "outputId": "41eff4cd-06fc-4837-86a0-ef143a5ad90d"
   },
   "outputs": [
    {
     "name": "stdout",
     "output_type": "stream",
     "text": [
      "The Zen of Python, by Tim Peters\n",
      "\n",
      "Beautiful is better than ugly.\n",
      "Explicit is better than implicit.\n",
      "Simple is better than complex.\n",
      "Complex is better than complicated.\n",
      "Flat is better than nested.\n",
      "Sparse is better than dense.\n",
      "Readability counts.\n",
      "Special cases aren't special enough to break the rules.\n",
      "Although practicality beats purity.\n",
      "Errors should never pass silently.\n",
      "Unless explicitly silenced.\n",
      "In the face of ambiguity, refuse the temptation to guess.\n",
      "There should be one-- and preferably only one --obvious way to do it.\n",
      "Although that way may not be obvious at first unless you're Dutch.\n",
      "Now is better than never.\n",
      "Although never is often better than *right* now.\n",
      "If the implementation is hard to explain, it's a bad idea.\n",
      "If the implementation is easy to explain, it may be a good idea.\n",
      "Namespaces are one honking great idea -- let's do more of those!\n"
     ]
    }
   ],
   "source": [
    "import this"
   ]
  },
  {
   "cell_type": "markdown",
   "metadata": {
    "colab_type": "text",
    "id": "ggnVR-NAYenp"
   },
   "source": [
    "### Antigravity\n",
    "----------------------\n",
    "\n",
    "<img src=\"https://imgs.xkcd.com/comics/python.png\" alt=\"python\" width=400 />"
   ]
  },
  {
   "cell_type": "code",
   "execution_count": 0,
   "metadata": {
    "colab": {},
    "colab_type": "code",
    "id": "_yEJZY57X09R"
   },
   "outputs": [],
   "source": [
    "# import antigravity"
   ]
  },
  {
   "cell_type": "markdown",
   "metadata": {
    "colab_type": "text",
    "id": "m9U0WBsBZyt1"
   },
   "source": [
    "### PEP\"s\n",
    "----------------------\n",
    "\n",
    " [PEP 1](https://www.python.org/dev/peps/pep-0001/): *\"PEP stands for **Python Enhancement Proposal**.  A PEP is a design document providing information to the Python community, or describing a new feature for Python or its processes or environment.  The PEP should provide a concise technical specification of the feature and a rationale for the feature.\"*\n",
    "\n",
    "\n",
    "[PEP 8](https://www.python.org/dev/peps/pep-0008/): *\"This document gives **coding conventions** for the Python code comprising the standard library in the main Python distribution.\"*"
   ]
  },
  {
   "cell_type": "markdown",
   "metadata": {
    "colab_type": "text",
    "id": "RdczWuaNejx0"
   },
   "source": [
    "### PyPI\n",
    "----------------------\n",
    "\n",
    "*\"The Python Package Index (PyPI) is a **repository of software** for the Python programming language.\"* [PyPI](https://pypi.org/)\n",
    "\n",
    "Passou recentemente por uma grande reformulação e nos últimos meses tem sofrido alguns tipos de ataques nos mesmos moldes que o npm."
   ]
  },
  {
   "cell_type": "markdown",
   "metadata": {
    "colab_type": "text",
    "id": "3hqDQGQeemq7"
   },
   "source": [
    "### Ferramentas e IDE\"s\n",
    "----------------------\n",
    "\n",
    "#### Intepretador \n",
    "\n",
    "O modo mais básico para se executar código em python. \n",
    "\n",
    "Abra um shell e digite:\n",
    "\n",
    "```bash\n",
    "$> python\n",
    "```\n",
    "\n",
    "#### IDLE\n",
    "\n",
    "A \"IDE\" mais simples que se pode utilizar para programar em python, vem junto com a própria linguagem.\n",
    "\n",
    "#### VIM / EMACS\n",
    "\n",
    "Editores textuais em shell utilizados por programadores no ambiente Linux. São ferramentas muito utilizadas, e possuem plugins para se trabalhar com a linguagem python.\n",
    "\n",
    "#### PyCharm\n",
    "\n",
    "Uma IDE completa, no mesmo estilo do Eclipse para Java. Ferramenta criada pelo pessoal da JetBrains, mesma empresa criado do IntelliJ.\n",
    "\n",
    "#### Visual Studio Code\n",
    "\n",
    "Novo editor de texto da Microsoft, bem completo, possuindo plugins para diversas linguagens. Vem ganhando mercado nos últimos 2 anos, e o suporte para a linguagem python é bem forte, provavelmente devido a um dos core commiters da linguagem trabalhar na Microsoft desenvolvendo a ferramenta.\n",
    "\n",
    "#### Jupyter\n",
    "\n",
    "Não é uma IDE mas muito utilizada no mundo de Data Science, permite escalonamente a execução de código python (e outras linguagens também). Possue o mesmo conceito dos notebooks criados em outras linguagens como Mathematica e Matlab."
   ]
  },
  {
   "cell_type": "markdown",
   "metadata": {
    "colab_type": "text",
    "id": "AT24xjgBbj6z"
   },
   "source": [
    "## Sintaxe da Linguagem\n",
    "\n",
    "Assim como outras linguagens de programação python possui muitas estruturas sintáticas parecidas, entretanto o que pode surpreender os programadores é a maneira como a linguagem é estruturada.\n",
    "Diferente de linguagens cuja raiz foi a linguange C, python não se utiliza das chaves (*brackets*) para conter suas estruturas e nem mesmo o ponto e vírgula no final para definir o término de um comando.\n",
    "\n",
    "Conforme será visto, essa é uma maneira de evitar repetições desnecessárias e obrigar os programadores e manterem uma estrutura encadeada de seus códigos."
   ]
  },
  {
   "cell_type": "markdown",
   "metadata": {
    "colab_type": "text",
    "id": "wUhpTQZxeRGU"
   },
   "source": [
    "### Hello World\n",
    "\n",
    "Para executar o programa mais básico em python (um simples \"Hello World\") não se precisa de muito código ou grandes estruturas."
   ]
  },
  {
   "cell_type": "code",
   "execution_count": 0,
   "metadata": {
    "colab": {
     "base_uri": "https://localhost:8080/",
     "height": 35
    },
    "colab_type": "code",
    "id": "nvwimR01eAz0",
    "outputId": "a017c184-6748-4576-9f19-0fdbe37e985b"
   },
   "outputs": [
    {
     "name": "stdout",
     "output_type": "stream",
     "text": [
      "Hello World\n"
     ]
    }
   ],
   "source": [
    "print(\"Hello World\")"
   ]
  },
  {
   "cell_type": "markdown",
   "metadata": {
    "colab_type": "text",
    "id": "f52_9zVwAJQq"
   },
   "source": [
    "### Variáveis\n",
    "\n",
    "*\"... uma variável é um objeto (uma posição, frequentemente localizada na memória) capaz de reter e representar um valor ou expressão. Enquanto as variáveis só \"existem\" em tempo de execução, elas são associadas a \"nomes\", chamados identificadores, durante o tempo de desenvolvimento.\"* [wiki](https://pt.wikipedia.org/wiki/Vari%C3%A1vel_(programa%C3%A7%C3%A3o))\n",
    "\n",
    "\n",
    "Enfim, é um componente o qual armazena um valor ou valores em memória podendo esse valor armazenado ser substituído por outro (no caso da linguagem python)."
   ]
  },
  {
   "cell_type": "code",
   "execution_count": 0,
   "metadata": {
    "colab": {
     "base_uri": "https://localhost:8080/",
     "height": 51
    },
    "colab_type": "code",
    "id": "BWCUchysAbiF",
    "outputId": "6c9b4b29-91a7-4f0d-eecb-085e40a578c0"
   },
   "outputs": [
    {
     "name": "stdout",
     "output_type": "stream",
     "text": [
      "1\n",
      "2\n"
     ]
    }
   ],
   "source": [
    "x = 1\n",
    "print(x)\n",
    "x = 2\n",
    "print(x)"
   ]
  },
  {
   "cell_type": "markdown",
   "metadata": {
    "colab_type": "text",
    "id": "Z1E0v7GYtdN1"
   },
   "source": [
    "### Tipos de Dados\n",
    "\n",
    "Python por ser uma linguagem fracamente tipada não limita o desenvolvedor no sentido da necessidade de se definir qual o valor que determinada variável deve aceitar.\n",
    "Isto permite maior flexibilidade em contrário a uma maior dificuldade de leitura do código em outros momentos, principalmente em projetos grandes.\n",
    "\n",
    "**Em python os tipos primitivos são classes!**\n",
    "\n",
    "**Principais tipos**\n",
    "\n",
    " - Boolean\n",
    " - Integer\n",
    " - Float\n",
    " - Complex\n",
    " - String\n",
    " - Byte\n",
    " - None"
   ]
  },
  {
   "cell_type": "markdown",
   "metadata": {
    "colab_type": "text",
    "id": "iQ7kW-gGOgdx"
   },
   "source": [
    "Por exemplo o tipo Inteiro é um objeto, possui atributos e métodos."
   ]
  },
  {
   "cell_type": "code",
   "execution_count": 0,
   "metadata": {
    "colab": {
     "base_uri": "https://localhost:8080/",
     "height": 71
    },
    "colab_type": "code",
    "id": "I56_V_TiORe0",
    "outputId": "fd079034-6c3f-487a-932d-d350ab7dce96"
   },
   "outputs": [
    {
     "name": "stdout",
     "output_type": "stream",
     "text": [
      "<class 'int'>\n",
      "10000 0\n",
      "14\n"
     ]
    }
   ],
   "source": [
    "x = 10000\n",
    "print(type(1))\n",
    "print(x.real, x.imag)\n",
    "print(x.bit_length())"
   ]
  },
  {
   "cell_type": "markdown",
   "metadata": {
    "colab_type": "text",
    "id": "UDop70NWOeOS"
   },
   "source": [
    "Examples:"
   ]
  },
  {
   "cell_type": "code",
   "execution_count": 4,
   "metadata": {
    "ExecuteTime": {
     "end_time": "2019-03-18T11:07:25.851598Z",
     "start_time": "2019-03-18T11:07:25.847879Z"
    },
    "colab": {
     "base_uri": "https://localhost:8080/",
     "height": 85
    },
    "colab_type": "code",
    "id": "MLfpzdCBC5lL",
    "outputId": "c8cacce1-b49c-401c-ae12-4e03f2dff502"
   },
   "outputs": [
    {
     "name": "stdout",
     "output_type": "stream",
     "text": [
      "x e y são iguais    :  True\n",
      "x é do tipo Boolean :  <class 'bool'>\n",
      "x é bool?              True\n",
      "y é bool?              True\n",
      "AND:  False\n",
      "OR:  True\n",
      "NOT:  False\n",
      "XOR:  True\n"
     ]
    }
   ],
   "source": [
    "x = True\n",
    "y = True\n",
    "z = False\n",
    "print(\"x e y são iguais    : \", x == y)\n",
    "print(\"x é do tipo Boolean : \", type(x))\n",
    "print(\"x é bool?             \", bool is type(x))\n",
    "print(\"y é bool?             \", bool is type(y))\n",
    "\n",
    "print('AND: ', x and z) # Logical AND; prints \"False\"\n",
    "print('OR: ', x or z)   # Logical OR; prints \"True\"\n",
    "print('NOT: ', not x)   # Logical NOT; prints \"False\"\n",
    "print('XOR: ', x != z)  # Logical XOR; prints \"True\""
   ]
  },
  {
   "cell_type": "code",
   "execution_count": 0,
   "metadata": {
    "colab": {
     "base_uri": "https://localhost:8080/",
     "height": 85
    },
    "colab_type": "code",
    "id": "Ufhg_aEEW4Kh",
    "outputId": "adc4a11e-6d03-4544-971b-d20850dc5799"
   },
   "outputs": [
    {
     "name": "stdout",
     "output_type": "stream",
     "text": [
      "x e y são iguais    :  False\n",
      "x é do tipo Integer :  <class 'int'>\n",
      "x é int?               True\n",
      "y é int?               True\n"
     ]
    }
   ],
   "source": [
    "x = 1\n",
    "y = 2\n",
    "print(\"x e y são iguais    : \", x == y)\n",
    "print(\"x é do tipo Integer : \", type(x))\n",
    "print(\"x é int?              \", int is type(x))\n",
    "print(\"y é int?              \", int is type(y))"
   ]
  },
  {
   "cell_type": "code",
   "execution_count": 0,
   "metadata": {
    "colab": {
     "base_uri": "https://localhost:8080/",
     "height": 85
    },
    "colab_type": "code",
    "id": "dAwvbfe1CN--",
    "outputId": "81798553-4e3c-4bb7-a318-e340d6734f91"
   },
   "outputs": [
    {
     "name": "stdout",
     "output_type": "stream",
     "text": [
      "x e y são iguais   :  False\n",
      "x é do tipo Float  :  <class 'float'>\n",
      "x é float?            True\n",
      "y é float?            True\n"
     ]
    }
   ],
   "source": [
    "x = 1.1\n",
    "y = 2.2\n",
    "print(\"x e y são iguais   : \", x == y)\n",
    "print(\"x é do tipo Float  : \", type(x))\n",
    "print(\"x é float?           \", float is type(x))\n",
    "print(\"y é float?           \", float is type(y))"
   ]
  },
  {
   "cell_type": "code",
   "execution_count": 0,
   "metadata": {
    "colab": {
     "base_uri": "https://localhost:8080/",
     "height": 85
    },
    "colab_type": "code",
    "id": "NlTh5ocQDqhQ",
    "outputId": "5d26d19c-b7c8-4f63-8820-123594985bbb"
   },
   "outputs": [
    {
     "name": "stdout",
     "output_type": "stream",
     "text": [
      "x e y são iguais    :  True\n",
      "x é do tipo Complex :  <class 'complex'>\n",
      "x é complex?           True\n",
      "y é complex?           True\n"
     ]
    }
   ],
   "source": [
    "x = complex(2, 1)\n",
    "y = 2 + 1j\n",
    "print(\"x e y são iguais    : \", x == y)\n",
    "print(\"x é do tipo Complex : \", type(x))\n",
    "print(\"x é complex?          \", complex is type(x))\n",
    "print(\"y é complex?          \", complex is type(y))"
   ]
  },
  {
   "cell_type": "code",
   "execution_count": 0,
   "metadata": {
    "colab": {
     "base_uri": "https://localhost:8080/",
     "height": 85
    },
    "colab_type": "code",
    "id": "ptR6-gUzbjQi",
    "outputId": "14d3fd22-122f-43c9-8df9-902b9f53c885"
   },
   "outputs": [
    {
     "name": "stdout",
     "output_type": "stream",
     "text": [
      "x e y são iguais   :  True\n",
      "x é do tipo String :  <class 'str'>\n",
      "x é str?              True\n",
      "y é str?              True\n"
     ]
    }
   ],
   "source": [
    "# Strings podem ser definidas como aspas simples ou duplas\n",
    "x = \"hello world\"\n",
    "y = \"hello world\"\n",
    "print(\"x e y são iguais   : \", x == y)\n",
    "print(\"x é do tipo String : \", type(x))\n",
    "print(\"x é str?             \", str is type(x))\n",
    "print(\"y é str?             \", str is type(y))"
   ]
  },
  {
   "cell_type": "code",
   "execution_count": 0,
   "metadata": {
    "colab": {
     "base_uri": "https://localhost:8080/",
     "height": 85
    },
    "colab_type": "code",
    "id": "xycAZXN3CXp9",
    "outputId": "1428a2bf-5ebd-4ab0-d13f-4173a78d4300"
   },
   "outputs": [
    {
     "name": "stdout",
     "output_type": "stream",
     "text": [
      "x e y são iguais   :  False\n",
      "x é do tipo Bytes  :  <class 'bytes'>\n",
      "x é bytes?            True\n",
      "y é bytes?            True\n"
     ]
    }
   ],
   "source": [
    "x = bytes(10)\n",
    "y = bytes(\"abc\", encoding=\"utf-8\")\n",
    "print(\"x e y são iguais   : \", x == y)\n",
    "print(\"x é do tipo Bytes  : \", type(x))\n",
    "print(\"x é bytes?           \", bytes is type(x))\n",
    "print(\"y é bytes?           \", bytes is type(y))"
   ]
  },
  {
   "cell_type": "code",
   "execution_count": 0,
   "metadata": {
    "colab": {
     "base_uri": "https://localhost:8080/",
     "height": 51
    },
    "colab_type": "code",
    "id": "ZjJ-mH0cGGJe",
    "outputId": "db905b3a-86e2-47ac-dc56-0a67db81d443"
   },
   "outputs": [
    {
     "name": "stdout",
     "output_type": "stream",
     "text": [
      "x é do tipo None  :  <class 'NoneType'>\n",
      "x é None?            False\n"
     ]
    }
   ],
   "source": [
    "# Representa o null em Python\n",
    "x = None\n",
    "print(\"x é do tipo None  : \", type(x))\n",
    "print(\"x é None?           \", None is type(x))"
   ]
  },
  {
   "cell_type": "markdown",
   "metadata": {
    "colab_type": "text",
    "id": "J977ttzlEChH"
   },
   "source": [
    "### Operações\n",
    "\n",
    "Os mesmos operadores que existem em outras linguagens de programação, principalmente os matemáticos existem em python.\n",
    "\n",
    "Dessa mesma maneira existem operadores lógicos."
   ]
  },
  {
   "cell_type": "code",
   "execution_count": 0,
   "metadata": {
    "colab": {
     "base_uri": "https://localhost:8080/",
     "height": 85
    },
    "colab_type": "code",
    "id": "UKG0Rq4ACcHK",
    "outputId": "94c2846e-eb2a-494e-eea5-26e294ba2bbc"
   },
   "outputs": [
    {
     "name": "stdout",
     "output_type": "stream",
     "text": [
      "6\n",
      "2\n",
      "8\n",
      "2.0\n"
     ]
    }
   ],
   "source": [
    "x = 4\n",
    "y = 2\n",
    "print(x + y)\n",
    "print(x - y)\n",
    "print(x * y)\n",
    "print(x / y)"
   ]
  },
  {
   "cell_type": "code",
   "execution_count": 0,
   "metadata": {
    "colab": {
     "base_uri": "https://localhost:8080/",
     "height": 85
    },
    "colab_type": "code",
    "id": "Og3ywOy3EYvG",
    "outputId": "7c628ae5-1105-49c7-c053-85f4eb29e866"
   },
   "outputs": [
    {
     "name": "stdout",
     "output_type": "stream",
     "text": [
      "6.6\n",
      "1.5999999999999996\n",
      "10.25\n",
      "1.64\n"
     ]
    }
   ],
   "source": [
    "x = 4.1\n",
    "y = 2.5\n",
    "print(x + y)\n",
    "print(x - y)\n",
    "print(x * y)\n",
    "print(x / y)"
   ]
  },
  {
   "cell_type": "code",
   "execution_count": 0,
   "metadata": {
    "colab": {
     "base_uri": "https://localhost:8080/",
     "height": 51
    },
    "colab_type": "code",
    "id": "BP9EaKqdEwsJ",
    "outputId": "1e42883f-1988-46e7-f965-4e105e3af059"
   },
   "outputs": [
    {
     "name": "stdout",
     "output_type": "stream",
     "text": [
      "False\n",
      "True\n"
     ]
    }
   ],
   "source": [
    "x = True\n",
    "y = False\n",
    "print(x and y)\n",
    "print(x or y)"
   ]
  },
  {
   "cell_type": "markdown",
   "metadata": {
    "colab_type": "text",
    "id": "hwRzDfWiNDUI"
   },
   "source": [
    "**Operadores em Strings**\n",
    "\n",
    "Strings em python pode sofrer alterações devido a alguns operadores como '+' e '*''"
   ]
  },
  {
   "cell_type": "markdown",
   "metadata": {
    "colab_type": "text",
    "id": "KkYyWiPBi6ok"
   },
   "source": [
    "**operador '+'**\n",
    "\n",
    "Concatenação de Strings"
   ]
  },
  {
   "cell_type": "code",
   "execution_count": 0,
   "metadata": {
    "colab": {
     "base_uri": "https://localhost:8080/",
     "height": 35
    },
    "colab_type": "code",
    "id": "pCsw_sKuFPIC",
    "outputId": "c0e3af58-5e4a-48e2-bdc9-d06499b811a7"
   },
   "outputs": [
    {
     "name": "stdout",
     "output_type": "stream",
     "text": [
      "hello worldworld\n"
     ]
    }
   ],
   "source": [
    "x = \"hello world\"\n",
    "y = \"world\"\n",
    "print(x + y)"
   ]
  },
  {
   "cell_type": "markdown",
   "metadata": {
    "colab_type": "text",
    "id": "FdPY6WoeM_Hl"
   },
   "source": [
    "**operador '*'**\n",
    "\n",
    "'Replicação' de Strings"
   ]
  },
  {
   "cell_type": "code",
   "execution_count": 0,
   "metadata": {
    "colab": {
     "base_uri": "https://localhost:8080/",
     "height": 35
    },
    "colab_type": "code",
    "id": "neYoxfcaNWI7",
    "outputId": "cdc5db52-4274-421e-f913-3d620d245322"
   },
   "outputs": [
    {
     "name": "stdout",
     "output_type": "stream",
     "text": [
      "hellohellohello\n"
     ]
    }
   ],
   "source": [
    "x = \"hello\"\n",
    "print(x * 3)"
   ]
  },
  {
   "cell_type": "markdown",
   "metadata": {
    "colab_type": "text",
    "id": "1J6qaRINNeTR"
   },
   "source": [
    "**operador 'in'**\n",
    "\n",
    "Verifica se uma String contém a outra"
   ]
  },
  {
   "cell_type": "code",
   "execution_count": 0,
   "metadata": {
    "colab": {
     "base_uri": "https://localhost:8080/",
     "height": 53
    },
    "colab_type": "code",
    "id": "RXk3pW5qNl2w",
    "outputId": "7b1c9429-4951-4fbc-dd25-639e09010490"
   },
   "outputs": [
    {
     "name": "stdout",
     "output_type": "stream",
     "text": [
      "True\n",
      "True\n"
     ]
    }
   ],
   "source": [
    "x = \"hello world\"\n",
    "y = \"world\"\n",
    "print(y in x)\n",
    "print('orl' in x)"
   ]
  },
  {
   "cell_type": "markdown",
   "metadata": {
    "colab_type": "text",
    "id": "QovAf5hUIB3O"
   },
   "source": [
    "### Estruturas condicionais e laços de repetição\n",
    "\n",
    "Como em todas as outras linguagens de programação, python possui as princiaps estruturas condicionais e laços de repetição.\n",
    "\n",
    " - if, elif e else\n",
    " - for\n",
    " - while\n",
    " \n",
    " E para que seja possível realizar as condicionais utilizamos os operadores de comparação.\n",
    " \n",
    " \n",
    ">Operador | Tipo | Valor\n",
    ">--- | --- | ---\n",
    "> == | Igualdade | Verifica a igualdade entre dois valores.\n",
    "> !=  | Desigualdade | Verifica a diferença entre dois valores.\n",
    "> > | Comparação | Verificar se o valor A é maior que o valor B.\n",
    "> <  | Comparação | Verifica se o valor A é menor que o valor B.\n",
    "> >= | Comparação| Verifica se o valor A é maior ou igual ao valor B.\n",
    "> <= | Comparação | Verifica se o valor A é menor ou igual ao valor B.\n",
    "> in | Seqüência | Verifica se o valor A está contido em um conjunto.\n",
    "> is | Comparação | Verificar se a A é o mesmo que B"
   ]
  },
  {
   "cell_type": "markdown",
   "metadata": {
    "colab_type": "text",
    "id": "naoMEiVsMFBi"
   },
   "source": [
    "**Condicional : if, elif e else**"
   ]
  },
  {
   "cell_type": "code",
   "execution_count": 0,
   "metadata": {
    "colab": {
     "base_uri": "https://localhost:8080/",
     "height": 34
    },
    "colab_type": "code",
    "id": "nEumwasrG0Xw",
    "outputId": "afd3167b-effc-44f8-d868-89d5094cce1b"
   },
   "outputs": [
    {
     "name": "stdout",
     "output_type": "stream",
     "text": [
      "x: 5\n"
     ]
    }
   ],
   "source": [
    "x = 5\n",
    "if x == 5:\n",
    "    print(\"x:\", x)\n",
    "else:\n",
    "    print(\"erro\")"
   ]
  },
  {
   "cell_type": "code",
   "execution_count": 0,
   "metadata": {
    "colab": {
     "base_uri": "https://localhost:8080/",
     "height": 34
    },
    "colab_type": "code",
    "id": "wUy-7Ib6MLGT",
    "outputId": "84df1af9-c846-4926-89cf-333967e8f4c7"
   },
   "outputs": [
    {
     "name": "stdout",
     "output_type": "stream",
     "text": [
      "elif\n"
     ]
    }
   ],
   "source": [
    "x = \"hello world\"\n",
    "if \"hello2\" in x:\n",
    "    print(\"if\")\n",
    "elif \"hello\" in x:\n",
    "    print(\"elif\")\n",
    "else:\n",
    "    print(\"else\")"
   ]
  },
  {
   "cell_type": "markdown",
   "metadata": {
    "colab_type": "text",
    "id": "89RVwkkKeBnO"
   },
   "source": [
    "**and e or**\n",
    "\n",
    "Diferentemente de outras linguagens de programação que utilizam os caracteres & e | para representar as validações booleanas de \"E\" e \"OU\", em python são utilizados os termos escritos em inglês \"and\" e \"or\"."
   ]
  },
  {
   "cell_type": "code",
   "execution_count": 0,
   "metadata": {
    "colab": {
     "base_uri": "https://localhost:8080/",
     "height": 35
    },
    "colab_type": "code",
    "id": "gwn_2Q4ZdTL9",
    "outputId": "6bd2aa76-833e-4b27-a3b7-cb28dd908e74"
   },
   "outputs": [
    {
     "name": "stdout",
     "output_type": "stream",
     "text": [
      "Hello World\n"
     ]
    }
   ],
   "source": [
    "x = 10\n",
    "y = 20\n",
    "\n",
    "if x < 10 or y > 15:\n",
    "    print(\"Hello World\")"
   ]
  },
  {
   "cell_type": "markdown",
   "metadata": {
    "colab_type": "text",
    "id": "JJ303ovGMiPX"
   },
   "source": [
    "**Laço de repetição: while**"
   ]
  },
  {
   "cell_type": "code",
   "execution_count": 0,
   "metadata": {
    "colab": {
     "base_uri": "https://localhost:8080/",
     "height": 106
    },
    "colab_type": "code",
    "id": "YBbxgprFc12M",
    "outputId": "89259267-2cd3-4e7e-e84f-9a451c15b9a4"
   },
   "outputs": [
    {
     "name": "stdout",
     "output_type": "stream",
     "text": [
      "1\n",
      "2\n",
      "3\n",
      "4\n",
      "5\n"
     ]
    }
   ],
   "source": [
    "x = 1\n",
    "while x <= 5:\n",
    "    print(x)\n",
    "    x += 1"
   ]
  },
  {
   "cell_type": "markdown",
   "metadata": {
    "colab_type": "text",
    "id": "ujcpzH2dMsmb"
   },
   "source": [
    "**Laço de repetição: for**"
   ]
  },
  {
   "cell_type": "code",
   "execution_count": 0,
   "metadata": {
    "colab": {
     "base_uri": "https://localhost:8080/",
     "height": 85
    },
    "colab_type": "code",
    "id": "LG2Zfg1eMrzJ",
    "outputId": "0eaa4bb8-d052-4478-c6d8-abdf1b4c19a9"
   },
   "outputs": [
    {
     "name": "stdout",
     "output_type": "stream",
     "text": [
      "1\n",
      "2\n",
      "3\n",
      "4\n"
     ]
    }
   ],
   "source": [
    "for i in range(1, 5):\n",
    "    print(i)"
   ]
  },
  {
   "cell_type": "code",
   "execution_count": 0,
   "metadata": {
    "colab": {
     "base_uri": "https://localhost:8080/",
     "height": 102
    },
    "colab_type": "code",
    "id": "wAd1ryO3KuE6",
    "outputId": "560c38ae-c2f1-46f5-a8d7-81ce432fbcba"
   },
   "outputs": [
    {
     "name": "stdout",
     "output_type": "stream",
     "text": [
      "0 h\n",
      "1 e\n",
      "2 l\n",
      "3 l\n",
      "4 o\n"
     ]
    }
   ],
   "source": [
    "for i, a in enumerate(\"hello\"):\n",
    "    print(i, a)"
   ]
  },
  {
   "cell_type": "markdown",
   "metadata": {
    "colab_type": "text",
    "id": "rcs2nWXqFNDf"
   },
   "source": [
    "### Funções\n",
    "\n",
    "Estrutura a qual deve ser criada para encapsular blocos de código para serem reutilizados em outros momentos. Pode receber parâmetros como funções matemáticas.\n",
    "\n",
    "Podem ou não retornar valores, caso não seja explícito o retorno, irá retornar **None**."
   ]
  },
  {
   "cell_type": "code",
   "execution_count": 0,
   "metadata": {
    "colab": {
     "base_uri": "https://localhost:8080/",
     "height": 34
    },
    "colab_type": "code",
    "id": "hXzlmKjAE4Ek",
    "outputId": "56129dc8-5e67-4810-dd08-4cd7531b6779"
   },
   "outputs": [
    {
     "name": "stdout",
     "output_type": "stream",
     "text": [
      "11\n"
     ]
    }
   ],
   "source": [
    "def sum(x, y):\n",
    "    return x + y\n",
    "\n",
    "print(sum(5, 6))"
   ]
  },
  {
   "cell_type": "markdown",
   "metadata": {
    "colab_type": "text",
    "id": "NCo9nSLGHLkQ"
   },
   "source": [
    "**args e kwargs**\n",
    "\n",
    "Por sua dinamicidade a linguagem possui algumas estruturas que podem facilitar em muito a criação de funções extremamente genéricas, que podema vir a ser bem complexas.\n",
    "\n",
    "O uso de args e kwargs exemplifica em muito o quão a linguagem é dinâmica."
   ]
  },
  {
   "cell_type": "code",
   "execution_count": 0,
   "metadata": {
    "colab": {
     "base_uri": "https://localhost:8080/",
     "height": 34
    },
    "colab_type": "code",
    "id": "0vohs_qdF2lC",
    "outputId": "3bbf0864-cf3f-4cae-c65b-f674e45d5d83"
   },
   "outputs": [
    {
     "name": "stdout",
     "output_type": "stream",
     "text": [
      "6.5\n"
     ]
    }
   ],
   "source": [
    "def sum(*args, **kwargs):\n",
    "    x = float(args[0])\n",
    "    y = int(kwargs[\"y\"])\n",
    "    return x + y\n",
    "\n",
    "print(sum(5.5, y=1))"
   ]
  },
  {
   "cell_type": "markdown",
   "metadata": {
    "colab_type": "text",
    "id": "8Nc4P1Z0eh_A"
   },
   "source": [
    "**Exercício 1:**\n",
    "\n",
    "[FizzBuzz](https://en.wikipedia.org/wiki/Fizz_buzz)\n",
    "\n",
    "Crie uma função que apresente a resolução do jogo FizzBuzz.\n"
   ]
  },
  {
   "cell_type": "code",
   "execution_count": 0,
   "metadata": {
    "colab": {
     "base_uri": "https://localhost:8080/",
     "height": 571
    },
    "colab_type": "code",
    "id": "gm13hQsKKOhG",
    "outputId": "56a85c66-a211-41b0-e781-16bc8d68742f"
   },
   "outputs": [
    {
     "name": "stdout",
     "output_type": "stream",
     "text": [
      "fizzbuzz\n",
      "1\n",
      "2\n",
      "fizz\n",
      "4\n",
      "buzz\n",
      "fizz\n",
      "7\n",
      "8\n",
      "fizz\n",
      "buzz\n",
      "11\n",
      "fizz\n",
      "13\n",
      "14\n",
      "fizzbuzz\n",
      "16\n",
      "17\n",
      "fizz\n",
      "19\n",
      "buzz\n",
      "fizz\n",
      "22\n",
      "23\n",
      "fizz\n",
      "buzz\n",
      "26\n",
      "fizz\n",
      "28\n",
      "29\n",
      "fizzbuzz\n"
     ]
    }
   ],
   "source": [
    "# RESOLUÇÃO\n",
    "\n",
    "def fizzbuzz(x):\n",
    "    if x % 3 == 0 and x % 5 == 0:\n",
    "        x = \"fizzbuzz\"\n",
    "    elif x % 3 == 0:\n",
    "        x = \"fizz\"\n",
    "    elif x % 5 == 0:\n",
    "        x = \"buzz\"\n",
    "    return x\n",
    "\n",
    "x = 0\n",
    "while x <= 30:\n",
    "    print(fizzbuzz(x))\n",
    "    x += 1"
   ]
  },
  {
   "cell_type": "markdown",
   "metadata": {
    "colab_type": "text",
    "id": "OscyLACYfoLt"
   },
   "source": [
    "**Exercício 2:**\n",
    "\n",
    "[Fatorial](https://pt.wikipedia.org/wiki/Fatorial)\n",
    "\n",
    "Crie uma função para gerar o fatorial de qualquer número."
   ]
  },
  {
   "cell_type": "code",
   "execution_count": 1,
   "metadata": {
    "colab": {
     "base_uri": "https://localhost:8080/",
     "height": 88
    },
    "colab_type": "code",
    "id": "Jj6ObH5GNVdU",
    "outputId": "6977831e-4dfb-438f-aa45-e70dc110de3d"
   },
   "outputs": [
    {
     "name": "stdout",
     "output_type": "stream",
     "text": [
      "fatorial de 0:  0\n",
      "fatorial de 1:  1\n",
      "fatorial de 20:  2432902008176640000\n",
      "fatorial de 50:  30414093201713378043612608166064768844377641568960512000000000000\n"
     ]
    }
   ],
   "source": [
    "# RESOLUÇÃO\n",
    "\n",
    "def fat(x=0):\n",
    "    m = x\n",
    "    # Método de parada x <= 1\n",
    "    if x > 1:\n",
    "        # Recursividade é gerada...\n",
    "        m = fat(x-1) * x\n",
    "        x -= 1\n",
    "    return m\n",
    "\n",
    "\n",
    "print('fatorial de 0: ', fat(0))\n",
    "\n",
    "print('fatorial de 1: ', fat(1))\n",
    "assert fat(1) == 1\n",
    "\n",
    "print('fatorial de 20: ', fat(20))\n",
    "assert fat(20) == 2432902008176640000\n",
    "\n",
    "print('fatorial de 50: ', fat(50))\n",
    "assert fat(50) == 30414093201713378043612608166064768844377641568960512000000000000"
   ]
  },
  {
   "cell_type": "code",
   "execution_count": 0,
   "metadata": {
    "colab": {},
    "colab_type": "code",
    "id": "-CVl5gXxODGB"
   },
   "outputs": [],
   "source": []
  }
 ],
 "metadata": {
  "colab": {
   "collapsed_sections": [],
   "name": "Python101.1.ipynb",
   "provenance": [],
   "toc_visible": true,
   "version": "0.3.2"
  },
  "hide_input": false,
  "kernelspec": {
   "display_name": "Python 3",
   "language": "python",
   "name": "python3"
  },
  "language_info": {
   "codemirror_mode": {
    "name": "ipython",
    "version": 3
   },
   "file_extension": ".py",
   "mimetype": "text/x-python",
   "name": "python",
   "nbconvert_exporter": "python",
   "pygments_lexer": "ipython3",
   "version": "3.6.4"
  },
  "toc": {
   "colors": {
    "hover_highlight": "#DAA520",
    "navigate_num": "#000000",
    "navigate_text": "#333333",
    "running_highlight": "#FF0000",
    "selected_highlight": "#FFD700",
    "sidebar_border": "#EEEEEE",
    "wrapper_background": "#FFFFFF"
   },
   "moveMenuLeft": true,
   "nav_menu": {
    "height": "279.667px",
    "width": "250px"
   },
   "navigate_menu": true,
   "number_sections": true,
   "sideBar": true,
   "threshold": 4,
   "toc_cell": false,
   "toc_section_display": "block",
   "toc_window_display": false,
   "widenNotebook": false
  }
 },
 "nbformat": 4,
 "nbformat_minor": 1
}
