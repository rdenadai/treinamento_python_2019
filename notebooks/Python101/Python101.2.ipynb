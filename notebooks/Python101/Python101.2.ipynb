{
 "cells": [
  {
   "cell_type": "markdown",
   "metadata": {
    "colab_type": "text",
    "id": "SJlijo_JWxVv"
   },
   "source": [
    "# Python 101.2"
   ]
  },
  {
   "cell_type": "markdown",
   "metadata": {
    "colab_type": "text",
    "id": "OT8TDj2Oeq-N"
   },
   "source": [
    "## Iniciando em Python\n",
    "\n",
    "Neste notebook serão tratados mais assuntos iniciais da linguagem, como listas, tuplas e outras estruturas de dados."
   ]
  },
  {
   "cell_type": "markdown",
   "metadata": {
    "colab_type": "text",
    "id": "oZVo-FPDvU1P"
   },
   "source": [
    "## Estruturas de dados \n",
    "\n",
    "Em python temos algumas estruturas de dados, desde listas (arrays) até dicionários (hashtable).\n",
    "\n",
    "Importante notar em python, como veremos abaixo, que as Strings possuem algumas características das listas."
   ]
  },
  {
   "cell_type": "markdown",
   "metadata": {
    "colab_type": "text",
    "id": "jKA331-_wK-L"
   },
   "source": [
    "### Listas\n",
    "\n",
    "O tipo mais básico de estrutura de dados em python.\n",
    "\n",
    "Pela dinamicidade da linguagem, as listas podem aceitar todos os tipos de dados disponíveis em python, de números, String e outros objetos."
   ]
  },
  {
   "cell_type": "code",
   "execution_count": 0,
   "metadata": {
    "colab": {
     "base_uri": "https://localhost:8080/",
     "height": 53
    },
    "colab_type": "code",
    "id": "n8Bu1QOv0Yb5",
    "outputId": "937f76cb-f1ad-403d-8f39-6384b663a345"
   },
   "outputs": [
    {
     "name": "stdout",
     "output_type": "stream",
     "text": [
      "x is:  <class 'list'>\n",
      "y is:  <class 'list'>\n"
     ]
    }
   ],
   "source": [
    "# Lista vazia\n",
    "x = []\n",
    "# Lista com 3 elementos\n",
    "y = [1, \"a\", 2.1]\n",
    "\n",
    "print(\"x is: \", type(x))\n",
    "print(\"y is: \", type(y))"
   ]
  },
  {
   "cell_type": "code",
   "execution_count": 0,
   "metadata": {
    "colab": {
     "base_uri": "https://localhost:8080/",
     "height": 106
    },
    "colab_type": "code",
    "id": "VUduoKZBwRGn",
    "outputId": "d7d9ce77-8364-4d9c-d67e-06df70decd99"
   },
   "outputs": [
    {
     "name": "stdout",
     "output_type": "stream",
     "text": [
      "item 0 1\n",
      "item 1 a\n",
      "item 2 2.1\n",
      "Soma de 2 items:  3.1\n",
      "Tamanho da lista:  3\n"
     ]
    }
   ],
   "source": [
    "# Podemos acessar os elementos da lista usando os laços de repetição\n",
    "for i, m in enumerate(y):\n",
    "    print(f\"item {i}\", m)\n",
    "\n",
    "# Acessar 1 item\n",
    "print(\"Soma de 2 items: \", y[0] + y[2])\n",
    "\n",
    "# Usar a função len para recuperar o tamanho da lista\n",
    "print(\"Tamanho da lista: \", len(y))"
   ]
  },
  {
   "cell_type": "code",
   "execution_count": 0,
   "metadata": {
    "colab": {
     "base_uri": "https://localhost:8080/",
     "height": 35
    },
    "colab_type": "code",
    "id": "Jko9qt-yyjfw",
    "outputId": "c17b3e58-03a3-4d29-d8ae-60b886b62664"
   },
   "outputs": [
    {
     "name": "stdout",
     "output_type": "stream",
     "text": [
      "Listas com listas:  [[1, 2, 3], [4, 5, 6], 'a']\n"
     ]
    }
   ],
   "source": [
    "# Lista pode conter outras listas\n",
    "y = [[1, 2, 3], [4, 5, 6], \"a\"]\n",
    "print(\"Listas com listas: \", y)"
   ]
  },
  {
   "cell_type": "code",
   "execution_count": 0,
   "metadata": {
    "colab": {
     "base_uri": "https://localhost:8080/",
     "height": 35
    },
    "colab_type": "code",
    "id": "gParFLTzyppB",
    "outputId": "e01f694b-bd7d-45f1-e6bb-d9a3b23bb0cc"
   },
   "outputs": [
    {
     "name": "stdout",
     "output_type": "stream",
     "text": [
      "Concatenar 2 listas usando + [1, 2, 3, 4, 5, 6]\n"
     ]
    }
   ],
   "source": [
    "# Concatenar duas listas\n",
    "y = [1, 2, 3] + [4, 5, 6]\n",
    "print(\"Concatenar 2 listas usando +\", y)"
   ]
  },
  {
   "cell_type": "code",
   "execution_count": 0,
   "metadata": {
    "colab": {
     "base_uri": "https://localhost:8080/",
     "height": 53
    },
    "colab_type": "code",
    "id": "IorkfH2OyrCy",
    "outputId": "2a5757ca-c3ae-49c3-b8a2-f27497413aab"
   },
   "outputs": [
    {
     "name": "stdout",
     "output_type": "stream",
     "text": [
      "Ordenada:  [1, 2, 3, 4, 5, 6, 7, 8, 9, 10]\n",
      "Tamanho da lista:  10\n"
     ]
    }
   ],
   "source": [
    "# Ordenação de elementos\n",
    "y = [7, 4, 9, 5, 1, 8, 3, 10, 2, 6]\n",
    "y.sort()\n",
    "print(\"Ordenada: \", y)\n",
    "print(\"Tamanho da lista: \", len(y))"
   ]
  },
  {
   "cell_type": "code",
   "execution_count": 0,
   "metadata": {
    "colab": {
     "base_uri": "https://localhost:8080/",
     "height": 71
    },
    "colab_type": "code",
    "id": "jK0wWUxGzlG-",
    "outputId": "f7e34d4c-44e5-4e58-9bd9-b90b3420a98d"
   },
   "outputs": [
    {
     "name": "stdout",
     "output_type": "stream",
     "text": [
      "Lista alterada:  ['e', 'b', 'c']\n",
      "Lista item adicionado em último:  ['e', 'b', 'c', 'a']\n",
      "Lista removido último item:  ['e', 'b', 'c']\n"
     ]
    }
   ],
   "source": [
    "# Editar itens na lista e adicionar novos\n",
    "y = [\"a\", \"b\", \"c\"]\n",
    "\n",
    "# Alteração\n",
    "y[0] = \"e\"\n",
    "print(\"Lista alterada: \", y)\n",
    "\n",
    "y.append(\"a\")\n",
    "print(\"Lista item adicionado em último: \", y)\n",
    "\n",
    "y.pop()\n",
    "print(\"Lista removido último item: \", y)"
   ]
  },
  {
   "cell_type": "code",
   "execution_count": 1,
   "metadata": {
    "colab": {
     "base_uri": "https://localhost:8080/",
     "height": 35
    },
    "colab_type": "code",
    "id": "90s6VDMk37He",
    "outputId": "c3ce6f60-fcfa-4f69-cb20-ee07511d8976"
   },
   "outputs": [
    {
     "name": "stdout",
     "output_type": "stream",
     "text": [
      "Busca 7 na lista:  True\n",
      "0\n"
     ]
    }
   ],
   "source": [
    "# Busca um elemento dentro de uma lista usando in\n",
    "y = [7, 4, 9, 5, 1, 8, 3, 10, 2, 6]\n",
    "print(\"Busca 7 na lista: \", 7 in y)\n",
    "print(y.index(7))"
   ]
  },
  {
   "cell_type": "markdown",
   "metadata": {
    "colab_type": "text",
    "id": "6aSQdfbBRvZK"
   },
   "source": [
    "#### Slicing\n",
    "\n",
    "Em python para conseguirmos pegar alguns itens de uma estrutura de dados, podemos usar o chamado slice, que em python é feito da seguinte maneira."
   ]
  },
  {
   "cell_type": "code",
   "execution_count": 5,
   "metadata": {
    "colab": {
     "base_uri": "https://localhost:8080/",
     "height": 124
    },
    "colab_type": "code",
    "id": "9hf4OLOtRxwF",
    "outputId": "6e0609f1-ccd0-4f97-9c06-8327f053b772"
   },
   "outputs": [
    {
     "name": "stdout",
     "output_type": "stream",
     "text": [
      "Primeiro item:  1\n",
      "Primeiros 3 itens:  [1, 2, 3]\n",
      "Últimos 3 itens:  [8, 9, 10]\n",
      "Últimos 3 itens reverso:  [8, 9, 10]\n",
      "Itens 4, 5 e 6:  [4, 5, 6]\n",
      "Apenas items pares:  [2, 4, 6, 8, 10]\n",
      "Ultimo 10 10\n",
      "[1, 2, 3, 4, 5, 6, 7, 10]\n"
     ]
    }
   ],
   "source": [
    "x = [1, 2, 3, 4, 5, 6, 7, 8, 9, 10]\n",
    "# Pegando apenas o primeiro item\n",
    "print('Primeiro item: ', x[0])\n",
    "print('Primeiros 3 itens: ', x[:3])\n",
    "print('Últimos 3 itens: ', x[7:])\n",
    "print('Últimos 3 itens reverso: ', x[-3:])\n",
    "print('Itens 4, 5 e 6: ', x[3:6])\n",
    "print('Apenas items pares: ', x[1::2])\n",
    "print('Ultimo', x[-1], x[len(x)-1])\n",
    "\n",
    "del x[7:9]\n",
    "print(x)"
   ]
  },
  {
   "cell_type": "markdown",
   "metadata": {
    "colab_type": "text",
    "id": "cNH-Il9ezUj1"
   },
   "source": [
    "### Tuplas\n",
    "\n",
    "Tuplas possuem algumas características apresentadas acima para as listas, exceto que são imutáveis, ou seja, não podemos modificar seus itens após a definição dos mesmo."
   ]
  },
  {
   "cell_type": "code",
   "execution_count": 0,
   "metadata": {
    "colab": {
     "base_uri": "https://localhost:8080/",
     "height": 35
    },
    "colab_type": "code",
    "id": "lBRPSsPz0RmG",
    "outputId": "19099782-c9b9-42ea-9b8d-d7a85f23a0f4"
   },
   "outputs": [
    {
     "name": "stdout",
     "output_type": "stream",
     "text": [
      "y is:  <class 'tuple'>\n"
     ]
    }
   ],
   "source": [
    "y = (1, 2, 3)\n",
    "print(\"y is: \", type(y))"
   ]
  },
  {
   "cell_type": "code",
   "execution_count": 0,
   "metadata": {
    "colab": {
     "base_uri": "https://localhost:8080/",
     "height": 35
    },
    "colab_type": "code",
    "id": "uH_RHtUv0l7J",
    "outputId": "26fa7e49-594b-40dd-aaee-1056e7292c27"
   },
   "outputs": [
    {
     "name": "stdout",
     "output_type": "stream",
     "text": [
      "Adicionar itens é permitido (1, 2, 3, 9, 6, 9, 6)\n"
     ]
    }
   ],
   "source": [
    "# Adicionar items permitido, assim como remover\n",
    "y += (9, 6)\n",
    "print(\"Adicionar itens é permitido\", y)"
   ]
  },
  {
   "cell_type": "code",
   "execution_count": 0,
   "metadata": {
    "colab": {
     "base_uri": "https://localhost:8080/",
     "height": 171
    },
    "colab_type": "code",
    "id": "1awvfW120uTK",
    "outputId": "be1af1f3-f8b2-4217-fabe-a701cec85585"
   },
   "outputs": [
    {
     "ename": "TypeError",
     "evalue": "ignored",
     "output_type": "error",
     "traceback": [
      "\u001b[0;31m---------------------------------------------------------------------------\u001b[0m",
      "\u001b[0;31mTypeError\u001b[0m                                 Traceback (most recent call last)",
      "\u001b[0;32m<ipython-input-13-c13783b7f732>\u001b[0m in \u001b[0;36m<module>\u001b[0;34m()\u001b[0m\n\u001b[0;32m----> 1\u001b[0;31m \u001b[0my\u001b[0m\u001b[0;34m[\u001b[0m\u001b[0;36m3\u001b[0m\u001b[0;34m]\u001b[0m \u001b[0;34m=\u001b[0m \u001b[0;36m10\u001b[0m\u001b[0;34m\u001b[0m\u001b[0;34m\u001b[0m\u001b[0m\n\u001b[0m",
      "\u001b[0;31mTypeError\u001b[0m: 'tuple' object does not support item assignment"
     ]
    }
   ],
   "source": [
    "# Modificar items é proíbido\n",
    "y[3] = 10"
   ]
  },
  {
   "cell_type": "markdown",
   "metadata": {
    "colab_type": "text",
    "id": "38bEnvBmv5AM"
   },
   "source": [
    "### Strings\n",
    "\n",
    "Strings em python, podem ser consideradas tuplas... pois seus itens não podem ser alterados da mesma maneira."
   ]
  },
  {
   "cell_type": "code",
   "execution_count": 0,
   "metadata": {
    "colab": {
     "base_uri": "https://localhost:8080/",
     "height": 106
    },
    "colab_type": "code",
    "id": "VQ4UhI_sv9th",
    "outputId": "fcec7562-2500-40e8-dba6-5b3946875d5d"
   },
   "outputs": [
    {
     "name": "stdout",
     "output_type": "stream",
     "text": [
      "H\n",
      "e\n",
      "l\n",
      "l\n",
      "o\n"
     ]
    }
   ],
   "source": [
    "x = \"Hello\"\n",
    "for m in x:\n",
    "    print(m)"
   ]
  },
  {
   "cell_type": "code",
   "execution_count": 0,
   "metadata": {
    "colab": {
     "base_uri": "https://localhost:8080/",
     "height": 53
    },
    "colab_type": "code",
    "id": "RbUNuFGS1uoM",
    "outputId": "fa8a7035-def2-464c-8136-b7861a985c0a"
   },
   "outputs": [
    {
     "name": "stdout",
     "output_type": "stream",
     "text": [
      "Primeiro item da String:  H\n",
      "Tamanho da String:  5\n"
     ]
    }
   ],
   "source": [
    "print(\"Primeiro item da String: \", x[0])\n",
    "\n",
    "print(\"Tamanho da String: \", len(x))"
   ]
  },
  {
   "cell_type": "code",
   "execution_count": 0,
   "metadata": {
    "colab": {
     "base_uri": "https://localhost:8080/",
     "height": 171
    },
    "colab_type": "code",
    "id": "ROYA9RW12AMj",
    "outputId": "2b309e30-cb12-4894-fdc3-d6d5082da1bd"
   },
   "outputs": [
    {
     "ename": "TypeError",
     "evalue": "ignored",
     "output_type": "error",
     "traceback": [
      "\u001b[0;31m---------------------------------------------------------------------------\u001b[0m",
      "\u001b[0;31mTypeError\u001b[0m                                 Traceback (most recent call last)",
      "\u001b[0;32m<ipython-input-16-b9dbddb1d3c7>\u001b[0m in \u001b[0;36m<module>\u001b[0;34m()\u001b[0m\n\u001b[0;32m----> 1\u001b[0;31m \u001b[0mx\u001b[0m\u001b[0;34m[\u001b[0m\u001b[0;36m0\u001b[0m\u001b[0;34m]\u001b[0m \u001b[0;34m=\u001b[0m \u001b[0;34m\"A\"\u001b[0m\u001b[0;34m\u001b[0m\u001b[0;34m\u001b[0m\u001b[0m\n\u001b[0m",
      "\u001b[0;31mTypeError\u001b[0m: 'str' object does not support item assignment"
     ]
    }
   ],
   "source": [
    "# Item assignment\n",
    "x[0] = \"A\""
   ]
  },
  {
   "cell_type": "markdown",
   "metadata": {
    "colab_type": "text",
    "id": "CPlHzVIO2ZUo"
   },
   "source": [
    "### Dicionários\n",
    "\n",
    "São estruturas de dados bem definidas, no formato key: value, nos mesmo moldes como o formato json. Tanto que em python a conversão de dicionário para json e vice-versa é bem simples e rápida usando o módulo json conforme será visto posteriormente."
   ]
  },
  {
   "cell_type": "code",
   "execution_count": 0,
   "metadata": {
    "colab": {
     "base_uri": "https://localhost:8080/",
     "height": 71
    },
    "colab_type": "code",
    "id": "f29t1lcZ2s1s",
    "outputId": "308febaf-9907-4266-f7e4-036b4d0a72f3"
   },
   "outputs": [
    {
     "name": "stdout",
     "output_type": "stream",
     "text": [
      "x is:  <class 'dict'>\n",
      "y is:  <class 'dict'>\n",
      "w is:  <class 'dict'>\n"
     ]
    }
   ],
   "source": [
    "x = {}\n",
    "y = {\"id\": 1}\n",
    "# O campo key pode vir a ser uma estrutura mais complexa, como uma tupla\n",
    "w = {(\"a\", 1): 3}\n",
    "\n",
    "print(\"x is: \", type(x))\n",
    "print(\"y is: \", type(y))\n",
    "print(\"w is: \", type(w))"
   ]
  },
  {
   "cell_type": "code",
   "execution_count": 0,
   "metadata": {
    "colab": {
     "base_uri": "https://localhost:8080/",
     "height": 71
    },
    "colab_type": "code",
    "id": "s1jgEeDw3D0h",
    "outputId": "92652574-4e70-40a1-e8b3-d64a1048e50d"
   },
   "outputs": [
    {
     "name": "stdout",
     "output_type": "stream",
     "text": [
      "Item adicionado:  {'a': 10}\n",
      "Adição de dict:  {'a': 10, 'b': 5}\n",
      "Adição de dict:  {'a': 10, 'b': 5}\n"
     ]
    }
   ],
   "source": [
    "x = {}\n",
    "\n",
    "# Adicionar itens\n",
    "x[\"a\"] = 10\n",
    "print(\"Item adicionado: \", x)\n",
    "\n",
    "# Adicionar DICS\n",
    "z = {**x, **{\"b\": 5}}\n",
    "print(\"Adição de dict: \", z)\n",
    "# OR\n",
    "w = x.copy()\n",
    "w.update({\"b\": 5})\n",
    "print(\"Adição de dict: \", w)"
   ]
  },
  {
   "cell_type": "code",
   "execution_count": 0,
   "metadata": {
    "colab": {
     "base_uri": "https://localhost:8080/",
     "height": 142
    },
    "colab_type": "code",
    "id": "fhRpx5S44HUM",
    "outputId": "f0338268-b5c6-46c3-8eb3-de1fe6b4af8d"
   },
   "outputs": [
    {
     "name": "stdout",
     "output_type": "stream",
     "text": [
      "Chaves do dicionário:  dict_keys(['a', 'b', 'c'])\n",
      "Valores do dicionário:  dict_values([1, [1, 2, 3], {'k': 1}])\n",
      "--------------------\n",
      "Loop: \n",
      "key: a value: 1\n",
      "key: b value: [1, 2, 3]\n",
      "key: c value: {'k': 1}\n"
     ]
    }
   ],
   "source": [
    "# Acessar os itens de um dicionário\n",
    "x = {\n",
    "    \"a\": 1,\n",
    "    \"b\": [1, 2, 3],\n",
    "    \"c\": {\"k\": 1}\n",
    "}\n",
    "\n",
    "print(\"Chaves do dicionário: \", x.keys())\n",
    "print(\"Valores do dicionário: \", x.values())\n",
    "\n",
    "# Loop dentro do Dicionário\n",
    "print(\"-\" * 20)\n",
    "print(\"Loop: \")\n",
    "for k, v in x.items():\n",
    "    print(f\"key: {k}\", f\"value: {v}\")"
   ]
  },
  {
   "cell_type": "code",
   "execution_count": 0,
   "metadata": {
    "colab": {
     "base_uri": "https://localhost:8080/",
     "height": 53
    },
    "colab_type": "code",
    "id": "DbMPl2tl474B",
    "outputId": "3f349ebe-2b7a-4983-d1c3-830d522741d6"
   },
   "outputs": [
    {
     "name": "stdout",
     "output_type": "stream",
     "text": [
      "Busca chave: \"a\" in x =  True\n",
      "Busca chave: (\"b\", 1) in x =  True\n"
     ]
    }
   ],
   "source": [
    "# Buscar por uma chave dentro do dicionário\n",
    "x = {\n",
    "    \"a\": 1,\n",
    "    (\"b\", 1): [1, 2, 3],\n",
    "    \"c\": {\"k\": 1}\n",
    "}\n",
    "\n",
    "print(\"Busca chave: \\\"a\\\" in x = \", \"a\" in x)\n",
    "print(\"Busca chave: (\\\"b\\\", 1) in x = \", (\"b\", 1) in x)"
   ]
  },
  {
   "cell_type": "markdown",
   "metadata": {
    "colab_type": "text",
    "id": "5u22gs3o54s0"
   },
   "source": [
    "### Sets\n",
    "\n",
    "Os sets são outro tipo de estrutura de dados, devemos pensar nos sets exatamente como as estrutruras matemáticas que estudamos durante o ensino médio. Sets são a representação dos **Conjuntos** matemáticos na linguagem python.\n",
    "\n",
    "A grande diferença dos sets, é que eles não poderão ter valores repetidos dentro deles."
   ]
  },
  {
   "cell_type": "code",
   "execution_count": 1,
   "metadata": {
    "colab": {
     "base_uri": "https://localhost:8080/",
     "height": 71
    },
    "colab_type": "code",
    "id": "NtzIjD526LPC",
    "outputId": "62b3a987-5069-43c4-c741-f0ed237523dc"
   },
   "outputs": [
    {
     "name": "stdout",
     "output_type": "stream",
     "text": [
      "x is:  <class 'set'>\n",
      "y is:  <class 'set'>\n",
      "w is:  <class 'set'>\n"
     ]
    }
   ],
   "source": [
    "x = set()\n",
    "y = set([1, 2, 3, 4])\n",
    "w = set([1, 2, 4, \"a\"])\n",
    "print(\"x is: \", type(x))\n",
    "print(\"y is: \", type(y))\n",
    "print(\"w is: \", type(w))"
   ]
  },
  {
   "cell_type": "markdown",
   "metadata": {
    "colab_type": "text",
    "id": "S5DJDqoFAUSV"
   },
   "source": [
    "## Compreensão de Listas (List Comprehension)\n",
    "\n",
    "Em python existe uma outra maneira de criação das estruturas de dados apresentadas acima, são chamadas de Comprehension."
   ]
  },
  {
   "cell_type": "markdown",
   "metadata": {
    "colab_type": "text",
    "id": "EKf03n8wAxpm"
   },
   "source": [
    "### List Comprehension"
   ]
  },
  {
   "cell_type": "code",
   "execution_count": 0,
   "metadata": {
    "colab": {
     "base_uri": "https://localhost:8080/",
     "height": 35
    },
    "colab_type": "code",
    "id": "AG8iY7w4A2jk",
    "outputId": "4483fcf9-4ba3-4089-be1b-8556ecc89fe2"
   },
   "outputs": [
    {
     "name": "stdout",
     "output_type": "stream",
     "text": [
      "[0, 1, 2, 3, 4, 5, 6, 7, 8, 9]\n"
     ]
    }
   ],
   "source": [
    "# Modo normal\n",
    "k = [x for x in range(10)]\n",
    "print(k)"
   ]
  },
  {
   "cell_type": "code",
   "execution_count": 0,
   "metadata": {
    "colab": {
     "base_uri": "https://localhost:8080/",
     "height": 35
    },
    "colab_type": "code",
    "id": "3spuWvwBBHi9",
    "outputId": "0c89fadd-44ac-43ba-d54d-809dcf1641fe"
   },
   "outputs": [
    {
     "name": "stdout",
     "output_type": "stream",
     "text": [
      "[0, 3, 6, 9]\n"
     ]
    }
   ],
   "source": [
    "# Podemos adicionar ou não itens usando if / else\n",
    "k = [x for x in range(10) if x % 3 == 0]\n",
    "print(k)"
   ]
  },
  {
   "cell_type": "code",
   "execution_count": 0,
   "metadata": {
    "colab": {
     "base_uri": "https://localhost:8080/",
     "height": 53
    },
    "colab_type": "code",
    "id": "Y5oduHT9BhwX",
    "outputId": "1154f766-8c24-442d-d8bc-4326e59a8aaf"
   },
   "outputs": [
    {
     "name": "stdout",
     "output_type": "stream",
     "text": [
      "<class 'list'>\n",
      "[1, '1', '2', 27, '4', '5', 46656, '7', '8', 387420489]\n"
     ]
    }
   ],
   "source": [
    "k = [x**x if x % 3 == 0 else str(x) for x in range(10)]\n",
    "print(type(k))\n",
    "print(k)"
   ]
  },
  {
   "cell_type": "markdown",
   "metadata": {
    "colab_type": "text",
    "id": "F2KhJQy1BR2v"
   },
   "source": [
    "### Dictionary Comprehensions"
   ]
  },
  {
   "cell_type": "code",
   "execution_count": 0,
   "metadata": {
    "colab": {
     "base_uri": "https://localhost:8080/",
     "height": 53
    },
    "colab_type": "code",
    "id": "Gnl1Q67oCvVH",
    "outputId": "f1aff09a-a361-450f-ba94-a6202f07e6e3"
   },
   "outputs": [
    {
     "name": "stdout",
     "output_type": "stream",
     "text": [
      "<class 'dict'>\n",
      "{'0': 0, '1': 1, '2': 2, '3': 3, '4': 4, '5': 5, '6': 6, '7': 7, '8': 8, '9': 9}\n"
     ]
    }
   ],
   "source": [
    "k = {str(i): x for i, x in enumerate(range(10))}\n",
    "print(type(k))\n",
    "print(k)"
   ]
  },
  {
   "cell_type": "markdown",
   "metadata": {
    "colab_type": "text",
    "id": "HJkCAOq1QY0K"
   },
   "source": [
    "### Set Comprehensions"
   ]
  },
  {
   "cell_type": "code",
   "execution_count": 0,
   "metadata": {
    "colab": {
     "base_uri": "https://localhost:8080/",
     "height": 53
    },
    "colab_type": "code",
    "id": "ZD6yJUcMCvgS",
    "outputId": "8b25dd5f-d813-4616-adfa-d76dd8b84c80"
   },
   "outputs": [
    {
     "name": "stdout",
     "output_type": "stream",
     "text": [
      "<class 'set'>\n",
      "{0, 1, 2, 3, 4, 5, 6, 7, 8, 9}\n"
     ]
    }
   ],
   "source": [
    "k = {x for x in range(10)}\n",
    "print(type(k))\n",
    "print(k)"
   ]
  },
  {
   "cell_type": "markdown",
   "metadata": {
    "colab_type": "text",
    "id": "rjvK-AYO86EH"
   },
   "source": [
    "**Exercício 2: Revisitando FATORIAL**\n",
    "\n",
    "[Fatorial](https://pt.wikipedia.org/wiki/Fatorial)\n",
    "\n",
    "Crie uma função para gerar o fatorial de qualquer número. Entretanto ao invés de chamarmos novamente a função fatorial, vamos armazenar o resultados e reutilizá-los, evitando assim novos processamento desnecessários."
   ]
  },
  {
   "cell_type": "code",
   "execution_count": 33,
   "metadata": {
    "colab": {
     "base_uri": "https://localhost:8080/",
     "height": 88
    },
    "colab_type": "code",
    "id": "J6RExldZ9OV4",
    "outputId": "38f9c8e5-b065-42da-ff19-61056a104d22"
   },
   "outputs": [
    {
     "name": "stdout",
     "output_type": "stream",
     "text": [
      "fatorial de 250:  2432902008176640000\n",
      "0:00:00.001200\n",
      "fatorial de 250:  2432902008176640000\n",
      "0:00:00.000448\n"
     ]
    }
   ],
   "source": [
    "# RESOLUÇÃO\n",
    "\n",
    "import datetime\n",
    "\n",
    "k = {}\n",
    "\n",
    "def fat(x=0):\n",
    "    m = x\n",
    "    # Método de parada x <= 1\n",
    "    if x > 1:\n",
    "        if x in k.keys():\n",
    "            m = k[x]\n",
    "        else:\n",
    "            # Recursividade é gerada...\n",
    "            m = fat(x-1) * x\n",
    "            k[x] = m\n",
    "            x -= 1\n",
    "    return m\n",
    "\n",
    "\n",
    "s = datetime.datetime.now()\n",
    "print('fatorial de 250: ', fat(20))\n",
    "assert fat(20) == 2432902008176640000\n",
    "e = datetime.datetime.now()\n",
    "print(e - s)\n",
    "\n",
    "s = datetime.datetime.now()\n",
    "print('fatorial de 250: ', fat(20))\n",
    "assert fat(20) == 2432902008176640000\n",
    "e = datetime.datetime.now()\n",
    "print(e - s)"
   ]
  },
  {
   "cell_type": "markdown",
   "metadata": {
    "colab_type": "text",
    "id": "M_UT-EuIuuo9"
   },
   "source": [
    "## File I/O\n",
    "\n",
    "Em python é muito simples trabalhar com arquivos."
   ]
  },
  {
   "cell_type": "code",
   "execution_count": 0,
   "metadata": {
    "colab": {},
    "colab_type": "code",
    "id": "0FY9TTqPRY3L"
   },
   "outputs": [],
   "source": [
    "!wget https://raw.githubusercontent.com/rdenadai/raspi-rdenadai-home/master/bash/vnstat_logger.sh\n",
    "!ls"
   ]
  },
  {
   "cell_type": "code",
   "execution_count": 0,
   "metadata": {
    "colab": {
     "base_uri": "https://localhost:8080/",
     "height": 249
    },
    "colab_type": "code",
    "id": "-CVl5gXxODGB",
    "outputId": "ea988421-dbc6-45ba-dedf-32529f4f9cf3"
   },
   "outputs": [
    {
     "name": "stdout",
     "output_type": "stream",
     "text": [
      "#!/bin/bash\n",
      "\n",
      "IFACE=\"wlx000b8194ebb9\"\n",
      "FILE=\"/home/pi/raspi-rdenadai-home/bash/logs/vnstat.log\"\n",
      "\n",
      "echo \"\" > $FILE\n",
      "echo \"----------------------------------\" >> $FILE\n",
      "date >> $FILE\n",
      "echo \"----------------------------------\" >> $FILE\n",
      "vnstat -i $IFACE -d >> $FILE\n",
      "vnstat -i $IFACE -m >> $FILE\n",
      "\n",
      "\n"
     ]
    }
   ],
   "source": [
    "fh = open('vnstat_logger.sh', 'r')\n",
    "data = fh.read()\n",
    "print(data)\n",
    "fh.close()"
   ]
  },
  {
   "cell_type": "markdown",
   "metadata": {
    "colab_type": "text",
    "id": "O-kTZSpZZSNz"
   },
   "source": [
    "Ler linha a linha o arquivo."
   ]
  },
  {
   "cell_type": "code",
   "execution_count": 0,
   "metadata": {
    "colab": {
     "base_uri": "https://localhost:8080/",
     "height": 446
    },
    "colab_type": "code",
    "id": "KjHpC8zQRWAc",
    "outputId": "49032c1e-3eb0-43c8-85b4-874029b75764"
   },
   "outputs": [
    {
     "name": "stdout",
     "output_type": "stream",
     "text": [
      "0 : #!/bin/bash\n",
      "\n",
      "1 : \n",
      "\n",
      "2 : IFACE=\"wlx000b8194ebb9\"\n",
      "\n",
      "3 : FILE=\"/home/pi/raspi-rdenadai-home/bash/logs/vnstat.log\"\n",
      "\n",
      "4 : \n",
      "\n",
      "5 : echo \"\" > $FILE\n",
      "\n",
      "6 : echo \"----------------------------------\" >> $FILE\n",
      "\n",
      "7 : date >> $FILE\n",
      "\n",
      "8 : echo \"----------------------------------\" >> $FILE\n",
      "\n",
      "9 : vnstat -i $IFACE -d >> $FILE\n",
      "\n",
      "10 : vnstat -i $IFACE -m >> $FILE\n",
      "\n",
      "11 : \n",
      "\n"
     ]
    }
   ],
   "source": [
    "fh = open('vnstat_logger.sh', 'r')\n",
    "for i, line in enumerate(fh.readlines()):\n",
    "    print(i, ':', line)\n",
    "fh.close()"
   ]
  },
  {
   "cell_type": "markdown",
   "metadata": {
    "colab_type": "text",
    "id": "a64U_HvNZ5vJ"
   },
   "source": [
    "Para escrever em um arquivo usa-se a mesma funcionalidade, entretanto exceto de read usamos write."
   ]
  },
  {
   "cell_type": "code",
   "execution_count": 0,
   "metadata": {
    "colab": {
     "base_uri": "https://localhost:8080/",
     "height": 35
    },
    "colab_type": "code",
    "id": "R1Q1yOY2ZbIJ",
    "outputId": "7da06ab2-c863-450e-d90d-4c93111dcd0e"
   },
   "outputs": [
    {
     "name": "stdout",
     "output_type": "stream",
     "text": [
      "hello world"
     ]
    }
   ],
   "source": [
    "fh = open('abc.txt', 'w')\n",
    "fh.write('hello world')\n",
    "fh.close()\n",
    "\n",
    "!cat abc.txt"
   ]
  },
  {
   "cell_type": "markdown",
   "metadata": {
    "colab_type": "text",
    "id": "exahliiMc80O"
   },
   "source": [
    "Usando **Context Manager** para realizar operações de arquivos (**with** statement).\n",
    "\n",
    "Será visto mais a frente como criar e gerenciar Context Manager, entretanto para fazer uso total deles usamos with."
   ]
  },
  {
   "cell_type": "code",
   "execution_count": 0,
   "metadata": {
    "colab": {
     "base_uri": "https://localhost:8080/",
     "height": 35
    },
    "colab_type": "code",
    "id": "oVW1vrI7c1BW",
    "outputId": "ed23ea89-eb73-4dbc-b248-b19d79085f5f"
   },
   "outputs": [
    {
     "name": "stdout",
     "output_type": "stream",
     "text": [
      "hello world from Context Managers\n"
     ]
    }
   ],
   "source": [
    "with open('abc2.txt', 'w') as fh:\n",
    "    fh.write('hello world from Context Managers')\n",
    "\n",
    "with open('abc2.txt', 'r') as fh:\n",
    "    print(fh.read())"
   ]
  },
  {
   "cell_type": "markdown",
   "metadata": {
    "colab_type": "text",
    "id": "Oot1YmNad42t"
   },
   "source": [
    "## Exception Handling\n",
    "\n",
    "A principais exceções da linguagem [python](https://docs.python.org/2/library/exceptions.html):\n",
    "\n",
    " - **Exception** (this is what almost all the others are built off of)\n",
    " - **AttributeError** - Raised when an attribute reference or assignment fails.\n",
    " - **IOError** - Raised when an I/O operation (such as a print statement, the built-in open() function or a method of a file object) fails for an I/O-related reason, e.g., “file not found” or \"disk full\".\n",
    " - **ImportError** - Raised when an import statement fails to find the module definition or when a from... import fails to find a name that is to be imported.\n",
    " - **IndexError** - Raised when a sequence subscript is out of range.\n",
    " - **KeyError** - Raised when a mapping (dictionary) key is not found in the set of existing keys.\n",
    " - **KeyboardInterrupt** - Raised when the user hits the interrupt key (normally Control-C or Delete).\n",
    " - **NameError** - Raised when a local or global name is not found.\n",
    " - **OSError** - Raised when a function returns a system-related error.\n",
    " - **SyntaxError** - Raised when the parser encounters a syntax error.\n",
    " - **TypeError** - Raised when an operation or function is applied to an object of inappropriate type. The associated value is a string giving details about the type mismatch. \n",
    " - **ValueError** - Raised when a built-in operation or function receives an argument that has the right type but an inappropriate value, and the situation is not described by a more precise exception such as IndexError. \n",
    " - **ZeroDivisionError** - Raised when the second argument of a division or modulo operation is zero.\n",
    "\n"
   ]
  },
  {
   "cell_type": "markdown",
   "metadata": {
    "colab_type": "text",
    "id": "STVGtQnmJw9X"
   },
   "source": [
    "### Geral Exception\n",
    "\n",
    "Apesar de não recomendado, podemos realizar o catch de uma exception geral da linguagem."
   ]
  },
  {
   "cell_type": "code",
   "execution_count": 0,
   "metadata": {
    "colab": {
     "base_uri": "https://localhost:8080/",
     "height": 171
    },
    "colab_type": "code",
    "id": "y9oS5XIHdbbL",
    "outputId": "9d8e39e7-aa88-4956-fffe-2998d11e2e6e"
   },
   "outputs": [
    {
     "ename": "NameError",
     "evalue": "ignored",
     "output_type": "error",
     "traceback": [
      "\u001b[0;31m---------------------------------------------------------------------------\u001b[0m",
      "\u001b[0;31mNameError\u001b[0m                                 Traceback (most recent call last)",
      "\u001b[0;32m<ipython-input-1-bca0e2660b9f>\u001b[0m in \u001b[0;36m<module>\u001b[0;34m()\u001b[0m\n\u001b[0;32m----> 1\u001b[0;31m \u001b[0mprint\u001b[0m\u001b[0;34m(\u001b[0m\u001b[0ma\u001b[0m\u001b[0;34m)\u001b[0m\u001b[0;34m\u001b[0m\u001b[0;34m\u001b[0m\u001b[0m\n\u001b[0m",
      "\u001b[0;31mNameError\u001b[0m: name 'a' is not defined"
     ]
    }
   ],
   "source": [
    "print(a)"
   ]
  },
  {
   "cell_type": "markdown",
   "metadata": {
    "colab_type": "text",
    "id": "maMGhLHpJ8eQ"
   },
   "source": [
    "### Exceção pelo nome"
   ]
  },
  {
   "cell_type": "code",
   "execution_count": 0,
   "metadata": {
    "colab": {
     "base_uri": "https://localhost:8080/",
     "height": 35
    },
    "colab_type": "code",
    "id": "3JgR-OFOJWUc",
    "outputId": "cb33b686-bd8b-4b79-a6dc-bad9dc17bb01"
   },
   "outputs": [
    {
     "name": "stdout",
     "output_type": "stream",
     "text": [
      "Handled Exception\n"
     ]
    }
   ],
   "source": [
    "try:\n",
    "    print(a)\n",
    "except:\n",
    "    print('Handled Exception')"
   ]
  },
  {
   "cell_type": "markdown",
   "metadata": {
    "colab_type": "text",
    "id": "WgDgIOKOKEA-"
   },
   "source": [
    "### Múltiplas exceções"
   ]
  },
  {
   "cell_type": "code",
   "execution_count": 0,
   "metadata": {
    "colab": {
     "base_uri": "https://localhost:8080/",
     "height": 35
    },
    "colab_type": "code",
    "id": "IQ8lPlZ0JdXr",
    "outputId": "80927b1d-b3b0-4da7-c1ed-4ba124d8d845"
   },
   "outputs": [
    {
     "name": "stdout",
     "output_type": "stream",
     "text": [
      "KeyError or IndexError handled exception : KeyError('c',)\n"
     ]
    }
   ],
   "source": [
    "d = {'a': 1, 'b': 2}  # , 'c': 3}\n",
    "l = [0, 1, 2]\n",
    "try:\n",
    "    x = d['c'] and l[6]\n",
    "except (KeyError, IndexError) as e:\n",
    "    print(f'KeyError or IndexError handled\n",
    "          exception : {repr(e)}')"
   ]
  },
  {
   "cell_type": "markdown",
   "metadata": {
    "colab_type": "text",
    "id": "Z0DicBYdJwCO"
   },
   "source": [
    "### Finally e Else\n",
    "\n",
    "Nos blocos de exceções podemos usar as cláusulas finally e else respectivamente no seguintes casos:\n",
    "\n",
    " - **finally**: O código dentro do finally sempre irá executar no final.\n",
    " - **else**: O código dentro do else, irá sempre executar se nenhuma exceção surgir. Normalmente não será utilizado, e quando for será em casos muito específicos."
   ]
  },
  {
   "cell_type": "code",
   "execution_count": 0,
   "metadata": {
    "colab": {
     "base_uri": "https://localhost:8080/",
     "height": 53
    },
    "colab_type": "code",
    "id": "BW_hwtZQJq4H",
    "outputId": "2c14cdad-ea96-4d66-e81f-dd8b71701070"
   },
   "outputs": [
    {
     "name": "stdout",
     "output_type": "stream",
     "text": [
      "KeyError('c',)\n",
      "Sempre executa!\n"
     ]
    }
   ],
   "source": [
    "d = {'a': 1, 'b': 2}\n",
    "try:\n",
    "    x = d['c']\n",
    "except KeyError as e:\n",
    "    print(repr(e))\n",
    "else:\n",
    "    print('Não executa!')\n",
    "finally:\n",
    "    print('Sempre executa!')"
   ]
  },
  {
   "cell_type": "code",
   "execution_count": 0,
   "metadata": {
    "colab": {
     "base_uri": "https://localhost:8080/",
     "height": 53
    },
    "colab_type": "code",
    "id": "RSv6vIjzMNaD",
    "outputId": "fe82c96d-3880-4cb1-eff6-04b5b469ce01"
   },
   "outputs": [
    {
     "name": "stdout",
     "output_type": "stream",
     "text": [
      "Nenhum erro, vai executar!\n",
      "Sempre executa!\n"
     ]
    }
   ],
   "source": [
    "try:\n",
    "    x = d['a']\n",
    "except KeyError as e:\n",
    "    print(repr(e))\n",
    "else:\n",
    "    print('Nenhum erro, vai executar!')\n",
    "finally:\n",
    "    print('Sempre executa!')"
   ]
  },
  {
   "cell_type": "markdown",
   "metadata": {},
   "source": [
    "### Levantar exceções\n",
    "\n",
    "Em python, podemos criar nossas própris exceções e \"lança-las\" caso a necessidade para informar nossos clientes que um erro ocorreu."
   ]
  },
  {
   "cell_type": "code",
   "execution_count": 2,
   "metadata": {
    "colab": {},
    "colab_type": "code",
    "id": "_NpBXmaOMShb"
   },
   "outputs": [
    {
     "ename": "Exception",
     "evalue": "Houve um erro!",
     "output_type": "error",
     "traceback": [
      "\u001b[0;31m---------------------------------------------------------------------------\u001b[0m",
      "\u001b[0;31mException\u001b[0m                                 Traceback (most recent call last)",
      "\u001b[0;32m<ipython-input-2-0e53d8467274>\u001b[0m in \u001b[0;36m<module>\u001b[0;34m\u001b[0m\n\u001b[0;32m----> 1\u001b[0;31m \u001b[0;32mraise\u001b[0m \u001b[0mException\u001b[0m\u001b[0;34m(\u001b[0m\u001b[0;34m\"Houve um erro!\"\u001b[0m\u001b[0;34m)\u001b[0m\u001b[0;34m\u001b[0m\u001b[0;34m\u001b[0m\u001b[0m\n\u001b[0m",
      "\u001b[0;31mException\u001b[0m: Houve um erro!"
     ]
    }
   ],
   "source": [
    "raise Exception(\"Houve um erro!\")"
   ]
  },
  {
   "cell_type": "code",
   "execution_count": 4,
   "metadata": {},
   "outputs": [
    {
     "ename": "ErroGenerico",
     "evalue": "Ocorreu um erro genérico",
     "output_type": "error",
     "traceback": [
      "\u001b[0;31m---------------------------------------------------------------------------\u001b[0m",
      "\u001b[0;31mErroGenerico\u001b[0m                              Traceback (most recent call last)",
      "\u001b[0;32m<ipython-input-4-36ab9b94a7a4>\u001b[0m in \u001b[0;36m<module>\u001b[0;34m\u001b[0m\n\u001b[1;32m      4\u001b[0m     \u001b[0;32mpass\u001b[0m\u001b[0;34m\u001b[0m\u001b[0;34m\u001b[0m\u001b[0m\n\u001b[1;32m      5\u001b[0m \u001b[0;34m\u001b[0m\u001b[0m\n\u001b[0;32m----> 6\u001b[0;31m \u001b[0;32mraise\u001b[0m \u001b[0mErroGenerico\u001b[0m\u001b[0;34m(\u001b[0m\u001b[0;34m\"Ocorreu um erro genérico\"\u001b[0m\u001b[0;34m)\u001b[0m\u001b[0;34m\u001b[0m\u001b[0;34m\u001b[0m\u001b[0m\n\u001b[0m",
      "\u001b[0;31mErroGenerico\u001b[0m: Ocorreu um erro genérico"
     ]
    }
   ],
   "source": [
    "# Ainda não vimos classes, mas podemos extender de Exception,\n",
    "# para criar uma exceção bem mais específica \n",
    "class ErroGenerico(Exception):\n",
    "    pass\n",
    "\n",
    "raise ErroGenerico(\"Ocorreu um erro genérico\")"
   ]
  },
  {
   "cell_type": "code",
   "execution_count": null,
   "metadata": {},
   "outputs": [],
   "source": []
  }
 ],
 "metadata": {
  "colab": {
   "collapsed_sections": [],
   "name": "Python101.2.ipynb",
   "provenance": [],
   "toc_visible": true,
   "version": "0.3.2"
  },
  "hide_input": false,
  "kernelspec": {
   "display_name": "Python 3",
   "language": "python",
   "name": "python3"
  },
  "language_info": {
   "codemirror_mode": {
    "name": "ipython",
    "version": 3
   },
   "file_extension": ".py",
   "mimetype": "text/x-python",
   "name": "python",
   "nbconvert_exporter": "python",
   "pygments_lexer": "ipython3",
   "version": "3.7.3"
  },
  "toc": {
   "colors": {
    "hover_highlight": "#DAA520",
    "navigate_num": "#000000",
    "navigate_text": "#333333",
    "running_highlight": "#FF0000",
    "selected_highlight": "#FFD700",
    "sidebar_border": "#EEEEEE",
    "wrapper_background": "#FFFFFF"
   },
   "moveMenuLeft": true,
   "nav_menu": {
    "height": "266px",
    "width": "250px"
   },
   "navigate_menu": true,
   "number_sections": true,
   "sideBar": true,
   "threshold": 4,
   "toc_cell": false,
   "toc_section_display": "block",
   "toc_window_display": false,
   "widenNotebook": false
  }
 },
 "nbformat": 4,
 "nbformat_minor": 1
}
