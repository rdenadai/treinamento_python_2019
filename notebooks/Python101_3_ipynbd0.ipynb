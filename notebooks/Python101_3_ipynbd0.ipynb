{
  "nbformat": 4,
  "nbformat_minor": 0,
  "metadata": {
    "colab": {
      "name": "Python101.3.ipynbd0.ipynb",
      "version": "0.3.2",
      "provenance": [],
      "toc_visible": true
    },
    "kernelspec": {
      "name": "python3",
      "display_name": "Python 3"
    }
  },
  "cells": [
    {
      "metadata": {
        "id": "XUIWjez6ItDl",
        "colab_type": "text"
      },
      "cell_type": "markdown",
      "source": [
        "# Python 101.3"
      ]
    },
    {
      "metadata": {
        "id": "Xwdf-428IwnH",
        "colab_type": "text"
      },
      "cell_type": "markdown",
      "source": [
        "## Iniciando em Python\n",
        "\n",
        "Neste notebooks trataremos da instalação do pyenv e seu uso com virtualenv para criar projetos onde a versão do python e suas bibliotecas possam ficar isolados.\n",
        "\n",
        "Importante salientar que todos os comando abaixo foram executados no Google Colaboratory o qual tem alguns problemas na instalação de ambientes virtuais como estes apresentados neste notebook.\n",
        "\n",
        "No final dele, temos todos os comando envolvidos no formato de documentação."
      ]
    },
    {
      "metadata": {
        "id": "5uO45i3hIZxl",
        "colab_type": "text"
      },
      "cell_type": "markdown",
      "source": [
        "## Package Management\n",
        "\n",
        "\n",
        "**virtualenv + pip**\n",
        "\n",
        "- Ambientes python isolados, permitindo a instalação de bibliotecas específicas (versões específicas) para aquele ambiente.\n",
        "\n",
        "[**pyenv**](https://github.com/pyenv/pyenv)\n",
        " - Maneira de se instalar múltiplas versões da linguagem python no computador e conseguir comutar entre elas sem afetar o funcionamento.\n",
        " - Possibilidade de criar sistemas (junto com virtualenv) em determinada versão da linguagem com bibliotecas específicas, sem a necessidade de muita configuração.\n"
      ]
    },
    {
      "metadata": {
        "id": "T_gbd_31JJlh",
        "colab_type": "text"
      },
      "cell_type": "markdown",
      "source": [
        "### Instalando pyenv"
      ]
    },
    {
      "metadata": {
        "id": "QXsdnB2RIKnh",
        "colab_type": "code",
        "colab": {
          "base_uri": "https://localhost:8080/",
          "height": 892
        },
        "outputId": "50ece284-ec2b-46c9-c816-a71059622f1b"
      },
      "cell_type": "code",
      "source": [
        "!curl https://pyenv.run | bash"
      ],
      "execution_count": 1,
      "outputs": [
        {
          "output_type": "stream",
          "text": [
            "  % Total    % Received % Xferd  Average Speed   Time    Time     Time  Current\n",
            "                                 Dload  Upload   Total   Spent    Left  Speed\n",
            "100   259  100   259    0     0     45      0  0:00:05  0:00:05 --:--:--    61\n",
            "Cloning into '/root/.pyenv'...\n",
            "remote: Enumerating objects: 628, done.\u001b[K\n",
            "remote: Counting objects: 100% (628/628), done.\u001b[K\n",
            "remote: Compressing objects: 100% (432/432), done.\u001b[K\n",
            "remote: Total 628 (delta 299), reused 285 (delta 105), pack-reused 0\u001b[K\n",
            "Receiving objects: 100% (628/628), 364.88 KiB | 14.59 MiB/s, done.\n",
            "Resolving deltas: 100% (299/299), done.\n",
            "Cloning into '/root/.pyenv/plugins/pyenv-doctor'...\n",
            "remote: Enumerating objects: 11, done.\u001b[K\n",
            "remote: Counting objects: 100% (11/11), done.\u001b[K\n",
            "remote: Compressing objects: 100% (9/9), done.\u001b[K\n",
            "remote: Total 11 (delta 1), reused 4 (delta 0), pack-reused 0\u001b[K\n",
            "Unpacking objects: 100% (11/11), done.\n",
            "Cloning into '/root/.pyenv/plugins/pyenv-installer'...\n",
            "remote: Enumerating objects: 16, done.\u001b[K\n",
            "remote: Counting objects: 100% (16/16), done.\u001b[K\n",
            "remote: Compressing objects: 100% (13/13), done.\u001b[K\n",
            "remote: Total 16 (delta 1), reused 7 (delta 0), pack-reused 0\u001b[K\n",
            "Unpacking objects: 100% (16/16), done.\n",
            "Cloning into '/root/.pyenv/plugins/pyenv-update'...\n",
            "remote: Enumerating objects: 10, done.\u001b[K\n",
            "remote: Counting objects: 100% (10/10), done.\u001b[K\n",
            "remote: Compressing objects: 100% (6/6), done.\u001b[K\n",
            "remote: Total 10 (delta 1), reused 6 (delta 0), pack-reused 0\u001b[K\n",
            "Unpacking objects: 100% (10/10), done.\n",
            "Cloning into '/root/.pyenv/plugins/pyenv-virtualenv'...\n",
            "remote: Enumerating objects: 57, done.\u001b[K\n",
            "remote: Counting objects: 100% (57/57), done.\u001b[K\n",
            "remote: Compressing objects: 100% (51/51), done.\u001b[K\n",
            "remote: Total 57 (delta 11), reused 21 (delta 0), pack-reused 0\u001b[K\n",
            "Unpacking objects: 100% (57/57), done.\n",
            "Cloning into '/root/.pyenv/plugins/pyenv-which-ext'...\n",
            "remote: Enumerating objects: 10, done.\u001b[K\n",
            "remote: Counting objects: 100% (10/10), done.\u001b[K\n",
            "remote: Compressing objects: 100% (6/6), done.\u001b[K\n",
            "remote: Total 10 (delta 1), reused 6 (delta 0), pack-reused 0\u001b[K\n",
            "Unpacking objects: 100% (10/10), done.\n",
            "\n",
            "\u001b[1mWARNING\u001b[m: seems you still have not added 'pyenv' to the load path.\n",
            "\n",
            "# Load pyenv automatically by adding\n",
            "# the following to ~/.bashrc:\n",
            "\n",
            "export PATH=\"/root/.pyenv/bin:$PATH\"\n",
            "eval \"$(pyenv init -)\"\n",
            "eval \"$(pyenv virtualenv-init -)\"\n"
          ],
          "name": "stdout"
        }
      ]
    },
    {
      "metadata": {
        "id": "NzOHQzIYKND8",
        "colab_type": "text"
      },
      "cell_type": "markdown",
      "source": [
        "Vamos apresentar apenas algumas das versões dos interpretadores python disponíveis para que possamos executar nossos scripts."
      ]
    },
    {
      "metadata": {
        "id": "IPZY3CGFLY5V",
        "colab_type": "code",
        "colab": {
          "base_uri": "https://localhost:8080/",
          "height": 410
        },
        "outputId": "3cde990a-e270-4762-98b6-391dbd4a3b75"
      },
      "cell_type": "code",
      "source": [
        "!sudo apt-get install -y make build-essential libssl-dev zlib1g-dev libbz2-dev \\\n",
        "libreadline-dev libsqlite3-dev wget curl llvm libncurses5-dev libncursesw5-dev \\\n",
        "xz-utils tk-dev libffi-dev liblzma-dev python-openssl git"
      ],
      "execution_count": 16,
      "outputs": [
        {
          "output_type": "stream",
          "text": [
            "Reading package lists... Done\n",
            "Building dependency tree       \n",
            "Reading state information... Done\n",
            "build-essential is already the newest version (12.4ubuntu1).\n",
            "libbz2-dev is already the newest version (1.0.6-8.1).\n",
            "libffi-dev is already the newest version (3.2.1-8).\n",
            "liblzma-dev is already the newest version (5.2.2-1.3).\n",
            "libreadline-dev is already the newest version (7.0-3).\n",
            "libsqlite3-dev is already the newest version (3.22.0-1).\n",
            "make is already the newest version (4.1-9.1ubuntu1).\n",
            "python-openssl is already the newest version (17.5.0-1ubuntu1).\n",
            "xz-utils is already the newest version (5.2.2-1.3).\n",
            "zlib1g-dev is already the newest version (1:1.2.11.dfsg-0ubuntu2).\n",
            "tk-dev is already the newest version (8.6.0+9).\n",
            "curl is already the newest version (7.58.0-2ubuntu3.6).\n",
            "git is already the newest version (1:2.17.1-1ubuntu0.4).\n",
            "libncurses5-dev is already the newest version (6.1-1ubuntu1.18.04).\n",
            "libncursesw5-dev is already the newest version (6.1-1ubuntu1.18.04).\n",
            "libssl-dev is already the newest version (1.1.0g-2ubuntu4.3).\n",
            "wget is already the newest version (1.19.4-1ubuntu2.1).\n",
            "llvm is already the newest version (1:6.0-41~exp5~ubuntu1).\n",
            "0 upgraded, 0 newly installed, 0 to remove and 8 not upgraded.\n"
          ],
          "name": "stdout"
        }
      ]
    },
    {
      "metadata": {
        "id": "ZLv1sEQlJeA-",
        "colab_type": "code",
        "colab": {
          "base_uri": "https://localhost:8080/",
          "height": 178
        },
        "outputId": "b67b2826-966d-4e56-c83c-422cbc7df783"
      },
      "cell_type": "code",
      "source": [
        "!/root/.pyenv/bin/pyenv install --list | grep 3.7"
      ],
      "execution_count": 12,
      "outputs": [
        {
          "output_type": "stream",
          "text": [
            "  2.3.7\n",
            "  3.3.7\n",
            "  3.7.0\n",
            "  3.7-dev\n",
            "  3.7.1\n",
            "  3.7.2\n",
            "  miniconda-3.7.0\n",
            "  miniconda3-3.7.0\n",
            "  stackless-3.3.7\n"
          ],
          "name": "stdout"
        }
      ]
    },
    {
      "metadata": {
        "id": "tZ3-gTSiJ-J6",
        "colab_type": "code",
        "colab": {
          "base_uri": "https://localhost:8080/",
          "height": 106
        },
        "outputId": "56469abc-9fb8-4623-a23f-9f88890dce29"
      },
      "cell_type": "code",
      "source": [
        "!/root/.pyenv/bin/pyenv install 3.7.2"
      ],
      "execution_count": 17,
      "outputs": [
        {
          "output_type": "stream",
          "text": [
            "Downloading Python-3.7.2.tar.xz...\n",
            "-> https://www.python.org/ftp/python/3.7.2/Python-3.7.2.tar.xz\n",
            "Installing Python-3.7.2...\n",
            "Installed Python-3.7.2 to /root/.pyenv/versions/3.7.2\n",
            "\n"
          ],
          "name": "stdout"
        }
      ]
    },
    {
      "metadata": {
        "id": "YA8swvH3O6WN",
        "colab_type": "code",
        "colab": {}
      },
      "cell_type": "code",
      "source": [
        "!/root/.pyenv/bin/pyenv local 3.7.2\n",
        "!/root/.pyenv/bin/pyenv global 3.7.2"
      ],
      "execution_count": 0,
      "outputs": []
    },
    {
      "metadata": {
        "id": "7vFuB81HKuk0",
        "colab_type": "text"
      },
      "cell_type": "markdown",
      "source": [
        "### Instalando virtualenv"
      ]
    },
    {
      "metadata": {
        "id": "VSDn4BegKYgh",
        "colab_type": "code",
        "colab": {
          "base_uri": "https://localhost:8080/",
          "height": 55
        },
        "outputId": "6ee3078b-5fd9-43fc-ae90-b286500f9a3e"
      },
      "cell_type": "code",
      "source": [
        "!/root/.pyenv/shims/pip3.7 install virtualenv"
      ],
      "execution_count": 28,
      "outputs": [
        {
          "output_type": "stream",
          "text": [
            "Requirement already satisfied: virtualenv in /root/.pyenv/versions/3.7.2/lib/python3.7/site-packages (16.4.1)\n"
          ],
          "name": "stdout"
        }
      ]
    },
    {
      "metadata": {
        "id": "uh37Ch4sQL0c",
        "colab_type": "code",
        "colab": {
          "base_uri": "https://localhost:8080/",
          "height": 35
        },
        "outputId": "bf84dee9-625c-4c59-efe8-20362b2ec001"
      },
      "cell_type": "code",
      "source": [
        "!/root/.pyenv/shims/pip3.7 freeze"
      ],
      "execution_count": 32,
      "outputs": [
        {
          "output_type": "stream",
          "text": [
            "virtualenv==16.4.1\n"
          ],
          "name": "stdout"
        }
      ]
    },
    {
      "metadata": {
        "id": "Lctn_ib6Odep",
        "colab_type": "code",
        "colab": {
          "base_uri": "https://localhost:8080/",
          "height": 124
        },
        "outputId": "11be45d5-da65-4eb9-9b60-f34948393c6b"
      },
      "cell_type": "code",
      "source": [
        "!~/.pyenv/shims/python3.7 ~/.pyenv/versions/3.7.2/lib/python3.7/site-packages/virtualenv.py venv --python=/root/.pyenv/shims/python3.7"
      ],
      "execution_count": 31,
      "outputs": [
        {
          "output_type": "stream",
          "text": [
            "Running virtualenv with interpreter /root/.pyenv/shims/python3.7\n",
            "Using base prefix '/root/.pyenv/versions/3.7.2'\n",
            "New python executable in /content/venv/bin/python3.7\n",
            "Also creating executable in /content/venv/bin/python\n",
            "Installing setuptools, pip, wheel...\n",
            "done.\n"
          ],
          "name": "stdout"
        }
      ]
    },
    {
      "metadata": {
        "id": "lPbgjU1_PEKe",
        "colab_type": "code",
        "colab": {
          "base_uri": "https://localhost:8080/",
          "height": 35
        },
        "outputId": "309f3c0f-69c7-4678-984d-aff40b8dd0bb"
      },
      "cell_type": "code",
      "source": [
        "!ls venv/"
      ],
      "execution_count": 34,
      "outputs": [
        {
          "output_type": "stream",
          "text": [
            "bin  include  lib\n"
          ],
          "name": "stdout"
        }
      ]
    },
    {
      "metadata": {
        "id": "GzSnH3VVQR6B",
        "colab_type": "code",
        "colab": {
          "base_uri": "https://localhost:8080/",
          "height": 269
        },
        "outputId": "37506d0c-22d9-486e-d7fe-d6d8757c73af"
      },
      "cell_type": "code",
      "source": [
        "!source venv/bin/activate\n",
        "!/root/.pyenv/shims/pip3.7 install numpy\n",
        "!/root/.pyenv/shims/pip3.7 freeze\n",
        "!deactivate"
      ],
      "execution_count": 44,
      "outputs": [
        {
          "output_type": "stream",
          "text": [
            "Collecting numpy\n",
            "\u001b[?25l  Downloading https://files.pythonhosted.org/packages/61/57/07c49e1a6d2706fb7336b3fb11dd285c1e96535c80833d7524f002f57086/numpy-1.16.1-cp37-cp37m-manylinux1_x86_64.whl (17.3MB)\n",
            "\u001b[K    100% |████████████████████████████████| 17.3MB 2.1MB/s \n",
            "\u001b[?25hInstalling collected packages: numpy\n",
            "Successfully installed numpy-1.16.1\n",
            "certifi==2018.11.29\n",
            "chardet==3.0.4\n",
            "idna==2.8\n",
            "numpy==1.16.1\n",
            "requests==2.21.0\n",
            "urllib3==1.24.1\n",
            "virtualenv==16.4.1\n",
            "/bin/bash: deactivate: command not found\n"
          ],
          "name": "stdout"
        }
      ]
    },
    {
      "metadata": {
        "id": "wdLKM-7NSG3j",
        "colab_type": "text"
      },
      "cell_type": "markdown",
      "source": [
        "## Documentação Final\n",
        "\n",
        "Abaixo segue na ordem os comandos executados. Pela questão de originalmente os comandos serem executados no Google Colaboratory, a documentação abaixo não reflete 100% o funcionamento apresentado préviamente.\n",
        "\n",
        "\n",
        "\n",
        "```bash\n",
        "$> curl https://pyenv.run | bash\n",
        "\n",
        "$> sudo apt-get install -y make build-essential libssl-dev zlib1g-dev libbz2-dev libreadline-dev libsqlite3-dev wget curl llvm libncurses5-dev libncursesw5-dev xz-utils tk-dev libffi-dev liblzma-dev python-openssl git \n",
        "```\n",
        "\n",
        "Depois de instalar o pyenv adicionar as seguintes linhas no ~/.bashrc ou ~/.bash_profile.\n",
        "\n",
        "```bash\n",
        "export PATH=\"/root/.pyenv/bin:$PATH\"\n",
        "eval \"$(pyenv init -)\"\n",
        "eval \"$(pyenv virtualenv-init -)\"\n",
        "```\n",
        "\n",
        "Recarregamos o base e instalamos a versão do python que queremos:\n",
        "\n",
        "```bash\n",
        "$> source ~/.bashrc\n",
        "\n",
        "$> pyenv install 3.7.2\n",
        "```\n",
        "\n",
        "Setamos a nova versão para funcionar localmente no shell onde estamos e podemos instalar o virtualenv usando a ferramenta pip.\n",
        "\n",
        "\n",
        "```bash\n",
        "$> pyenv local 3.7.2\n",
        "\n",
        "$> pip install virtualenv\n",
        "```\n",
        "\n",
        "Feito isso, vamos ativar o ambiente virtual, instalar o que queremos e desativar o ambiente, votando para o ambiente root da máquina.\n",
        "\n",
        "```bash\n",
        "$> source venv/bin/activate\n",
        "\n",
        "$> pip install requests\n",
        "\n",
        "$> pipfreeze\n",
        "\n",
        "$> deactivate\n",
        "```"
      ]
    },
    {
      "metadata": {
        "id": "8HaLCBGLQmBU",
        "colab_type": "code",
        "colab": {}
      },
      "cell_type": "code",
      "source": [
        ""
      ],
      "execution_count": 0,
      "outputs": []
    }
  ]
}