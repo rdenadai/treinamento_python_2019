{
 "cells": [
  {
   "cell_type": "markdown",
   "metadata": {},
   "source": [
    "# Python 201.2"
   ]
  },
  {
   "cell_type": "markdown",
   "metadata": {
    "ExecuteTime": {
     "end_time": "2019-03-21T15:55:37.092390Z",
     "start_time": "2019-03-21T15:55:35.529601Z"
    }
   },
   "source": [
    "## Nível intermediário em Python\n",
    "\n",
    "Os notebooks dessa segunda etapa, focam especificamente em features intermediárias/avançadas da linguagem.\n",
    "\n",
    "Tenha em mente que algumas questões apresentadas neste notebook, farão referência aos arquivos .py encontrados dentro do diretório src no mesmo nível."
   ]
  },
  {
   "cell_type": "markdown",
   "metadata": {},
   "source": [
    "### Iterators\n",
    "\n",
    "Iteradores em python estão por toda parte e são muito utilizados, durante este treinamento já utilizamos vários deles (como listas, tuplas e etc).\n",
    "\n",
    "*\"Em programação de computadores, um iterador se refere tanto ao objeto que permite ao programador percorrer um container, (uma coleção de elementos) particularmente listas, quanto ao padrão de projetos Iterator, no qual um iterador é usado para percorrer um container e acessar seus elementos. O padrão Iterator desacopla os algoritmos dos recipientes, porém em alguns casos, os algoritmos são necessariamente específicos dos containers e, portanto, não podem ser desacoplados.\"* [wiki](https://pt.wikipedia.org/wiki/Iterador)\n",
    "\n",
    "Apesar de podermos utilizar as listas, podemos também de forma explícita percorrer as mesmas."
   ]
  },
  {
   "cell_type": "code",
   "execution_count": 48,
   "metadata": {
    "ExecuteTime": {
     "end_time": "2019-03-21T18:10:02.230898Z",
     "start_time": "2019-03-21T18:10:02.225899Z"
    }
   },
   "outputs": [
    {
     "name": "stdout",
     "output_type": "stream",
     "text": [
      "it:  a\n",
      "it:  b\n",
      "it:  c\n",
      "Exception : StopIteration\n"
     ]
    }
   ],
   "source": [
    "alphabet = iter('abc')\n",
    "while True:\n",
    "    try:\n",
    "        print('it: ', next(alphabet))\n",
    "    except StopIteration as e:\n",
    "        print('Exception : StopIteration')\n",
    "        break"
   ]
  },
  {
   "cell_type": "markdown",
   "metadata": {},
   "source": [
    "Sabendo disso, podemos permitir que uma classe sofra iteração."
   ]
  },
  {
   "cell_type": "code",
   "execution_count": 190,
   "metadata": {
    "ExecuteTime": {
     "end_time": "2019-03-22T10:59:36.438858Z",
     "start_time": "2019-03-22T10:59:36.426408Z"
    }
   },
   "outputs": [
    {
     "name": "stdout",
     "output_type": "stream",
     "text": [
      "Fibonacci Sequence: \n",
      "[0, 1, 1, 2, 3, 5, 8, 13, 21, 34, 55, 89, 144, 233, 377, 610, 987, 1597, 2584, 4181, 6765, 10946]\n",
      "--------------------\n",
      "Restart and iterate over while and next:\n",
      "num 0:  0\n",
      "num 1:  1\n",
      "num 2:  1\n",
      "num 3:  2\n",
      "num 4:  3\n",
      "num 5:  5\n",
      "num 6:  8\n",
      "num 7:  13\n",
      "num 8:  21\n",
      "StopIteration : exception\n"
     ]
    }
   ],
   "source": [
    "# Implementação de Fibonacci baseada na Abordagem Iterativa\n",
    "# https://pt.wikipedia.org/wiki/Sequ%C3%AAncia_de_Fibonacci#Abordagem_iterativa\n",
    "\n",
    "class Fibonacci:\n",
    "    def __init__(self, number):\n",
    "        self.start(number)\n",
    "    \n",
    "    def start(self, number):\n",
    "        self.number = number + 1\n",
    "        self.__index = 0\n",
    "        self.__j = 1\n",
    "        self.__i = 0\n",
    "    \n",
    "    def __iter__(self):\n",
    "        return self\n",
    "    \n",
    "    def __next__(self):\n",
    "        # Fibonacci\n",
    "        t = self.__index\n",
    "        # from 2 to number + 1\n",
    "        if 1 < self.__index <= self.number:\n",
    "            t = self.__i + self.__j\n",
    "            self.__i = self.__j\n",
    "            self.__j = t\n",
    "        # Iterator\n",
    "        if self.__index == self.number:\n",
    "            raise StopIteration\n",
    "        self.__index += 1\n",
    "        return t\n",
    "\n",
    "# 0, 1, 1, 2, 3, 5, 8, 13, 21, 34, 55, 89, 144,233, 377, 610, 987\n",
    "# 1597, 2584, 4181, 6765, 10946\n",
    "\n",
    "fib = Fibonacci(21)\n",
    "nums = []\n",
    "for i in fib:\n",
    "    nums.append(i)\n",
    "print('Fibonacci Sequence: ')\n",
    "print(nums)\n",
    "\n",
    "print('-' * 20)\n",
    "print('Restart and iterate over while and next:')\n",
    "fib.start(8)\n",
    "i = 0\n",
    "while True:\n",
    "    try:\n",
    "        print(f'num {i}: ', next(fib))\n",
    "        i += 1\n",
    "    except StopIteration as si:\n",
    "        print('StopIteration : exception')\n",
    "        break"
   ]
  },
  {
   "cell_type": "markdown",
   "metadata": {},
   "source": [
    "### [Generators](https://docs.python.org/3/tutorial/classes.html#generators)\n",
    "\n",
    "Generators são ferramentas simples que nos permitem criar novos iteradores!\n",
    "\n",
    "Para utilizá-los devemos utilizar a palavras reservada **yield**, acoplando isso dentro de uma função.\n",
    "\n",
    "Os métodos **__iter__** e **__next__** são criados automaticamente quando utilizamos a criação de geradores.\n",
    "\n",
    "E um grande diferencial, é que eles mantém o estado de execução e consomem menos memória em relação a lista, já que nem todos os elementos são previamente gerados, mas sim são gerandos em tempo de execução."
   ]
  },
  {
   "cell_type": "code",
   "execution_count": 228,
   "metadata": {
    "ExecuteTime": {
     "end_time": "2019-03-22T18:57:22.797220Z",
     "start_time": "2019-03-22T18:57:22.791646Z"
    }
   },
   "outputs": [
    {
     "name": "stdout",
     "output_type": "stream",
     "text": [
      "0\n",
      "1\n",
      "2\n",
      "3\n",
      "4\n",
      "5\n",
      "6\n",
      "7\n",
      "8\n",
      "9\n",
      "StopIteration : exception\n"
     ]
    }
   ],
   "source": [
    "# gerado simples\n",
    "def simple_gen(x):\n",
    "    for m in range(x):\n",
    "        yield m\n",
    "\n",
    "m = simple_gen(10)\n",
    "while True:\n",
    "    try:\n",
    "        print(next(m))\n",
    "    except StopIteration as si:\n",
    "        print('StopIteration : exception')\n",
    "        break"
   ]
  },
  {
   "cell_type": "code",
   "execution_count": 238,
   "metadata": {
    "ExecuteTime": {
     "end_time": "2019-03-22T19:02:37.847696Z",
     "start_time": "2019-03-22T19:02:37.842493Z"
    }
   },
   "outputs": [
    {
     "name": "stdout",
     "output_type": "stream",
     "text": [
      "Cat 0\n",
      "Cat 1\n"
     ]
    }
   ],
   "source": [
    "# Exemplo de um gerador criado de objetos\n",
    "class Cat:\n",
    "    def __init__(self, name):\n",
    "        self.name = name\n",
    "\n",
    "def gerador_gatos(num):\n",
    "    for i in range(num):\n",
    "        yield Cat(f'Cat {i}')\n",
    "\n",
    "gc = gerador_gatos(10)\n",
    "print(next(gc).name)\n",
    "print(next(gc).name)"
   ]
  },
  {
   "cell_type": "markdown",
   "metadata": {
    "ExecuteTime": {
     "end_time": "2019-03-22T19:01:08.415329Z",
     "start_time": "2019-03-22T19:01:08.393216Z"
    }
   },
   "source": [
    "O exemplo acima é bem verboso, podemos usar algo parecido com compreensão de listas, mas para geradores."
   ]
  },
  {
   "cell_type": "code",
   "execution_count": 244,
   "metadata": {
    "ExecuteTime": {
     "end_time": "2019-03-22T19:04:54.627773Z",
     "start_time": "2019-03-22T19:04:54.623315Z"
    }
   },
   "outputs": [
    {
     "name": "stdout",
     "output_type": "stream",
     "text": [
      "Type: <class 'generator'>\n",
      "First Iterable item: Cat 0\n"
     ]
    }
   ],
   "source": [
    "gc = (Cat(f'Cat {i}') for i in range(10))\n",
    "print('Type:', type(gc))\n",
    "print('First Iterable item:', next(gc).name)"
   ]
  },
  {
   "cell_type": "markdown",
   "metadata": {},
   "source": [
    "### Coroutines\n",
    "\n",
    "Diferentemente dos geradores as corotinas são generalizações de subrotinas, elas podem consumir dados.\n",
    "\n",
    "Utilizando o operador **yield** podemos criar uma coroutine.\n",
    "\n",
    "Normalmente, são muito utilizadas para processamento em \"paralelo\" (na verdade concorrência) visto que ao chamar multíplas corotinas vai se alterando a execução devido a \"parada\" propiciada pelo operador yield.\n",
    "\n",
    "Nas novas versões da linguagem Python 3.5+, foi adicionado métodos assíncronos, usando async/await... na verdade as coroutines são o coração desse novo método de execução assíncrona na linguagem.\n",
    "\n",
    "Veremos async/await mais a frente no treinamento."
   ]
  },
  {
   "cell_type": "code",
   "execution_count": 92,
   "metadata": {
    "ExecuteTime": {
     "end_time": "2019-05-08T18:39:54.085392Z",
     "start_time": "2019-05-08T18:39:54.076605Z"
    }
   },
   "outputs": [
    {
     "name": "stdout",
     "output_type": "stream",
     "text": [
      "Producing item item: 0\n",
      "Doing work on item: 0\n",
      "Producing item item: 1\n",
      "Doing work on item: 1\n",
      "Producing item item: 2\n",
      "Doing work on item: 2\n",
      "Producing item item: 3\n",
      "Doing work on item: 3\n",
      "Producing item item: 4\n",
      "Doing work on item: 4\n"
     ]
    }
   ],
   "source": [
    "def producer(item):\n",
    "    print(f'Producing item {item}')\n",
    "    yield item\n",
    "\n",
    "def consumer():\n",
    "    while True:\n",
    "        item = list((yield))[0]\n",
    "        print('Doing work on %s' % item)\n",
    "\n",
    "messenger = consumer()\n",
    "next(messenger)\n",
    "for i in range(5):\n",
    "    item = producer(f'item: {i}')\n",
    "    messenger.send(item)"
   ]
  },
  {
   "cell_type": "markdown",
   "metadata": {},
   "source": [
    "### Programação Funcional\n",
    "\n",
    "Apesar do Python suportar algum tipo de programação funcional, originalmente a linguagem não foi construída para este tipo de estrutura, como eu caso de Haskell, Elm, Elixir.\n",
    "\n",
    "Entretanto, funções em Python são First-Class Citizen, existe Closure e algumas outras funções com aspecto funcional, entretanto, não existe necessariamente um paradigma funcional completo na linguagem.\n",
    "\n",
    "Mas vamos explorar melhor os aspectos funcionais da linguagem."
   ]
  },
  {
   "cell_type": "markdown",
   "metadata": {},
   "source": [
    "#### map, reduce, filter e lambda\n",
    "\n",
    "Dentre as funções voltadas para o paradigma funcional temos map, reduce e filter.\n",
    "\n",
    " - **map**: Aplica uma função a cada elemento de uma sequência.\n",
    " - **reduce**: Aplica uma função a cada elemento de uma sequência e agrega a um total.\n",
    " - **filter**: Realiza um filtro de cada elemento dentro da sequência.\n",
    "\n",
    "Outro paradigma é a utilização de lambda expression, que é nada mais nada menos que funções anônimas de escopo restrito que aceitam argumentos e suportam apenas uma expressão."
   ]
  },
  {
   "cell_type": "code",
   "execution_count": 11,
   "metadata": {
    "ExecuteTime": {
     "end_time": "2019-03-21T16:15:44.229694Z",
     "start_time": "2019-03-21T16:15:44.226171Z"
    }
   },
   "outputs": [
    {
     "name": "stdout",
     "output_type": "stream",
     "text": [
      "map : sqrt :  [1, 4, 9, 16, 25, 36, 49]\n"
     ]
    }
   ],
   "source": [
    "# Exemplo de map\n",
    "lista = [1, 2, 3, 4, 5, 6, 7]\n",
    "\n",
    "def sqrt(x):\n",
    "    return x*x\n",
    "\n",
    "print('map : sqrt : ', list(map(sqrt, lista)))"
   ]
  },
  {
   "cell_type": "code",
   "execution_count": 10,
   "metadata": {
    "ExecuteTime": {
     "end_time": "2019-03-21T16:15:26.989416Z",
     "start_time": "2019-03-21T16:15:26.985431Z"
    }
   },
   "outputs": [
    {
     "name": "stdout",
     "output_type": "stream",
     "text": [
      "reduce = 28 : is ok? =>  True\n",
      "reduce = 10 : is ok? =>  True\n"
     ]
    }
   ],
   "source": [
    "# Exemplo de reduce\n",
    "from functools import reduce\n",
    "\n",
    "def add(x, y):\n",
    "    return x + y\n",
    "\n",
    "# (1 + 2) + (3 + 4) + (5 + 6) + 7 = 28\n",
    "print('reduce = 28 : is ok? => ', reduce(add, lista) == 28)\n",
    "# (1 + 2) + (3 + 4) = 10\n",
    "print('reduce = 10 : is ok? => ', reduce(add, [1, 2, 3, 4]) == 10)"
   ]
  },
  {
   "cell_type": "code",
   "execution_count": 24,
   "metadata": {
    "ExecuteTime": {
     "end_time": "2019-03-21T16:18:53.290780Z",
     "start_time": "2019-03-21T16:18:53.286303Z"
    }
   },
   "outputs": [
    {
     "name": "stdout",
     "output_type": "stream",
     "text": [
      "filter, remover None:  [1, 2, 3, 4]\n",
      "filter, gt > 2 only: [3, 4]\n"
     ]
    }
   ],
   "source": [
    "# Exemplo de filter\n",
    "lista = [None, 1, 2, 3, None, 4]\n",
    "\n",
    "def gt(x):\n",
    "    \"\"\"greater than.\"\"\"\n",
    "    if x:\n",
    "        return x > 2\n",
    "    return False\n",
    "\n",
    "print('filter, remover None: ', list(filter(None, lista)))\n",
    "print('filter, gt > 2 only:', list(filter(gt, lista)))"
   ]
  },
  {
   "cell_type": "markdown",
   "metadata": {},
   "source": [
    "Claro, que ao invés de definirmos expressões tão curtas no formato de funções, podemos na verdade definir expressões lambdas para isso."
   ]
  },
  {
   "cell_type": "code",
   "execution_count": 31,
   "metadata": {
    "ExecuteTime": {
     "end_time": "2019-03-21T16:22:40.274245Z",
     "start_time": "2019-03-21T16:22:40.269740Z"
    }
   },
   "outputs": [
    {
     "name": "stdout",
     "output_type": "stream",
     "text": [
      "sqrt:  [1, 4, 9, 16, 25]\n",
      "Soma de [[1, 2], [3, 4]]:  [3, 7]\n"
     ]
    }
   ],
   "source": [
    "print('sqrt: ', list(map(lambda x : x*x, [1, 2, 3, 4, 5])))\n",
    "\n",
    "k = [[1, 2], [3, 4]]\n",
    "# Colocando a função, gerada por lambda em uma variável!\n",
    "sum_up = lambda x : x[0] + x[1]\n",
    "r = list(map(sum_up, k))\n",
    "print(f'Soma de {k}: ', r)"
   ]
  },
  {
   "cell_type": "markdown",
   "metadata": {},
   "source": [
    "#### Closure\n",
    "\n",
    "Closure refere-se a capacidade de se criar funções dentro do escopo de outras funções encapsulando assim determinado comportamento de modo interno apenas.\n",
    "\n",
    "Na prática Closure funciona quase como uma representação mais simples de um objeto. Em javascript nos meados da internet, essa definição de Closures foi muito utilizada (e ainda é muito ainda hoje, principalmente nos frameworks).\n",
    "\n",
    "Closure são bem importantes, pois através desse paradigma podemos definir comportamentos a nossas funções de modo padronizado, e closure é um primeiro passo para o entendimento de decoradores.\n"
   ]
  },
  {
   "cell_type": "code",
   "execution_count": 39,
   "metadata": {
    "ExecuteTime": {
     "end_time": "2019-03-21T16:29:48.483214Z",
     "start_time": "2019-03-21T16:29:48.479477Z"
    }
   },
   "outputs": [
    {
     "name": "stdout",
     "output_type": "stream",
     "text": [
      "resultado:  7\n"
     ]
    }
   ],
   "source": [
    "def master(x):\n",
    "    y = 2\n",
    "    def slave():\n",
    "        return x + y\n",
    "    return slave\n",
    "\n",
    "closure = master(5)\n",
    "print('resultado: ', closure())"
   ]
  },
  {
   "cell_type": "markdown",
   "metadata": {},
   "source": [
    "### Collections\n",
    "\n",
    "Durante muito tempo, dentro da comunidade python existiu (e muitas vezes ainda é muito mencionado nos dias atuais) a menção de que python tem baterias inclusas.\n",
    "\n",
    "Dentre essas baterias inclusas existe o módulo de collections, o qual possui funcionalidades muitos interessantes e que podem facilitar muito a vida do desenvolvedor, para que o mesmo não precise reinvetar a roda!\n",
    "\n",
    "Vamos apresentar alguns dos principais, mas existem muitas outras classes dentro deste módulo. [Veja todos aqui](https://docs.python.org/3.7/library/collections.html).\n",
    "\n",
    " - **namedtuple**\n",
    " - **Counter**"
   ]
  },
  {
   "cell_type": "markdown",
   "metadata": {},
   "source": [
    "#### namedtuple\n",
    "\n",
    "As namedtuple são estruturas bem interessantes, elas fornecem o controle das tuplas, e ao mesmo tempo permitem uma estrutura de dados melhor e mais formatada.\n",
    "\n",
    "Muitas vezes elas são utilizadas para substituir pequenas classes que não possuem ações (métodos). Por esse mesmo motivo, em versões mais novas do Python foi implemetando os objetos com a assinatura de DataClass (que veremos mais a frente).\n",
    "\n",
    "Mesmo assim, namedtuples podem ser uma alternativas viável e interessante!"
   ]
  },
  {
   "cell_type": "code",
   "execution_count": 254,
   "metadata": {
    "ExecuteTime": {
     "end_time": "2019-03-22T19:56:12.555072Z",
     "start_time": "2019-03-22T19:56:12.547291Z"
    }
   },
   "outputs": [
    {
     "name": "stdout",
     "output_type": "stream",
     "text": [
      "Type: <class 'type'>\n",
      "Type: <class '__main__.Person'>\n",
      "Rodolfo\n"
     ]
    }
   ],
   "source": [
    "from collections import namedtuple\n",
    "\n",
    "Person = namedtuple('Person', ['name', 'age', 'gender'])\n",
    "print('Type:', type(Person))\n",
    "\n",
    "rodolfo = Person('Rodolfo', 36, 'Masculino')\n",
    "print('Type:', type(rodolfo))\n",
    "\n",
    "print(rodolfo.name)"
   ]
  },
  {
   "cell_type": "markdown",
   "metadata": {},
   "source": [
    "#### Counter\n",
    "\n",
    "O objeto Counter permite realizar a contagem de hash.\n",
    "\n",
    "Parece uma tarefa estranha, mas caso você possua dicionários com valores, poderia ser meio verboso e chato criar uma rotina para realizar o merge e contagem de seus valores, por este motivo o Counter pode lhe ajudar muito!!!"
   ]
  },
  {
   "cell_type": "code",
   "execution_count": 255,
   "metadata": {
    "ExecuteTime": {
     "end_time": "2019-03-22T19:56:16.899064Z",
     "start_time": "2019-03-22T19:56:16.895326Z"
    }
   },
   "outputs": [
    {
     "name": "stdout",
     "output_type": "stream",
     "text": [
      "Type: <class 'collections.Counter'>\n",
      "Counter({'d': 15, 'a': 11, 'b': 7, 'c': 1})\n"
     ]
    }
   ],
   "source": [
    "from collections import Counter\n",
    "\n",
    "a = Counter({'a': 10, 'b': 5, 'c': 1})\n",
    "b = Counter({'a': 1, 'b': 2, 'c': 0, 'd': 15})\n",
    "\n",
    "print('Type:', type(a))\n",
    "print(a + b)"
   ]
  },
  {
   "cell_type": "markdown",
   "metadata": {},
   "source": [
    "### DataClass ([PEP 557](https://www.python.org/dev/peps/pep-0557))\n",
    "\n",
    "Na nova versão da linguagem (3.7+) temos a implementação da **DataClass**, o qual cria uma **decorador** (que veremos mais a frente como utilizar), para anotar a classe e adicionar diversos métodos já implementados nela.\n",
    "\n",
    "Para efetivamente utilizarmos esta nova feature da linguagem, precisamos também utilizar a nova feature de type annotations (PEP), a qual adicionar tipos estáticos a linguagem python. Entretanto, as type annotations servem apenas como forma de documentação e inferência de tipos das funções para linters da linguagem python acoplados dentro de IDE's (como o PyCharm)."
   ]
  },
  {
   "cell_type": "code",
   "execution_count": 26,
   "metadata": {
    "ExecuteTime": {
     "end_time": "2019-05-07T15:49:49.656036Z",
     "start_time": "2019-05-07T15:49:49.648097Z"
    }
   },
   "outputs": [
    {
     "name": "stdout",
     "output_type": "stream",
     "text": [
      "OldPoint(x=0.0, y=0.0)\n",
      "Point(x=0.0, y=0.0)\n",
      "Equals operation:  True\n",
      "Equals operation:  True\n",
      "Method call: Drawing point at (0.0, 0.0)\n"
     ]
    }
   ],
   "source": [
    "from dataclasses import dataclass\n",
    "\n",
    "# Old class to mimic DataClass\n",
    "class OldPoint:\n",
    "    def __init__(self, x=0.0, y=0.0):\n",
    "        self.x = x\n",
    "        self.y = y\n",
    "    \n",
    "    def __repr__(self):\n",
    "        return f'{self.__class__.__name__}(x={self.x}, y={self.y})'\n",
    "    \n",
    "    def __eq__(self, other):\n",
    "        if other.__class__ is not self.__class__:\n",
    "            return NotImplemented\n",
    "        return other.x == self.x and other.y == self.y\n",
    "\n",
    "    def draw(self):\n",
    "        return (self.x, self.y)\n",
    "\n",
    "# New Python 3.7 DataClass\n",
    "@dataclass\n",
    "class Point:\n",
    "    x: float = 0.0\n",
    "    y: float = 0.0\n",
    "\n",
    "    def draw(self):\n",
    "        return f'Drawing point at ({self.x}, {self.y})'\n",
    "    \n",
    "        \n",
    "po0, po1 = OldPoint(), OldPoint()\n",
    "pn0, pn1 = Point(), Point()\n",
    "print(po0)\n",
    "print(pn0)\n",
    "print('Equals operation: ', po0 == po1)\n",
    "print('Equals operation: ', pn0 == pn1)\n",
    "print('Method call:', pn0.draw())"
   ]
  },
  {
   "cell_type": "markdown",
   "metadata": {},
   "source": [
    "Portanto, uma DataClass, já implementa para nós diversas funcionalidades, que antigamente o desenvolvedor Python deveria manualmente implementar caso quisesse possuir uma classe bem estruturada.\n",
    "\n",
    "É possível ver mais exemplos de uso, e possíveis perigos no uso incorreto, no excelente [Blog Post](https://realpython.com/python-data-classes/) do site Real Python, assim como na [documentação oficial](https://docs.python.org/3/library/dataclasses.html) da linguagem."
   ]
  },
  {
   "cell_type": "code",
   "execution_count": 29,
   "metadata": {
    "ExecuteTime": {
     "end_time": "2019-05-07T15:54:57.957555Z",
     "start_time": "2019-05-07T15:54:57.953103Z"
    }
   },
   "outputs": [
    {
     "name": "stdout",
     "output_type": "stream",
     "text": [
      "Baralho(cartas=[Carta(rank='Q', naipe='Copa'), Carta(rank='A', naipe='Espada')])\n"
     ]
    }
   ],
   "source": [
    "from dataclasses import dataclass\n",
    "from typing import List\n",
    "\n",
    "@dataclass\n",
    "class Carta:\n",
    "    rank: str\n",
    "    naipe: str\n",
    "\n",
    "@dataclass\n",
    "class Baralho:\n",
    "    cartas: List[Carta]\n",
    "        \n",
    "baralho = Baralho([Carta('Q', 'Copa'), Carta('A', 'Espada')])\n",
    "print(baralho)"
   ]
  },
  {
   "cell_type": "markdown",
   "metadata": {},
   "source": [
    "### Decorators\n",
    "\n",
    "Decorador é um design pattern em Python o qual permite que seja adicionada novas funcionalidades a um objeto existente sem modificar sua estrutura.\n",
    "\n",
    "Como funções são cidadãos de primeira classe, elas podem ser passadas como argumentos para serem executadas por outras funções (algo parecido que vimos em Closure).\n",
    "\n",
    "Neste sentido decoradores utilizam \"closures\" para trazer essa funcionalidade de uma forma simplificada.\n",
    "\n",
    "Vejamos um simples exemplo."
   ]
  },
  {
   "cell_type": "code",
   "execution_count": 9,
   "metadata": {
    "ExecuteTime": {
     "end_time": "2019-05-07T19:24:47.428467Z",
     "start_time": "2019-05-07T19:24:47.421170Z"
    }
   },
   "outputs": [
    {
     "name": "stdout",
     "output_type": "stream",
     "text": [
      "Before function...\n",
      "After function...\n",
      "12\n"
     ]
    }
   ],
   "source": [
    "def decorator(fn):\n",
    "    def wrapper(*args, **kwargs):\n",
    "        print('Before function...')\n",
    "        z = fn(*args, **kwargs)\n",
    "        print('After function...')\n",
    "        return z\n",
    "    return wrapper\n",
    "\n",
    "def soma(x, y):\n",
    "    return x + y\n",
    "\n",
    "# Without sintatic sugar \n",
    "dec = decorator(soma)\n",
    "print(dec(10, 2))"
   ]
  },
  {
   "cell_type": "markdown",
   "metadata": {},
   "source": [
    "Na verdade, não precisamos criar toda essa estrutura complexa para nosso decorador, em Python temos uma estrutura sintática mais simples para definir um decorador em uma função.\n",
    "\n",
    "```python\n",
    "@<nome_decorator>\n",
    "```\n",
    "\n",
    "> P.S.: Note que usamos a sintaxe \\*args e \\*\\*kwargs, dessa maneira seria possível passar qualquer quantidade de parâmetros para nossa função, fazendo dessa maneira com que nosso decorador fosse mais genérico!"
   ]
  },
  {
   "cell_type": "code",
   "execution_count": 10,
   "metadata": {
    "ExecuteTime": {
     "end_time": "2019-05-07T19:28:11.038103Z",
     "start_time": "2019-05-07T19:28:11.034606Z"
    }
   },
   "outputs": [
    {
     "name": "stdout",
     "output_type": "stream",
     "text": [
      "Before function...\n",
      "After function...\n",
      "8\n"
     ]
    }
   ],
   "source": [
    "# Examplo\n",
    "@decorator\n",
    "def subtracao(x, y):\n",
    "    return x - y\n",
    "print(subtracao(10, 2))"
   ]
  },
  {
   "cell_type": "markdown",
   "metadata": {},
   "source": [
    "Para se criar uma melhor estrutura de um decorador, a melhor maneira é utilizar o pacote functools e envolver a função de wrapper com o decorador wraps. Isso permite que possamos manter a identidade de nossa função (caso ela tenha de ser inspecionada). Para isso precisamos adicionar duas novas linhas!"
   ]
  },
  {
   "cell_type": "code",
   "execution_count": 17,
   "metadata": {
    "ExecuteTime": {
     "end_time": "2019-05-07T19:37:16.245917Z",
     "start_time": "2019-05-07T19:37:16.239075Z"
    }
   },
   "outputs": [
    {
     "name": "stdout",
     "output_type": "stream",
     "text": [
      "Example using functools: mul\n",
      "Example NOT using functools: wrapper\n"
     ]
    }
   ],
   "source": [
    "# Este import\n",
    "import functools\n",
    "\n",
    "def dec(fn):\n",
    "    # Esta chamada ao decorador da functools\n",
    "    @functools.wraps(fn)\n",
    "    def wrapper(*args, **kwargs):\n",
    "        z = fn(*args, **kwargs)\n",
    "        return z\n",
    "    return wrapper\n",
    "\n",
    "@dec\n",
    "def mul(x, y):\n",
    "    return x * y\n",
    "\n",
    "@decorator\n",
    "def div(x, y):\n",
    "    return x / y\n",
    "\n",
    "print('Example using functools:', mul.__name__)\n",
    "print('Example NOT using functools:', div.__name__)"
   ]
  },
  {
   "cell_type": "markdown",
   "metadata": {},
   "source": [
    "#### Múltiplos decoradores\n",
    "\n",
    "Podemos adicionar múltiplos decoradores, neste sentido eles serão executados na ordem em que foram apresentados. Onde um decorador chama o outro e por fim a função decorada.\n",
    "\n",
    "Por exemplo:"
   ]
  },
  {
   "cell_type": "code",
   "execution_count": 19,
   "metadata": {
    "ExecuteTime": {
     "end_time": "2019-05-07T19:39:51.640901Z",
     "start_time": "2019-05-07T19:39:51.635486Z"
    }
   },
   "outputs": [
    {
     "name": "stdout",
     "output_type": "stream",
     "text": [
      "Second decorator!\n",
      "First decorator!\n",
      "My function\n"
     ]
    }
   ],
   "source": [
    "def first(fn):\n",
    "    # Esta chamada ao decorador da functools\n",
    "    @functools.wraps(fn)\n",
    "    def wrapper(*args, **kwargs):\n",
    "        print('First decorator!')\n",
    "        return fn(*args, **kwargs)\n",
    "    return wrapper\n",
    "\n",
    "def second(fn):\n",
    "    # Esta chamada ao decorador da functools\n",
    "    @functools.wraps(fn)\n",
    "    def wrapper(*args, **kwargs):\n",
    "        print('Second decorator!')\n",
    "        return fn(*args, **kwargs)\n",
    "    return wrapper\n",
    "\n",
    "@second\n",
    "@first\n",
    "def func():\n",
    "    return('My function')\n",
    "    \n",
    "print(func())"
   ]
  },
  {
   "cell_type": "markdown",
   "metadata": {},
   "source": [
    "#### Decoradores que recebem argumentos.\n",
    "\n",
    "Outra funcionalidade bem interessante é a de adicionar parâmetros a serem recebidos nos decoradores, isso é possível, entretanto temos de mudar nossa estrutura do decorador padrão genérico e adicionar uma nova layer a ela."
   ]
  },
  {
   "cell_type": "code",
   "execution_count": 23,
   "metadata": {
    "ExecuteTime": {
     "end_time": "2019-05-07T19:45:12.001051Z",
     "start_time": "2019-05-07T19:45:11.994310Z"
    }
   },
   "outputs": [
    {
     "name": "stdout",
     "output_type": "stream",
     "text": [
      "value of add param: 5\n",
      "Total sum: 5\n"
     ]
    }
   ],
   "source": [
    "def function(add):\n",
    "    def decorator(fn):\n",
    "        @functools.wraps(fn)\n",
    "        def wrapper(*args, **kwargs):\n",
    "            print(f'value of add param: {add}')\n",
    "            return fn(*args, **kwargs) + add\n",
    "        return wrapper\n",
    "    return decorator\n",
    "\n",
    "@function(add=5)\n",
    "def parametros(x, y):\n",
    "    return x + y\n",
    "\n",
    "print('Total sum:', parametros(0, 0))"
   ]
  },
  {
   "cell_type": "code",
   "execution_count": null,
   "metadata": {},
   "outputs": [],
   "source": []
  }
 ],
 "metadata": {
  "hide_input": false,
  "kernelspec": {
   "display_name": "Python 3",
   "language": "python",
   "name": "python3"
  },
  "language_info": {
   "codemirror_mode": {
    "name": "ipython",
    "version": 3
   },
   "file_extension": ".py",
   "mimetype": "text/x-python",
   "name": "python",
   "nbconvert_exporter": "python",
   "pygments_lexer": "ipython3",
   "version": "3.7.3"
  },
  "toc": {
   "colors": {
    "hover_highlight": "#DAA520",
    "navigate_num": "#000000",
    "navigate_text": "#333333",
    "running_highlight": "#FF0000",
    "selected_highlight": "#FFD700",
    "sidebar_border": "#EEEEEE",
    "wrapper_background": "#FFFFFF"
   },
   "moveMenuLeft": true,
   "nav_menu": {
    "height": "166px",
    "width": "250px"
   },
   "navigate_menu": true,
   "number_sections": true,
   "sideBar": true,
   "threshold": 4,
   "toc_cell": false,
   "toc_section_display": "block",
   "toc_window_display": false,
   "widenNotebook": false
  }
 },
 "nbformat": 4,
 "nbformat_minor": 2
}
