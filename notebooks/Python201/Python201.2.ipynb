{
 "cells": [
  {
   "cell_type": "markdown",
   "metadata": {},
   "source": [
    "# Python 201.2"
   ]
  },
  {
   "cell_type": "markdown",
   "metadata": {
    "ExecuteTime": {
     "end_time": "2019-03-21T15:55:37.092390Z",
     "start_time": "2019-03-21T15:55:35.529601Z"
    }
   },
   "source": [
    "## Nível intermediário em Python\n",
    "\n",
    "Os notebooks dessa segunda etapa, focam especificamente em features intermediárias/avançadas da linguagem.\n",
    "\n",
    "Tenha em mente que algumas questões apresentadas neste notebook, farão referência aos arquivos .py encontrados dentro do diretório src no mesmo nível."
   ]
  },
  {
   "cell_type": "markdown",
   "metadata": {},
   "source": [
    "### Iterators\n",
    "\n",
    "Iteradores em python estão por toda parte e são muito utilizados, durante este treinamento já utilizamos vários deles (como listas, tuplas e etc).\n",
    "\n",
    "*\"Em programação de computadores, um iterador se refere tanto ao objeto que permite ao programador percorrer um container, (uma coleção de elementos) particularmente listas, quanto ao padrão de projetos Iterator, no qual um iterador é usado para percorrer um container e acessar seus elementos. O padrão Iterator desacopla os algoritmos dos recipientes, porém em alguns casos, os algoritmos são necessariamente específicos dos containers e, portanto, não podem ser desacoplados.\"* [wiki](https://pt.wikipedia.org/wiki/Iterador)\n",
    "\n",
    "Apesar de podermos utilizar as listas, podemos também de forma explícita percorrer as mesmas."
   ]
  },
  {
   "cell_type": "code",
   "execution_count": 48,
   "metadata": {
    "ExecuteTime": {
     "end_time": "2019-03-21T18:10:02.230898Z",
     "start_time": "2019-03-21T18:10:02.225899Z"
    }
   },
   "outputs": [
    {
     "name": "stdout",
     "output_type": "stream",
     "text": [
      "it:  a\n",
      "it:  b\n",
      "it:  c\n",
      "Exception : StopIteration\n"
     ]
    }
   ],
   "source": [
    "alphabet = iter('abc')\n",
    "while True:\n",
    "    try:\n",
    "        print('it: ', next(alphabet))\n",
    "    except StopIteration as e:\n",
    "        print('Exception : StopIteration')\n",
    "        break"
   ]
  },
  {
   "cell_type": "markdown",
   "metadata": {},
   "source": [
    "Sabendo disso, podemos permitir que uma classe sofra iteração."
   ]
  },
  {
   "cell_type": "code",
   "execution_count": 159,
   "metadata": {
    "ExecuteTime": {
     "end_time": "2019-03-21T20:02:27.954237Z",
     "start_time": "2019-03-21T20:02:27.946535Z"
    }
   },
   "outputs": [
    {
     "name": "stdout",
     "output_type": "stream",
     "text": [
      "[0, 1, 2]\n"
     ]
    }
   ],
   "source": [
    "class Fibonacci:\n",
    "    def __init__(self, number):\n",
    "        self.number = number\n",
    "        self.__index = len(range(number)) + 1\n",
    "        self.__j = 1\n",
    "        self.__i = 0\n",
    "        \n",
    "    def __iter__(self):\n",
    "        return self\n",
    "    \n",
    "    def __next__(self):\n",
    "        # Fibonacci\n",
    "        n = 0\n",
    "        if self.__index <= self.number:\n",
    "            t = self.__i + self.__j\n",
    "            self.__i = self.__j\n",
    "            self.__j = t\n",
    "            n = t\n",
    "        \n",
    "        # Iterator\n",
    "        if self.__index == 0:\n",
    "            raise StopIteration\n",
    "        self.__index -= 1\n",
    "        return n\n",
    "\n",
    "# 0, 1, 1, 2, 3, 5, 8, 13, 21, 34, 55, 89, 144, …\n",
    "fib = []\n",
    "for i in Fibonacci(2):\n",
    "    fib.append(i)\n",
    "print(fib)"
   ]
  },
  {
   "cell_type": "markdown",
   "metadata": {},
   "source": [
    "### Programação Funcional\n",
    "\n",
    "Apesar do Python suportar algum tipo de programação funcional, originalmente a linguagem não foi construída para este tipo de estrutura, como eu caso de Haskell, Elm, Elixir.\n",
    "\n",
    "Entretanto, funções em Python são First-Class Citizen, existe Closure e algumas outras funções com aspecto funcional, entretanto, não existe necessariamente um paradigma funcional completo na linguagem.\n",
    "\n",
    "Mas vamos explorar melhor os aspectos funcionais da linguagem."
   ]
  },
  {
   "cell_type": "markdown",
   "metadata": {},
   "source": [
    "#### map, reduce, filter e lamda\n",
    "\n",
    "Dentre as funções voltadas para o paradigma funcional temos map, reduce e filter.\n",
    "\n",
    " - **map**: Aplica uma função a cada elemento de uma sequência.\n",
    " - **reduce**: Aplica uma função a cada elemento de uma sequência e agrega a um total.\n",
    " - **filter**: Realiza um filtro de cada elemento dentro da sequência.\n",
    "\n",
    "Outro paradigma é a utilização de lambda expression, que é nada mais nada menos que funções anônimas de escopo restrito que aceitam argumentos e suportam apenas uma expressão."
   ]
  },
  {
   "cell_type": "code",
   "execution_count": 11,
   "metadata": {
    "ExecuteTime": {
     "end_time": "2019-03-21T16:15:44.229694Z",
     "start_time": "2019-03-21T16:15:44.226171Z"
    }
   },
   "outputs": [
    {
     "name": "stdout",
     "output_type": "stream",
     "text": [
      "map : sqrt :  [1, 4, 9, 16, 25, 36, 49]\n"
     ]
    }
   ],
   "source": [
    "# Exemplo de map\n",
    "lista = [1, 2, 3, 4, 5, 6, 7]\n",
    "\n",
    "def sqrt(x):\n",
    "    return x*x\n",
    "\n",
    "print('map : sqrt : ', list(map(sqrt, lista)))"
   ]
  },
  {
   "cell_type": "code",
   "execution_count": 10,
   "metadata": {
    "ExecuteTime": {
     "end_time": "2019-03-21T16:15:26.989416Z",
     "start_time": "2019-03-21T16:15:26.985431Z"
    }
   },
   "outputs": [
    {
     "name": "stdout",
     "output_type": "stream",
     "text": [
      "reduce = 28 : is ok? =>  True\n",
      "reduce = 10 : is ok? =>  True\n"
     ]
    }
   ],
   "source": [
    "# Exemplo de reduce\n",
    "from functools import reduce\n",
    "\n",
    "def add(x, y):\n",
    "    return x + y\n",
    "\n",
    "# (1 + 2) + (3 + 4) + (5 + 6) + 7 = 28\n",
    "print('reduce = 28 : is ok? => ', reduce(add, lista) == 28)\n",
    "# (1 + 2) + (3 + 4) = 10\n",
    "print('reduce = 10 : is ok? => ', reduce(add, [1, 2, 3, 4]) == 10)"
   ]
  },
  {
   "cell_type": "code",
   "execution_count": 24,
   "metadata": {
    "ExecuteTime": {
     "end_time": "2019-03-21T16:18:53.290780Z",
     "start_time": "2019-03-21T16:18:53.286303Z"
    }
   },
   "outputs": [
    {
     "name": "stdout",
     "output_type": "stream",
     "text": [
      "filter, remover None:  [1, 2, 3, 4]\n",
      "filter, gt > 2 only: [3, 4]\n"
     ]
    }
   ],
   "source": [
    "# Exemplo de filter\n",
    "lista = [None, 1, 2, 3, None, 4]\n",
    "\n",
    "def gt(x):\n",
    "    \"\"\"greater than.\"\"\"\n",
    "    if x:\n",
    "        return x > 2\n",
    "    return False\n",
    "\n",
    "print('filter, remover None: ', list(filter(None, lista)))\n",
    "print('filter, gt > 2 only:', list(filter(gt, lista)))"
   ]
  },
  {
   "cell_type": "markdown",
   "metadata": {},
   "source": [
    "Claro, que ao invés de definirmos expressões tão curtas no formato de funções, podemos na verdade definir expressões lambdas para isso."
   ]
  },
  {
   "cell_type": "code",
   "execution_count": 31,
   "metadata": {
    "ExecuteTime": {
     "end_time": "2019-03-21T16:22:40.274245Z",
     "start_time": "2019-03-21T16:22:40.269740Z"
    }
   },
   "outputs": [
    {
     "name": "stdout",
     "output_type": "stream",
     "text": [
      "sqrt:  [1, 4, 9, 16, 25]\n",
      "Soma de [[1, 2], [3, 4]]:  [3, 7]\n"
     ]
    }
   ],
   "source": [
    "print('sqrt: ', list(map(lambda x : x*x, [1, 2, 3, 4, 5])))\n",
    "\n",
    "k = [[1, 2], [3, 4]]\n",
    "# Colocando a função, gerada por lambda em uma variável!\n",
    "sum_up = lambda x : x[0] + x[1]\n",
    "r = list(map(sum_up, k))\n",
    "print(f'Soma de {k}: ', r)"
   ]
  },
  {
   "cell_type": "markdown",
   "metadata": {},
   "source": [
    "#### Closure\n",
    "\n",
    "Closure refere-se a capacidade de se criar funções dentro do escopo de outras funções encapsulando assim determinado comportamento de modo interno apenas.\n",
    "\n",
    "Na prática Closure funciona quase como uma representação mais simples de um objeto. Em javascript nos meados da internet, essa definição de Closures foi muito utilizada (e ainda é muito ainda hoje, principalmente nos frameworks).\n",
    "\n",
    "Closure são bem importantes, pois através desse paradigma podemos definir comportamentos a nossas funções de modo padronizado, e closure é um primeiro passo para o entendimento de decoradores.\n"
   ]
  },
  {
   "cell_type": "code",
   "execution_count": 39,
   "metadata": {
    "ExecuteTime": {
     "end_time": "2019-03-21T16:29:48.483214Z",
     "start_time": "2019-03-21T16:29:48.479477Z"
    }
   },
   "outputs": [
    {
     "name": "stdout",
     "output_type": "stream",
     "text": [
      "resultado:  7\n"
     ]
    }
   ],
   "source": [
    "def master(x):\n",
    "    y = 2\n",
    "    def slave():\n",
    "        return x + y\n",
    "    return slave\n",
    "\n",
    "closure = master(5)\n",
    "print('resultado: ', closure())"
   ]
  },
  {
   "cell_type": "markdown",
   "metadata": {},
   "source": [
    "#### DataClass\n",
    "\n",
    "Na nova versão da linguagem (3.7+) temos a implementação da **DataClass**, o qual cria uma **decorador** (que veremos mais a frente como utilizar), para anotar a classe e adicionar diversos métodos já implementados nela."
   ]
  },
  {
   "cell_type": "code",
   "execution_count": null,
   "metadata": {},
   "outputs": [],
   "source": []
  }
 ],
 "metadata": {
  "hide_input": false,
  "kernelspec": {
   "display_name": "Python 3",
   "language": "python",
   "name": "python3"
  },
  "language_info": {
   "codemirror_mode": {
    "name": "ipython",
    "version": 3
   },
   "file_extension": ".py",
   "mimetype": "text/x-python",
   "name": "python",
   "nbconvert_exporter": "python",
   "pygments_lexer": "ipython3",
   "version": "3.7.2"
  },
  "toc": {
   "colors": {
    "hover_highlight": "#DAA520",
    "navigate_num": "#000000",
    "navigate_text": "#333333",
    "running_highlight": "#FF0000",
    "selected_highlight": "#FFD700",
    "sidebar_border": "#EEEEEE",
    "wrapper_background": "#FFFFFF"
   },
   "moveMenuLeft": true,
   "nav_menu": {
    "height": "166px",
    "width": "250px"
   },
   "navigate_menu": true,
   "number_sections": true,
   "sideBar": true,
   "threshold": 4,
   "toc_cell": false,
   "toc_section_display": "block",
   "toc_window_display": false,
   "widenNotebook": false
  }
 },
 "nbformat": 4,
 "nbformat_minor": 2
}
