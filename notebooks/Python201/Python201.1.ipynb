{
 "cells": [
  {
   "cell_type": "markdown",
   "metadata": {},
   "source": [
    "# Python 201.1"
   ]
  },
  {
   "cell_type": "markdown",
   "metadata": {},
   "source": [
    "## Nível intermediário em Python\n",
    "\n",
    "Os notebooks dessa segunda etapa, focam especificamente em features intermediárias/avançadas da linguagem.\n",
    "\n",
    "Tenha em mente que algumas questões apresentadas neste notebook, farão referência aos arquivos .py encontrados dentro do diretório src no mesmo nível."
   ]
  },
  {
   "cell_type": "markdown",
   "metadata": {},
   "source": [
    "### Python Debugger (pdb)\n",
    "\n",
    "Existem diversos debuggers que podem ser utilizados com a linguagem, mas vamos nos ater em usar aqui o [pdb](https://docs.python.org/3/library/pdb.html) que já vem junto com o interpretador da linguagem.\n",
    "\n",
    "Outros debuggers:\n",
    " - [pudb](https://pypi.org/project/pudb/)\n",
    " - [ipdb](https://pypi.org/project/ipdb/)\n",
    "\n",
    " \n",
    "[Lista de comandos](https://docs.python.org/3/library/pdb.html#debugger-commands):\n",
    "\n",
    " - **l**(ist)\n",
    " - **n**(ext)\n",
    " - **d**(own)\n",
    " - **u**(p)\n",
    " - **b**(reak)\n",
    " - **c**(ont(inue))\n",
    " - **q**(uit)"
   ]
  },
  {
   "cell_type": "code",
   "execution_count": 2,
   "metadata": {
    "ExecuteTime": {
     "end_time": "2019-03-18T19:17:50.185942Z",
     "start_time": "2019-03-18T19:17:50.181805Z"
    }
   },
   "outputs": [],
   "source": [
    "import pdb\n",
    "\n",
    "def debugger_old_way(x, y):\n",
    "    z = x + y\n",
    "    pdb.set_trace()\n",
    "    z = z**2\n",
    "    return z\n",
    "\n",
    "\n",
    "def debugger_new_way(x, y):\n",
    "    z = x + y\n",
    "    breakpoint() # New syntax as Python 3.7\n",
    "    z = z**2\n",
    "    return z"
   ]
  },
  {
   "cell_type": "code",
   "execution_count": 3,
   "metadata": {
    "ExecuteTime": {
     "end_time": "2019-03-18T19:19:24.321605Z",
     "start_time": "2019-03-18T19:17:58.509896Z"
    }
   },
   "outputs": [
    {
     "name": "stdout",
     "output_type": "stream",
     "text": [
      "> <ipython-input-2-73fee083f64d>(6)debugger_old_way()\n",
      "-> z = z**2\n",
      "(Pdb) l\n",
      "  1  \timport pdb\n",
      "  2  \t\n",
      "  3  \tdef debugger_old_way(x, y):\n",
      "  4  \t    z = x + y\n",
      "  5  \t    pdb.set_trace()\n",
      "  6  ->\t    z = z**2\n",
      "  7  \t    return z\n",
      "  8  \t\n",
      "  9  \t\n",
      " 10  \tdef debugger_new_way(x, y):\n",
      " 11  \t    z = x + y\n",
      "(Pdb) n\n",
      "> <ipython-input-2-73fee083f64d>(7)debugger_old_way()\n",
      "-> return z\n",
      "(Pdb) l\n",
      "  2  \t\n",
      "  3  \tdef debugger_old_way(x, y):\n",
      "  4  \t    z = x + y\n",
      "  5  \t    pdb.set_trace()\n",
      "  6  \t    z = z**2\n",
      "  7  ->\t    return z\n",
      "  8  \t\n",
      "  9  \t\n",
      " 10  \tdef debugger_new_way(x, y):\n",
      " 11  \t    z = x + y\n",
      " 12  \t    breakpoint()\n",
      "(Pdb) a\n",
      "x = 10\n",
      "y = 2\n",
      "(Pdb) r\n",
      "--Return--\n",
      "> <ipython-input-2-73fee083f64d>(7)debugger_old_way()->144\n",
      "-> return z\n",
      "(Pdb) q\n"
     ]
    },
    {
     "ename": "BdbQuit",
     "evalue": "",
     "output_type": "error",
     "traceback": [
      "\u001b[0;31m---------------------------------------------------------------------------\u001b[0m",
      "\u001b[0;31mBdbQuit\u001b[0m                                   Traceback (most recent call last)",
      "\u001b[0;32m<ipython-input-3-1f3b983d2325>\u001b[0m in \u001b[0;36m<module>\u001b[0;34m\u001b[0m\n\u001b[0;32m----> 1\u001b[0;31m \u001b[0mdebugger_old_way\u001b[0m\u001b[0;34m(\u001b[0m\u001b[0;36m10\u001b[0m\u001b[0;34m,\u001b[0m \u001b[0;36m2\u001b[0m\u001b[0;34m)\u001b[0m\u001b[0;34m\u001b[0m\u001b[0;34m\u001b[0m\u001b[0m\n\u001b[0m",
      "\u001b[0;32m<ipython-input-2-73fee083f64d>\u001b[0m in \u001b[0;36mdebugger_old_way\u001b[0;34m(x, y)\u001b[0m\n\u001b[1;32m      5\u001b[0m     \u001b[0mpdb\u001b[0m\u001b[0;34m.\u001b[0m\u001b[0mset_trace\u001b[0m\u001b[0;34m(\u001b[0m\u001b[0;34m)\u001b[0m\u001b[0;34m\u001b[0m\u001b[0;34m\u001b[0m\u001b[0m\n\u001b[1;32m      6\u001b[0m     \u001b[0mz\u001b[0m \u001b[0;34m=\u001b[0m \u001b[0mz\u001b[0m\u001b[0;34m**\u001b[0m\u001b[0;36m2\u001b[0m\u001b[0;34m\u001b[0m\u001b[0;34m\u001b[0m\u001b[0m\n\u001b[0;32m----> 7\u001b[0;31m     \u001b[0;32mreturn\u001b[0m \u001b[0mz\u001b[0m\u001b[0;34m\u001b[0m\u001b[0;34m\u001b[0m\u001b[0m\n\u001b[0m\u001b[1;32m      8\u001b[0m \u001b[0;34m\u001b[0m\u001b[0m\n\u001b[1;32m      9\u001b[0m \u001b[0;34m\u001b[0m\u001b[0m\n",
      "\u001b[0;32m~/.pyenv/versions/3.7.2/lib/python3.7/bdb.py\u001b[0m in \u001b[0;36mtrace_dispatch\u001b[0;34m(self, frame, event, arg)\u001b[0m\n\u001b[1;32m     90\u001b[0m             \u001b[0;32mreturn\u001b[0m \u001b[0mself\u001b[0m\u001b[0;34m.\u001b[0m\u001b[0mdispatch_call\u001b[0m\u001b[0;34m(\u001b[0m\u001b[0mframe\u001b[0m\u001b[0;34m,\u001b[0m \u001b[0marg\u001b[0m\u001b[0;34m)\u001b[0m\u001b[0;34m\u001b[0m\u001b[0;34m\u001b[0m\u001b[0m\n\u001b[1;32m     91\u001b[0m         \u001b[0;32mif\u001b[0m \u001b[0mevent\u001b[0m \u001b[0;34m==\u001b[0m \u001b[0;34m'return'\u001b[0m\u001b[0;34m:\u001b[0m\u001b[0;34m\u001b[0m\u001b[0;34m\u001b[0m\u001b[0m\n\u001b[0;32m---> 92\u001b[0;31m             \u001b[0;32mreturn\u001b[0m \u001b[0mself\u001b[0m\u001b[0;34m.\u001b[0m\u001b[0mdispatch_return\u001b[0m\u001b[0;34m(\u001b[0m\u001b[0mframe\u001b[0m\u001b[0;34m,\u001b[0m \u001b[0marg\u001b[0m\u001b[0;34m)\u001b[0m\u001b[0;34m\u001b[0m\u001b[0;34m\u001b[0m\u001b[0m\n\u001b[0m\u001b[1;32m     93\u001b[0m         \u001b[0;32mif\u001b[0m \u001b[0mevent\u001b[0m \u001b[0;34m==\u001b[0m \u001b[0;34m'exception'\u001b[0m\u001b[0;34m:\u001b[0m\u001b[0;34m\u001b[0m\u001b[0;34m\u001b[0m\u001b[0m\n\u001b[1;32m     94\u001b[0m             \u001b[0;32mreturn\u001b[0m \u001b[0mself\u001b[0m\u001b[0;34m.\u001b[0m\u001b[0mdispatch_exception\u001b[0m\u001b[0;34m(\u001b[0m\u001b[0mframe\u001b[0m\u001b[0;34m,\u001b[0m \u001b[0marg\u001b[0m\u001b[0;34m)\u001b[0m\u001b[0;34m\u001b[0m\u001b[0;34m\u001b[0m\u001b[0m\n",
      "\u001b[0;32m~/.pyenv/versions/3.7.2/lib/python3.7/bdb.py\u001b[0m in \u001b[0;36mdispatch_return\u001b[0;34m(self, frame, arg)\u001b[0m\n\u001b[1;32m    152\u001b[0m             \u001b[0;32mfinally\u001b[0m\u001b[0;34m:\u001b[0m\u001b[0;34m\u001b[0m\u001b[0;34m\u001b[0m\u001b[0m\n\u001b[1;32m    153\u001b[0m                 \u001b[0mself\u001b[0m\u001b[0;34m.\u001b[0m\u001b[0mframe_returning\u001b[0m \u001b[0;34m=\u001b[0m \u001b[0;32mNone\u001b[0m\u001b[0;34m\u001b[0m\u001b[0;34m\u001b[0m\u001b[0m\n\u001b[0;32m--> 154\u001b[0;31m             \u001b[0;32mif\u001b[0m \u001b[0mself\u001b[0m\u001b[0;34m.\u001b[0m\u001b[0mquitting\u001b[0m\u001b[0;34m:\u001b[0m \u001b[0;32mraise\u001b[0m \u001b[0mBdbQuit\u001b[0m\u001b[0;34m\u001b[0m\u001b[0;34m\u001b[0m\u001b[0m\n\u001b[0m\u001b[1;32m    155\u001b[0m             \u001b[0;31m# The user issued a 'next' or 'until' command.\u001b[0m\u001b[0;34m\u001b[0m\u001b[0;34m\u001b[0m\u001b[0;34m\u001b[0m\u001b[0m\n\u001b[1;32m    156\u001b[0m             \u001b[0;32mif\u001b[0m \u001b[0mself\u001b[0m\u001b[0;34m.\u001b[0m\u001b[0mstopframe\u001b[0m \u001b[0;32mis\u001b[0m \u001b[0mframe\u001b[0m \u001b[0;32mand\u001b[0m \u001b[0mself\u001b[0m\u001b[0;34m.\u001b[0m\u001b[0mstoplineno\u001b[0m \u001b[0;34m!=\u001b[0m \u001b[0;34m-\u001b[0m\u001b[0;36m1\u001b[0m\u001b[0;34m:\u001b[0m\u001b[0;34m\u001b[0m\u001b[0;34m\u001b[0m\u001b[0m\n",
      "\u001b[0;31mBdbQuit\u001b[0m: "
     ]
    }
   ],
   "source": [
    "debugger_old_way(10, 2)"
   ]
  },
  {
   "cell_type": "markdown",
   "metadata": {},
   "source": [
    "É possível chamar o programa em linha de comando, ativando o debugger, para isso basta usar a seguinte sintaxe:\n",
    "\n",
    "```bash\n",
    "$> python -m pdb <programa>\n",
    "```"
   ]
  },
  {
   "cell_type": "markdown",
   "metadata": {},
   "source": [
    "### Orientação a Objetos\n",
    "\n",
    "Orientação a objetos é um paradigma na computação, que provê uma maneira de estrutura programas de computadores para que representem objetos.\n",
    "\n",
    "Python, por ser multi-paradigma, permite que seus programas sejam criados de forma estruturada, orientada a objetos, funcional (em partes bem pequenas) ou uma mistura de todos.\n",
    "\n",
    "No paradigma de orientação ao objetos temos as classes e suas representações que são as instâncias dos objetos.\n",
    "\n",
    "Para definir uma classe em python basta:"
   ]
  },
  {
   "cell_type": "code",
   "execution_count": 1,
   "metadata": {
    "ExecuteTime": {
     "end_time": "2019-03-19T13:26:37.731264Z",
     "start_time": "2019-03-19T13:26:37.728856Z"
    }
   },
   "outputs": [],
   "source": [
    "class Animal:\n",
    "    pass"
   ]
  },
  {
   "cell_type": "markdown",
   "metadata": {},
   "source": [
    "Uma classe pode conter atributos e métodos, os quais representam respectivamente variáveis e funções executadas pelo objeto."
   ]
  },
  {
   "cell_type": "code",
   "execution_count": 148,
   "metadata": {
    "ExecuteTime": {
     "end_time": "2019-03-20T16:31:13.850997Z",
     "start_time": "2019-03-20T16:31:13.843885Z"
    }
   },
   "outputs": [],
   "source": [
    "class Animal:\n",
    "    \n",
    "    # Class Atrribute\n",
    "    species = None\n",
    "    \n",
    "    # Constructor\n",
    "    # Parameters passed to constructor age / gender, with default values!\n",
    "    def __init__(self, age=0, gender='male'):\n",
    "        # Object Attributes\n",
    "        self.age = age\n",
    "        self.gender = gender\n",
    "        self.hungry = False\n",
    "        self.walking = False\n",
    "    \n",
    "    # Object Method\n",
    "    def eat(self):\n",
    "        print('Animal')\n",
    "        self.hungry = False\n",
    "    \n",
    "    def walk(self):\n",
    "        self.walking = True\n",
    "        self.hungry = True\n",
    "    \n",
    "    def stop(self):\n",
    "        self.walking = False\n",
    "    \n",
    "    # Built-in class Method to overload\n",
    "    def __str__(self):\n",
    "        return f'Animal: {self.age}, {self.gender}'"
   ]
  },
  {
   "cell_type": "markdown",
   "metadata": {},
   "source": [
    "Para instanciar uma classe e materializar ela como um objeto, só precisamos executar o seguinte:"
   ]
  },
  {
   "cell_type": "code",
   "execution_count": 149,
   "metadata": {
    "ExecuteTime": {
     "end_time": "2019-03-20T16:31:15.966226Z",
     "start_time": "2019-03-20T16:31:15.961986Z"
    }
   },
   "outputs": [
    {
     "name": "stdout",
     "output_type": "stream",
     "text": [
      "Type:  <class '__main__.Animal'>\n",
      "Repr:  Animal: 0, male\n"
     ]
    }
   ],
   "source": [
    "animal = Animal()\n",
    "print('Type: ', type(animal))\n",
    "print('Repr: ', animal)"
   ]
  },
  {
   "cell_type": "markdown",
   "metadata": {},
   "source": [
    "Para acessar os atributos ou métodos do objeto, só precisamos chamá-los utilizando a sintaxe seguinte."
   ]
  },
  {
   "cell_type": "code",
   "execution_count": 150,
   "metadata": {
    "ExecuteTime": {
     "end_time": "2019-03-20T16:31:17.299095Z",
     "start_time": "2019-03-20T16:31:17.294394Z"
    }
   },
   "outputs": [
    {
     "name": "stdout",
     "output_type": "stream",
     "text": [
      "is hungry?  :  False\n",
      "is walking? :  False\n",
      "is hungry?  :  True\n",
      "is walking? :  True\n",
      "is hungry?  :  True\n",
      "is walking? :  False\n"
     ]
    }
   ],
   "source": [
    "print('is hungry?  : ',  animal.hungry)\n",
    "print('is walking? : ',  animal.walking)\n",
    "animal.walk()\n",
    "print('is hungry?  : ',  animal.hungry)\n",
    "print('is walking? : ',  animal.walking)\n",
    "animal.stop()\n",
    "print('is hungry?  : ',  animal.hungry)\n",
    "print('is walking? : ',  animal.walking)"
   ]
  },
  {
   "cell_type": "markdown",
   "metadata": {},
   "source": [
    "Se quisermos modificar um atributo manualmente só precisamos passar como parâmetro para o atributo da classe o novo valor."
   ]
  },
  {
   "cell_type": "code",
   "execution_count": 151,
   "metadata": {
    "ExecuteTime": {
     "end_time": "2019-03-20T16:31:19.046135Z",
     "start_time": "2019-03-20T16:31:19.042838Z"
    }
   },
   "outputs": [
    {
     "name": "stdout",
     "output_type": "stream",
     "text": [
      "is walking? :  False\n",
      "is walking? :  True\n"
     ]
    }
   ],
   "source": [
    "print('is walking? : ',  animal.walking)\n",
    "animal.walking = True\n",
    "print('is walking? : ',  animal.walking)"
   ]
  },
  {
   "cell_type": "markdown",
   "metadata": {},
   "source": [
    "#### Build in para acessar atributos\n",
    "\n",
    "Em python temos alguns métodos built-in para acessar os atributos das classes (e outros objetos como dicionários), entretanto utilize-os com sabedoria, pois podem vir a ocasionar problemas (principalmente o delattr):\n",
    "\n",
    " - getattr\n",
    " - hasattr\n",
    " - setattr\n",
    " - delattr"
   ]
  },
  {
   "cell_type": "code",
   "execution_count": 152,
   "metadata": {
    "ExecuteTime": {
     "end_time": "2019-03-20T16:31:22.015433Z",
     "start_time": "2019-03-20T16:31:22.010622Z"
    }
   },
   "outputs": [
    {
     "name": "stdout",
     "output_type": "stream",
     "text": [
      "get hungry attr : True\n",
      "has hungry attr : True\n",
      "get hungry attr : False\n",
      "has hungry attr : False\n"
     ]
    }
   ],
   "source": [
    "# Para o getattr pode-se passar um valor default de retorno caso o atributo não exista\n",
    "print('get hungry attr :', getattr(animal, 'hungry', True))\n",
    "print('has hungry attr :', hasattr(animal, 'hungry'))\n",
    "# Seta um novo valor para o atributo\n",
    "setattr(animal, 'hungry', False)\n",
    "print('get hungry attr :', getattr(animal, 'hungry', True))\n",
    "# Apaga o atributo!\n",
    "delattr(animal, 'hungry')\n",
    "print('has hungry attr :', hasattr(animal, 'hungry'))"
   ]
  },
  {
   "cell_type": "markdown",
   "metadata": {},
   "source": [
    "#### Herança\n",
    "\n",
    "Herança, é o termo utilizado para definir uma hierarquia de classes dependentes ou não umas das outras. Essas classes filhas podem sobrescrever ou extender a funcionalidade da classe pai.\n",
    "\n",
    "![Inheritance](../../img/class.gif)\n",
    "\n",
    "Para nossos testes, vamos implementar algumas das classes apresentadas acima no diagrama, montando parcialmente a estrutura (a classe Animal já fora implementada)."
   ]
  },
  {
   "cell_type": "code",
   "execution_count": 153,
   "metadata": {
    "ExecuteTime": {
     "end_time": "2019-03-20T16:31:23.871632Z",
     "start_time": "2019-03-20T16:31:23.867853Z"
    }
   },
   "outputs": [],
   "source": [
    "class Herbivore(Animal):\n",
    "    pass\n",
    "\n",
    "class Carnivore(Animal):\n",
    "    pass\n",
    "\n",
    "class Omnivore(Animal):\n",
    "    pass\n",
    "\n",
    "class Lion(Carnivore):\n",
    "    pass\n",
    "\n",
    "class Man(Omnivore):\n",
    "    pass"
   ]
  },
  {
   "cell_type": "code",
   "execution_count": 154,
   "metadata": {
    "ExecuteTime": {
     "end_time": "2019-03-20T16:31:24.653547Z",
     "start_time": "2019-03-20T16:31:24.650737Z"
    }
   },
   "outputs": [
    {
     "name": "stdout",
     "output_type": "stream",
     "text": [
      "33\n"
     ]
    }
   ],
   "source": [
    "lion = Lion()\n",
    "man = Man(age=33)\n",
    "print(man.age)"
   ]
  },
  {
   "cell_type": "markdown",
   "metadata": {},
   "source": [
    "Como foi possível notar herdamos o comportamento da classe Animal dentro de todas as outras que criamos acima (apesa de elas estarem vazias, sem implementação própria **pass**)."
   ]
  },
  {
   "cell_type": "markdown",
   "metadata": {},
   "source": [
    "#### Herança Múltipla\n",
    "\n",
    "Um dos benefícios da herança é herdarmos os atributos e métodos da classe pai. Em python temos o conceito de herança múltipla, onde podemos herdar o comportamento de múltiplas classes.\n",
    "\n",
    "DISCLAIMER: Em python não existe o conceito de interface, como em outras linguagens de programação, assim como em outras linguagens não temos o conceito de herança múltipla.\n",
    "\n",
    "Para entender melhor isso, vamos reescrever as classes acima."
   ]
  },
  {
   "cell_type": "code",
   "execution_count": 172,
   "metadata": {
    "ExecuteTime": {
     "end_time": "2019-03-20T16:34:47.550197Z",
     "start_time": "2019-03-20T16:34:47.542839Z"
    }
   },
   "outputs": [
    {
     "name": "stdout",
     "output_type": "stream",
     "text": [
      "What a man eat    :  meat\n",
      "What age a man has:  0\n",
      "Animal\n",
      "Carnivore\n"
     ]
    }
   ],
   "source": [
    "class Herbivore(Animal):\n",
    "    def __init__(self):\n",
    "        Animal.__init__(self)\n",
    "        self.food = 'vegetables'\n",
    "    \n",
    "    def eat(self):\n",
    "        super().eat()\n",
    "        print('Herbivore')\n",
    "        self.hungry = False\n",
    "\n",
    "class Carnivore(Animal):\n",
    "    def __init__(self):\n",
    "        Animal.__init__(self)\n",
    "        self.food = 'meat'\n",
    "    \n",
    "    def eat(self):\n",
    "        super().eat()\n",
    "        print('Carnivore')\n",
    "        self.hungry = False\n",
    "\n",
    "class Man(Carnivore, Herbivore):\n",
    "    pass\n",
    "\n",
    "man = Man()\n",
    "print('What a man eat    : ', man.food)\n",
    "print('What age a man has: ', man.age)\n",
    "man.eat()"
   ]
  },
  {
   "cell_type": "markdown",
   "metadata": {},
   "source": [
    "Como é possível perceber se tivermos herança múltipla, devemos claro, chamar os construtores das classes pais se implementarmos o método **__init__** (como nas classes Herbivore e Carnivore) e observar que o valor final de cada atributo é preenchido com a ordem em que colocamos a herança (ordenamos primeiro Carnivore e depois Herbivore).\n",
    "\n",
    "No caso dos métodos o comportamento é um pouco diferente, ao chamarmos **super** na classe Man, e homem ter herança múltipla ele passa por cada método de cada uma das classes implementadas.\n",
    "\n",
    "A correta implementação neste caso deveria chamar a classe pai Animal, explicitamente conforme abaixo."
   ]
  },
  {
   "cell_type": "code",
   "execution_count": 174,
   "metadata": {
    "ExecuteTime": {
     "end_time": "2019-03-20T16:35:45.122359Z",
     "start_time": "2019-03-20T16:35:45.114562Z"
    },
    "scrolled": true
   },
   "outputs": [
    {
     "name": "stdout",
     "output_type": "stream",
     "text": [
      "What a man eat    :  meat\n",
      "What age a man has:  0\n",
      "Animal\n",
      "Carnivore\n"
     ]
    }
   ],
   "source": [
    "class Herbivore(Animal):\n",
    "    def __init__(self):\n",
    "        Animal.__init__(self)\n",
    "        self.food = 'vegetables'\n",
    "    \n",
    "    def eat(self):\n",
    "        Animal.eat(self)\n",
    "        print('Herbivore')\n",
    "        self.hungry = False\n",
    "\n",
    "class Carnivore(Animal):\n",
    "    def __init__(self):\n",
    "        Animal.__init__(self)\n",
    "        self.food = 'meat'\n",
    "    \n",
    "    def eat(self):\n",
    "        Animal.eat(self)\n",
    "        print('Carnivore')\n",
    "        self.hungry = False\n",
    "\n",
    "class Man(Carnivore, Herbivore):\n",
    "    pass\n",
    "\n",
    "man = Man()\n",
    "print('What a man eat    : ', man.food)\n",
    "print('What age a man has: ', man.age)\n",
    "man.eat()"
   ]
  },
  {
   "cell_type": "markdown",
   "metadata": {},
   "source": [
    "#### Métodos estáticos e de classe\n",
    "\n",
    "Existem outras maneiras de se interagir com classes em python, podemos definir métodos estáticos e da classe. Vejamos alguns exemplos concretos."
   ]
  },
  {
   "cell_type": "code",
   "execution_count": 190,
   "metadata": {
    "ExecuteTime": {
     "end_time": "2019-03-20T16:45:48.679103Z",
     "start_time": "2019-03-20T16:45:48.674669Z"
    }
   },
   "outputs": [
    {
     "name": "stdout",
     "output_type": "stream",
     "text": [
      "This is a message \"staticmethod\"\n"
     ]
    }
   ],
   "source": [
    "# Static Method\n",
    "class Logger:\n",
    "    @staticmethod\n",
    "    def info(msg):\n",
    "        print(f'This is a message \"{msg}\"')\n",
    "\n",
    "Logger.info('staticmethod')"
   ]
  },
  {
   "cell_type": "code",
   "execution_count": 192,
   "metadata": {
    "ExecuteTime": {
     "end_time": "2019-03-20T16:47:56.662400Z",
     "start_time": "2019-03-20T16:47:56.657075Z"
    },
    "scrolled": false
   },
   "outputs": [
    {
     "name": "stdout",
     "output_type": "stream",
     "text": [
      "Class reference:  Math\n",
      "Result:  11\n",
      "Class reference:  Math\n",
      "Result:  6\n",
      "Class reference:  Math\n",
      "Result:  8.14\n"
     ]
    }
   ],
   "source": [
    "# Class Method\n",
    "class Math:\n",
    "    # Atributo da classe\n",
    "    pi = 3.14\n",
    "    \n",
    "    # Nos métodos anotados com @classmethod nós temos uma referência a classe\n",
    "    @classmethod\n",
    "    def add(cls, x, y=1):\n",
    "        print('Class reference: ', cls.__name__)\n",
    "        return x + y\n",
    "\n",
    "print('Result: ', Math.add(5, 6))\n",
    "print('Result: ', Math.add(5))\n",
    "print('Result: ', Math.add(5, Math.pi))"
   ]
  },
  {
   "cell_type": "markdown",
   "metadata": {},
   "source": [
    "#### Métodos Especiais (Dunder Methods)\n",
    "\n",
    "Já vimos que podemos definir um método **__str__** o qual retorna a representação em formato de String do que a classe representa. Assim como em muitas outras linguagens, em Python temos outros destes métodos especiais que podem ser sobrecarregados.\n",
    "\n",
    "Segue alguns deles e uma possível implementação.\n",
    "\n",
    " - __str__ : Representação em texto do objeto;\n",
    " - __len__ : Retorna o tamanho do objeto;\n",
    " - __getitem__ : Retorna um item do objeto;\n",
    " - __reversed__ : Objeto em sua ordem reversa;\n",
    " - __eq__, __lt__ : Comparadores;\n",
    " - __add__ : Adição de objetos;\n",
    " - __class__ : Executando na instanciação do objeto;\n",
    " - __enter__, __exit__ : Adicionando suporte a ContextManager; \n"
   ]
  },
  {
   "cell_type": "code",
   "execution_count": 208,
   "metadata": {
    "ExecuteTime": {
     "end_time": "2019-03-20T17:52:00.880116Z",
     "start_time": "2019-03-20T17:52:00.873007Z"
    }
   },
   "outputs": [
    {
     "name": "stdout",
     "output_type": "stream",
     "text": [
      "Addition   :  Complex Number <=> 4+5j\n",
      "Subtraction:  Complex Number <=> -2+4j\n",
      "Equals     :  True\n"
     ]
    }
   ],
   "source": [
    "class Complex:\n",
    "    def __init__(self, real=0, imag=0):\n",
    "        self.real = real\n",
    "        self.imag = imag\n",
    "    \n",
    "    def __add__(self, obj):\n",
    "        r = self.real + obj.real\n",
    "        i = self.imag + obj.imag\n",
    "        return Complex(r, i)\n",
    "    \n",
    "    def __sub__(self, obj):\n",
    "        r = self.real - obj.real\n",
    "        i = self.imag - obj.imag\n",
    "        return Complex(r, i)\n",
    "    \n",
    "    def __eq__(self, obj):\n",
    "        return self.real == obj.real and self.imag == obj.imag\n",
    "    \n",
    "    def __str__(self):\n",
    "        return f'Complex Number <=> {self.real}+{self.imag}j'\n",
    "    \n",
    "print('Addition   : ', Complex(1, 5) + Complex(3))\n",
    "print('Subtraction: ', Complex(1, 5) - Complex(3, 1))\n",
    "print('Equals     : ', Complex(1, 5) == Complex(1, 5))"
   ]
  },
  {
   "cell_type": "code",
   "execution_count": null,
   "metadata": {},
   "outputs": [],
   "source": []
  }
 ],
 "metadata": {
  "hide_input": false,
  "kernelspec": {
   "display_name": "Python 3",
   "language": "python",
   "name": "python3"
  },
  "language_info": {
   "codemirror_mode": {
    "name": "ipython",
    "version": 3
   },
   "file_extension": ".py",
   "mimetype": "text/x-python",
   "name": "python",
   "nbconvert_exporter": "python",
   "pygments_lexer": "ipython3",
   "version": "3.7.2"
  },
  "toc": {
   "colors": {
    "hover_highlight": "#DAA520",
    "navigate_num": "#000000",
    "navigate_text": "#333333",
    "running_highlight": "#FF0000",
    "selected_highlight": "#FFD700",
    "sidebar_border": "#EEEEEE",
    "wrapper_background": "#FFFFFF"
   },
   "moveMenuLeft": true,
   "nav_menu": {
    "height": "0px",
    "width": "250px"
   },
   "navigate_menu": true,
   "number_sections": true,
   "sideBar": true,
   "threshold": 4,
   "toc_cell": false,
   "toc_section_display": "block",
   "toc_window_display": false,
   "widenNotebook": false
  }
 },
 "nbformat": 4,
 "nbformat_minor": 2
}
